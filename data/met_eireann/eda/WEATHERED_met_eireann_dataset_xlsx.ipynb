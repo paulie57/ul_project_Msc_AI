{
 "cells": [
  {
   "cell_type": "markdown",
   "id": "10c2277c-d9ab-45ac-8b9c-9a68e3d9724c",
   "metadata": {},
   "source": [
    "#### Set styling for plotting"
   ]
  },
  {
   "cell_type": "code",
   "execution_count": 16,
   "id": "008257ad-fd71-4beb-a4c5-8589307d01de",
   "metadata": {
    "execution": {
     "iopub.execute_input": "2025-02-01T13:18:44.619823Z",
     "iopub.status.busy": "2025-02-01T13:18:44.619369Z",
     "iopub.status.idle": "2025-02-01T13:18:44.624696Z",
     "shell.execute_reply": "2025-02-01T13:18:44.623950Z",
     "shell.execute_reply.started": "2025-02-01T13:18:44.619803Z"
    }
   },
   "outputs": [],
   "source": [
    "import pandas as pd\n",
    "import matplotlib.pyplot as plt\n",
    "import matplotlib.dates as mdates\n",
    "import matplotlib.ticker as ticker\n",
    "import seaborn as sns\n",
    "sns.set_palette('colorblind')\n",
    "from matplotlib.pyplot import tight_layout\n",
    "# ##SETTING PARAMS FOR MATPLOTLIB FIGURES\n",
    "plt.rcParams.update({\"figure.figsize\": (6, 6),\n",
    "                 \"axes.facecolor\": \"white\",\n",
    "                 \"axes.edgecolor\": \"black\"})\n",
    "plt.rcParams['axes.prop_cycle'] = plt.cycler(color=sns.color_palette('colorblind'))\n",
    "##set font size\n",
    "font = {'family': 'sans-serif',\n",
    "       'weight': 'normal',\n",
    "       'size': 14}\n",
    "plt.rc('font', **font)\n",
    "# ##PANDAS PLOTTING\n",
    "pd.plotting.register_matplotlib_converters()"
   ]
  },
  {
   "cell_type": "markdown",
   "id": "2b1cab69-cc13-4c24-afb1-6b7d84f165a1",
   "metadata": {},
   "source": [
    "#### Step 1: save environment file"
   ]
  },
  {
   "cell_type": "code",
   "execution_count": 17,
   "id": "048045bf-c3cf-4b98-b98b-38e39e78c181",
   "metadata": {
    "execution": {
     "iopub.execute_input": "2025-02-01T13:18:44.625409Z",
     "iopub.status.busy": "2025-02-01T13:18:44.625275Z",
     "iopub.status.idle": "2025-02-01T13:18:45.884692Z",
     "shell.execute_reply": "2025-02-01T13:18:45.883977Z",
     "shell.execute_reply.started": "2025-02-01T13:18:44.625397Z"
    }
   },
   "outputs": [],
   "source": [
    "!conda env export > combined_met_environment.yml"
   ]
  },
  {
   "cell_type": "markdown",
   "id": "18a68556-70f4-43cf-a728-31459c8475b6",
   "metadata": {},
   "source": [
    "#### Step 2: import modules"
   ]
  },
  {
   "cell_type": "code",
   "execution_count": 18,
   "id": "4bb09125-64b0-44e1-8662-d89260501677",
   "metadata": {
    "execution": {
     "iopub.execute_input": "2025-02-01T13:18:45.886660Z",
     "iopub.status.busy": "2025-02-01T13:18:45.886457Z",
     "iopub.status.idle": "2025-02-01T13:18:45.890177Z",
     "shell.execute_reply": "2025-02-01T13:18:45.889632Z",
     "shell.execute_reply.started": "2025-02-01T13:18:45.886639Z"
    }
   },
   "outputs": [],
   "source": [
    "import glob\n",
    "import os\n",
    "import xml.etree.ElementTree as ET\n",
    "from datetime import datetime, timezone\n",
    "from tqdm import tqdm\n",
    "import codecs\n",
    "import csv\n",
    "import pytz"
   ]
  },
  {
   "cell_type": "markdown",
   "id": "37825704-269a-452d-b99c-992ac056e6e4",
   "metadata": {},
   "source": [
    "## INFORMATION\n",
    "This dataset in excel format provices the full year of 2023 adverse wetaher data\n"
   ]
  },
  {
   "cell_type": "markdown",
   "id": "8baafdf0-49ea-40b3-94a6-5c56bd4ea920",
   "metadata": {},
   "source": [
    "#### Step 3: import csv files"
   ]
  },
  {
   "cell_type": "code",
   "execution_count": 19,
   "id": "ce0b8c77-0d0c-4932-b046-5a577a71217a",
   "metadata": {
    "execution": {
     "iopub.execute_input": "2025-02-01T13:18:45.891014Z",
     "iopub.status.busy": "2025-02-01T13:18:45.890845Z",
     "iopub.status.idle": "2025-02-01T13:18:45.893932Z",
     "shell.execute_reply": "2025-02-01T13:18:45.893273Z",
     "shell.execute_reply.started": "2025-02-01T13:18:45.891002Z"
    }
   },
   "outputs": [],
   "source": [
    "data_directory_xl = \"/mnt/hgfs/shared/project_data/met_eireann/National warnings from pdfs_2023.xlsx\"\n",
    "full_path_xl = os.path.abspath(data_directory_xl)"
   ]
  },
  {
   "cell_type": "code",
   "execution_count": 20,
   "id": "7b75719e-a9a5-4591-b08f-c1666d9926c7",
   "metadata": {
    "execution": {
     "iopub.execute_input": "2025-02-01T13:18:45.894740Z",
     "iopub.status.busy": "2025-02-01T13:18:45.894578Z",
     "iopub.status.idle": "2025-02-01T13:18:46.842351Z",
     "shell.execute_reply": "2025-02-01T13:18:46.841724Z",
     "shell.execute_reply.started": "2025-02-01T13:18:45.894725Z"
    }
   },
   "outputs": [],
   "source": [
    "# Read the 2023 excel file\n",
    "df_xl = pd.read_excel(full_path_xl)"
   ]
  },
  {
   "cell_type": "code",
   "execution_count": 21,
   "id": "766bb7b1-f296-4099-b063-ca69f4ffcb1b",
   "metadata": {
    "execution": {
     "iopub.execute_input": "2025-02-01T13:18:46.843366Z",
     "iopub.status.busy": "2025-02-01T13:18:46.842985Z",
     "iopub.status.idle": "2025-02-01T13:18:46.853280Z",
     "shell.execute_reply": "2025-02-01T13:18:46.852686Z",
     "shell.execute_reply.started": "2025-02-01T13:18:46.843350Z"
    }
   },
   "outputs": [
    {
     "data": {
      "text/html": [
       "<div>\n",
       "<style scoped>\n",
       "    .dataframe tbody tr th:only-of-type {\n",
       "        vertical-align: middle;\n",
       "    }\n",
       "\n",
       "    .dataframe tbody tr th {\n",
       "        vertical-align: top;\n",
       "    }\n",
       "\n",
       "    .dataframe thead th {\n",
       "        text-align: right;\n",
       "    }\n",
       "</style>\n",
       "<table border=\"1\" class=\"dataframe\">\n",
       "  <thead>\n",
       "    <tr style=\"text-align: right;\">\n",
       "      <th></th>\n",
       "      <th>Unnamed: 0</th>\n",
       "      <th>Unnamed: 1</th>\n",
       "      <th>unprotect cafo</th>\n",
       "      <th>Unnamed: 3</th>\n",
       "      <th>Unnamed: 4</th>\n",
       "      <th>Unnamed: 5</th>\n",
       "      <th>Unnamed: 6</th>\n",
       "      <th>Unnamed: 7</th>\n",
       "      <th>Unnamed: 8</th>\n",
       "      <th>Unnamed: 9</th>\n",
       "      <th>...</th>\n",
       "      <th>Unnamed: 33</th>\n",
       "      <th>Unnamed: 34</th>\n",
       "      <th>Unnamed: 35</th>\n",
       "      <th>Unnamed: 36</th>\n",
       "      <th>Unnamed: 37</th>\n",
       "      <th>Unnamed: 38</th>\n",
       "      <th>Ulster</th>\n",
       "      <th>Unnamed: 40</th>\n",
       "      <th>Unnamed: 41</th>\n",
       "      <th>Unnamed: 42</th>\n",
       "    </tr>\n",
       "  </thead>\n",
       "  <tbody>\n",
       "    <tr>\n",
       "      <th>0</th>\n",
       "      <td>Total</td>\n",
       "      <td>NaN</td>\n",
       "      <td>NaN</td>\n",
       "      <td>Yellow</td>\n",
       "      <td>Orange</td>\n",
       "      <td>Red</td>\n",
       "      <td>Named</td>\n",
       "      <td>NaN</td>\n",
       "      <td>Ireland</td>\n",
       "      <td>NaN</td>\n",
       "      <td>...</td>\n",
       "      <td>MH</td>\n",
       "      <td>OY</td>\n",
       "      <td>WH</td>\n",
       "      <td>WX</td>\n",
       "      <td>WW</td>\n",
       "      <td>NaN</td>\n",
       "      <td>All</td>\n",
       "      <td>DL</td>\n",
       "      <td>CN</td>\n",
       "      <td>MN</td>\n",
       "    </tr>\n",
       "    <tr>\n",
       "      <th>1</th>\n",
       "      <td>2023-01-01 00:00:00</td>\n",
       "      <td>Fog/Ice</td>\n",
       "      <td>Level: Yellow</td>\n",
       "      <td>243</td>\n",
       "      <td>50</td>\n",
       "      <td>6</td>\n",
       "      <td>0</td>\n",
       "      <td>NaN</td>\n",
       "      <td>0</td>\n",
       "      <td>NaN</td>\n",
       "      <td>...</td>\n",
       "      <td>0</td>\n",
       "      <td>0</td>\n",
       "      <td>0</td>\n",
       "      <td>0</td>\n",
       "      <td>0</td>\n",
       "      <td>NaN</td>\n",
       "      <td>0</td>\n",
       "      <td>0</td>\n",
       "      <td>0</td>\n",
       "      <td>0</td>\n",
       "    </tr>\n",
       "    <tr>\n",
       "      <th>2</th>\n",
       "      <td>NaN</td>\n",
       "      <td>NaN</td>\n",
       "      <td>Type: Fog / Ice</td>\n",
       "      <td>0</td>\n",
       "      <td>0</td>\n",
       "      <td>0</td>\n",
       "      <td>0</td>\n",
       "      <td>NaN</td>\n",
       "      <td>0</td>\n",
       "      <td>NaN</td>\n",
       "      <td>...</td>\n",
       "      <td>0</td>\n",
       "      <td>0</td>\n",
       "      <td>0</td>\n",
       "      <td>0</td>\n",
       "      <td>0</td>\n",
       "      <td>NaN</td>\n",
       "      <td>0</td>\n",
       "      <td>0</td>\n",
       "      <td>0</td>\n",
       "      <td>0</td>\n",
       "    </tr>\n",
       "    <tr>\n",
       "      <th>3</th>\n",
       "      <td>NaN</td>\n",
       "      <td>NaN</td>\n",
       "      <td>Message: Icy stretches along with patches of f...</td>\n",
       "      <td>0</td>\n",
       "      <td>0</td>\n",
       "      <td>0</td>\n",
       "      <td>0</td>\n",
       "      <td>NaN</td>\n",
       "      <td>0</td>\n",
       "      <td>NaN</td>\n",
       "      <td>...</td>\n",
       "      <td>0</td>\n",
       "      <td>0</td>\n",
       "      <td>0</td>\n",
       "      <td>0</td>\n",
       "      <td>0</td>\n",
       "      <td>NaN</td>\n",
       "      <td>0</td>\n",
       "      <td>0</td>\n",
       "      <td>0</td>\n",
       "      <td>0</td>\n",
       "    </tr>\n",
       "    <tr>\n",
       "      <th>4</th>\n",
       "      <td>NaN</td>\n",
       "      <td>NaN</td>\n",
       "      <td>Affected Regions: ireland</td>\n",
       "      <td>0</td>\n",
       "      <td>0</td>\n",
       "      <td>0</td>\n",
       "      <td>0</td>\n",
       "      <td>NaN</td>\n",
       "      <td>1</td>\n",
       "      <td>NaN</td>\n",
       "      <td>...</td>\n",
       "      <td>0</td>\n",
       "      <td>0</td>\n",
       "      <td>0</td>\n",
       "      <td>0</td>\n",
       "      <td>0</td>\n",
       "      <td>NaN</td>\n",
       "      <td>0</td>\n",
       "      <td>0</td>\n",
       "      <td>0</td>\n",
       "      <td>0</td>\n",
       "    </tr>\n",
       "  </tbody>\n",
       "</table>\n",
       "<p>5 rows × 43 columns</p>\n",
       "</div>"
      ],
      "text/plain": [
       "            Unnamed: 0 Unnamed: 1  \\\n",
       "0                Total        NaN   \n",
       "1  2023-01-01 00:00:00    Fog/Ice   \n",
       "2                  NaN        NaN   \n",
       "3                  NaN        NaN   \n",
       "4                  NaN        NaN   \n",
       "\n",
       "                                      unprotect cafo Unnamed: 3 Unnamed: 4  \\\n",
       "0                                                NaN     Yellow     Orange   \n",
       "1                                     Level: Yellow         243         50   \n",
       "2                                   Type: Fog / Ice           0          0   \n",
       "3  Message: Icy stretches along with patches of f...          0          0   \n",
       "4                          Affected Regions: ireland          0          0   \n",
       "\n",
       "  Unnamed: 5 Unnamed: 6  Unnamed: 7 Unnamed: 8  Unnamed: 9  ... Unnamed: 33  \\\n",
       "0        Red      Named         NaN    Ireland         NaN  ...          MH   \n",
       "1          6          0         NaN          0         NaN  ...           0   \n",
       "2          0          0         NaN          0         NaN  ...           0   \n",
       "3          0          0         NaN          0         NaN  ...           0   \n",
       "4          0          0         NaN          1         NaN  ...           0   \n",
       "\n",
       "  Unnamed: 34 Unnamed: 35 Unnamed: 36 Unnamed: 37 Unnamed: 38 Ulster  \\\n",
       "0          OY          WH          WX          WW         NaN    All   \n",
       "1           0           0           0           0         NaN      0   \n",
       "2           0           0           0           0         NaN      0   \n",
       "3           0           0           0           0         NaN      0   \n",
       "4           0           0           0           0         NaN      0   \n",
       "\n",
       "   Unnamed: 40 Unnamed: 41 Unnamed: 42  \n",
       "0           DL          CN          MN  \n",
       "1            0           0           0  \n",
       "2            0           0           0  \n",
       "3            0           0           0  \n",
       "4            0           0           0  \n",
       "\n",
       "[5 rows x 43 columns]"
      ]
     },
     "execution_count": 21,
     "metadata": {},
     "output_type": "execute_result"
    }
   ],
   "source": [
    "df_xl.head()"
   ]
  },
  {
   "cell_type": "code",
   "execution_count": 22,
   "id": "73d7c763-b938-4987-a038-eddce2c25318",
   "metadata": {
    "execution": {
     "iopub.execute_input": "2025-02-01T13:18:46.854037Z",
     "iopub.status.busy": "2025-02-01T13:18:46.853881Z",
     "iopub.status.idle": "2025-02-01T13:18:46.859223Z",
     "shell.execute_reply": "2025-02-01T13:18:46.858629Z",
     "shell.execute_reply.started": "2025-02-01T13:18:46.854025Z"
    }
   },
   "outputs": [
    {
     "data": {
      "text/plain": [
       "244"
      ]
     },
     "execution_count": 22,
     "metadata": {},
     "output_type": "execute_result"
    }
   ],
   "source": [
    "# If your DataFrame is named df, you can filter like this:\n",
    "yellow_events = df_xl.loc[df_xl['Unnamed: 3'] == 1, 'unprotect cafo']\n",
    "orange_events = df_xl.loc[df_xl['Unnamed: 4'] == 1, 'unprotect cafo']\n",
    "\n",
    "# To display the list of texts for yellow events:\n",
    "#print(yellow_events.to_string(index=False))\n",
    "yellow_events.count()"
   ]
  },
  {
   "cell_type": "code",
   "execution_count": 23,
   "id": "5cd370e3-5e59-4279-925c-3171486f9bba",
   "metadata": {
    "execution": {
     "iopub.execute_input": "2025-02-01T13:18:46.860477Z",
     "iopub.status.busy": "2025-02-01T13:18:46.859852Z",
     "iopub.status.idle": "2025-02-01T13:18:46.864381Z",
     "shell.execute_reply": "2025-02-01T13:18:46.863790Z",
     "shell.execute_reply.started": "2025-02-01T13:18:46.860461Z"
    }
   },
   "outputs": [
    {
     "name": "stdout",
     "output_type": "stream",
     "text": [
      "\n",
      "Anomalous yellow events (without 'Level: Yellow'):\n",
      "Status Yellow - Wind warning for Kerry, Clare, ...\n",
      "Status Yellow - Thunderstorm warning for Clare,...\n",
      "Status Yellow - Rain warning for Donegal and Le...\n",
      "          Status Yellow - Wind warning for Donegal\n",
      "           Status Yellow - Ice warning for Ireland\n",
      "Status Yellow Thunderstorm Warning issued Poten...\n",
      "                                            Yellow\n",
      "   Status Yellow - Wind & Rain warning for Ireland\n",
      "           Status Yellow - Fog warning for Ireland\n",
      "                                            yellow\n"
     ]
    }
   ],
   "source": [
    "# Filter out events that contain the string \"Level: Yellow\"\n",
    "yellow_events_filtered = yellow_events[~yellow_events.str.contains(\"Level: Yellow\", na=False)]\n",
    "\n",
    "# Display the filtered events (the anomalies)\n",
    "print(\"\\nAnomalous yellow events (without 'Level: Yellow'):\")\n",
    "print(yellow_events_filtered.to_string(index=False))"
   ]
  },
  {
   "cell_type": "code",
   "execution_count": 24,
   "id": "af6ce807-43fd-487e-b4e7-48cf8de4d7da",
   "metadata": {
    "execution": {
     "iopub.execute_input": "2025-02-01T13:18:46.865168Z",
     "iopub.status.busy": "2025-02-01T13:18:46.864991Z",
     "iopub.status.idle": "2025-02-01T13:18:46.869799Z",
     "shell.execute_reply": "2025-02-01T13:18:46.869195Z",
     "shell.execute_reply.started": "2025-02-01T13:18:46.865155Z"
    }
   },
   "outputs": [
    {
     "name": "stdout",
     "output_type": "stream",
     "text": [
      "\n",
      "Anomalous yellow events (without 'Level: Orange'):\n",
      "       Status Orange - Wind warning for Donegal\n",
      "Status Orange - Rain warning for Cork and Kerry\n"
     ]
    }
   ],
   "source": [
    "# Filter out events that contain the string \"Level: Yellow\"\n",
    "orange_events_filtered = orange_events[~orange_events.str.contains(\"Level: Orange\", na=False)]\n",
    "\n",
    "# Display the filtered events (the anomalies)\n",
    "print(\"\\nAnomalous yellow events (without 'Level: Orange'):\")\n",
    "print(orange_events_filtered.to_string(index=False))"
   ]
  },
  {
   "cell_type": "code",
   "execution_count": null,
   "id": "ffd3dd94-f0ce-4529-acf9-e83d528f983e",
   "metadata": {},
   "outputs": [],
   "source": []
  },
  {
   "cell_type": "markdown",
   "id": "a4d3285b-5a1b-4ad4-8a8f-5c09edc25a12",
   "metadata": {},
   "source": [
    "#### Step 4: process Excel data "
   ]
  },
  {
   "cell_type": "code",
   "execution_count": 30,
   "id": "3f5b8003-da1c-4f39-b405-0b5e995b2567",
   "metadata": {
    "execution": {
     "iopub.execute_input": "2025-02-01T13:21:35.211667Z",
     "iopub.status.busy": "2025-02-01T13:21:35.211435Z",
     "iopub.status.idle": "2025-02-01T13:21:35.225076Z",
     "shell.execute_reply": "2025-02-01T13:21:35.224044Z",
     "shell.execute_reply.started": "2025-02-01T13:21:35.211652Z"
    }
   },
   "outputs": [],
   "source": [
    "def standardize_datetime(date_str):\n",
    "    try:\n",
    "        # Handle special cases first\n",
    "        if '/' in date_str and 'updated' in date_str.lower():\n",
    "            date_str = date_str.split('/')[0].strip()\n",
    "           \n",
    "        if len(date_str.split()) < 3:  # Skip incomplete dates\n",
    "            return None\n",
    "           \n",
    "        formats = [\n",
    "            \"%A %d/%m/%Y %H:%M\",\n",
    "            \"%H:%M %A %d/%m/%Y\",\n",
    "            \"%A %d/%m/%Y %H.%M\", \n",
    "            \"%d/%m/%Y %H:%M\",\n",
    "            \"%d/%m/%Y %H.%M\",\n",
    "            \"%A %d/%m/%Y\"  # Format without time\n",
    "        ]\n",
    "       \n",
    "        for fmt in formats:\n",
    "            try:\n",
    "                dt = datetime.strptime(date_str.strip(), fmt)\n",
    "                return pytz.utc.localize(dt).isoformat()\n",
    "            except ValueError:\n",
    "                continue\n",
    "       \n",
    "        # Last resort - try pandas parsing\n",
    "        return pd.to_datetime(date_str).tz_localize('UTC').isoformat()\n",
    "    except Exception as e:\n",
    "        print(f\"Error converting date {date_str}: {str(e)}\")\n",
    "        return None\n",
    "\n",
    "def transform_warnings_data(df):\n",
    "    processed_data = []\n",
    "    current_event = None\n",
    "    event_texts = []  # This will accumulate all text lines for the current event\n",
    "\n",
    "    # Define the counties (used for affected regions)\n",
    "    counties = {\n",
    "        'Carlow': 0, 'Cavan': 0, 'Clare': 0, 'Cork': 0, 'Donegal': 0,\n",
    "        'Dublin': 0, 'Galway': 0, 'Kerry': 0, 'Kildare': 0, 'Kilkenny': 0,\n",
    "        'Laois': 0, 'Leitrim': 0, 'Limerick': 0, 'Longford': 0, 'Louth': 0,\n",
    "        'Mayo': 0, 'Meath': 0, 'Monaghan': 0, 'Offaly': 0, 'Roscommon': 0,\n",
    "        'Sligo': 0, 'Tipperary': 0, 'Waterford': 0, 'Westmeath': 0,\n",
    "        'Wexford': 0, 'Wicklow': 0\n",
    "    }\n",
    "    \n",
    "    county_map = {\n",
    "        'CK': 'Cork', 'CE': 'Clare', 'KY': 'Kerry', 'LK': 'Limerick', \n",
    "        'TY': 'Tipperary', 'WD': 'Waterford', 'GY': 'Galway', 'LM': 'Leitrim',\n",
    "        'MO': 'Mayo', 'RN': 'Roscommon', 'SO': 'Sligo', 'CW': 'Carlow',\n",
    "        'DN': 'Dublin', 'KE': 'Kildare', 'KK': 'Kilkenny', 'LS': 'Laois',\n",
    "        'LD': 'Longford', 'LH': 'Louth', 'MH': 'Meath', 'OY': 'Offaly',\n",
    "        'WH': 'Westmeath', 'WX': 'Wexford', 'WW': 'Wicklow', 'DL': 'Donegal',\n",
    "        'CN': 'Cavan', 'MN': 'Monaghan'\n",
    "    }\n",
    "    \n",
    "    # Iterate over all rows in the DataFrame.\n",
    "    for _, row in df.iterrows():\n",
    "        # A new event starts when 'Unnamed: 1' is not null.\n",
    "        if pd.notna(row['Unnamed: 1']):\n",
    "            # Finalize the previous event (if any)\n",
    "            if current_event is not None:\n",
    "                combined_text = \" \".join(event_texts).lower()\n",
    "                \n",
    "                # Save the full combined text for debugging, if needed.\n",
    "                current_event['Combined Text'] = \" \".join(event_texts)\n",
    "                \n",
    "                # Skip events that contain the word \"advisory\"\n",
    "                if \"advisory\" not in combined_text:\n",
    "                    if current_event.get('flag_yellow', 0) > 0 and 'yellow' in combined_text:\n",
    "                        current_event['Warning Colour'] = 'Yellow'\n",
    "                    elif current_event.get('flag_orange', 0) > 0 and 'orange' in combined_text:\n",
    "                        current_event['Warning Colour'] = 'Orange'\n",
    "                    elif current_event.get('flag_red', 0) > 0 and 'red' in combined_text:\n",
    "                        current_event['Warning Colour'] = 'Red'\n",
    "                    \n",
    "                    processed_data.append(current_event.copy())\n",
    "            \n",
    "            # Start a new event.\n",
    "            current_event = {}\n",
    "            event_texts = []  # Reset the accumulator\n",
    "            \n",
    "            # Use the value from 'Unnamed: 1' as the initial Warning Element.\n",
    "            current_event['Warning Element'] = row['Unnamed: 1']\n",
    "            current_event.update(counties.copy())\n",
    "            \n",
    "            # Retrieve the flag columns for yellow, orange, and red.\n",
    "            try:\n",
    "                current_event['flag_yellow'] = float(row['Unnamed: 3']) if pd.notna(row['Unnamed: 3']) else 0\n",
    "            except Exception:\n",
    "                current_event['flag_yellow'] = 0\n",
    "            try:\n",
    "                current_event['flag_orange'] = float(row['Unnamed: 4']) if pd.notna(row['Unnamed: 4']) else 0\n",
    "            except Exception:\n",
    "                current_event['flag_orange'] = 0\n",
    "            try:\n",
    "                current_event['flag_red'] = float(row['Unnamed: 5']) if pd.notna(row['Unnamed: 5']) else 0\n",
    "            except Exception:\n",
    "                current_event['flag_red'] = 0\n",
    "            \n",
    "            # If an \"Ireland\" column exists and equals 1, mark all counties.\n",
    "            if 'Ireland' in row.index:\n",
    "                try:\n",
    "                    if float(row['Ireland']) == 1:\n",
    "                        for county in counties.keys():\n",
    "                            current_event[county] = 1\n",
    "                except Exception:\n",
    "                    pass\n",
    "            \n",
    "            # Process the current row's text from \"unprotect cafo\"\n",
    "            text_line = str(row['unprotect cafo']) if pd.notna(row['unprotect cafo']) else \"\"\n",
    "            event_texts.append(text_line)\n",
    "            field = text_line.lower()\n",
    "            if 'type:' in field:\n",
    "                current_event['Warning Element'] = text_line.replace('Type:', '').strip()\n",
    "            elif 'message:' in field:\n",
    "                current_event['Warning Text'] = text_line.replace('Message:', '').strip()\n",
    "            elif 'issue time:' in field:\n",
    "                current_event['Issue Time'] = standardize_datetime(text_line.replace('Issue Time:', '').strip())\n",
    "            elif 'expected onset:' in field:\n",
    "                current_event['Valid From'] = standardize_datetime(text_line.replace('Expected Onset:', '').strip())\n",
    "            elif 'expires:' in field:\n",
    "                current_event['Valid To'] = standardize_datetime(text_line.replace('Expires:', '').strip())\n",
    "            elif 'affected regions:' in field:\n",
    "                regions = text_line.replace('Affected Regions:', '').strip()\n",
    "                if 'ireland' in regions.lower():\n",
    "                    for county in counties.keys():\n",
    "                        current_event[county] = 1\n",
    "                else:\n",
    "                    for abbr, full_name in county_map.items():\n",
    "                        if abbr in row.index and row[abbr] == 1:\n",
    "                            current_event[full_name] = 1\n",
    "        else:\n",
    "            # Continuation row for the current event.\n",
    "            if current_event is not None:\n",
    "                text_line = str(row['unprotect cafo']) if pd.notna(row['unprotect cafo']) else \"\"\n",
    "                event_texts.append(text_line)\n",
    "                field = text_line.lower()\n",
    "                if 'type:' in field:\n",
    "                    current_event['Warning Element'] = text_line.replace('Type:', '').strip()\n",
    "                elif 'message:' in field:\n",
    "                    current_event['Warning Text'] = text_line.replace('Message:', '').strip()\n",
    "                elif 'issue time:' in field:\n",
    "                    current_event['Issue Time'] = standardize_datetime(text_line.replace('Issue Time:', '').strip())\n",
    "                elif 'expected onset:' in field:\n",
    "                    current_event['Valid From'] = standardize_datetime(text_line.replace('Expected Onset:', '').strip())\n",
    "                elif 'expires:' in field:\n",
    "                    current_event['Valid To'] = standardize_datetime(text_line.replace('Expires:', '').strip())\n",
    "                elif 'affected regions:' in field:\n",
    "                    regions = text_line.replace('Affected Regions:', '').strip()\n",
    "                    if 'ireland' in regions.lower():\n",
    "                        for county in counties.keys():\n",
    "                            current_event[county] = 1\n",
    "                    else:\n",
    "                        for abbr, full_name in county_map.items():\n",
    "                            if abbr in row.index and row[abbr] == 1:\n",
    "                                current_event[full_name] = 1\n",
    "                \n",
    "                # Also check for the Ireland flag in continuation rows.\n",
    "                if 'Ireland' in row.index:\n",
    "                    try:\n",
    "                        if float(row['Ireland']) == 1:\n",
    "                            for county in counties.keys():\n",
    "                                current_event[county] = 1\n",
    "                    except Exception:\n",
    "                        pass\n",
    "\n",
    "    # Finalize the last event (if any)\n",
    "    if current_event is not None:\n",
    "        combined_text = \" \".join(event_texts).lower()\n",
    "        current_event['Combined Text'] = \" \".join(event_texts)\n",
    "        if \"advisory\" not in combined_text:\n",
    "            if current_event.get('flag_yellow', 0) > 0 and 'yellow' in combined_text:\n",
    "                current_event['Warning Colour'] = 'Yellow'\n",
    "            elif current_event.get('flag_orange', 0) > 0 and 'orange' in combined_text:\n",
    "                current_event['Warning Colour'] = 'Orange'\n",
    "            elif current_event.get('flag_red', 0) > 0 and 'red' in combined_text:\n",
    "                current_event['Warning Colour'] = 'Red'\n",
    "            processed_data.append(current_event.copy())\n",
    "    \n",
    "    return pd.DataFrame(processed_data)"
   ]
  },
  {
   "cell_type": "code",
   "execution_count": 31,
   "id": "dec949dc-74c4-40fe-b8f5-d4132450c7e8",
   "metadata": {
    "execution": {
     "iopub.execute_input": "2025-02-01T13:21:36.050317Z",
     "iopub.status.busy": "2025-02-01T13:21:36.050073Z",
     "iopub.status.idle": "2025-02-01T13:21:36.214916Z",
     "shell.execute_reply": "2025-02-01T13:21:36.214229Z",
     "shell.execute_reply.started": "2025-02-01T13:21:36.050303Z"
    }
   },
   "outputs": [],
   "source": [
    "df_xlsx = transform_warnings_data(df_xl)"
   ]
  },
  {
   "cell_type": "markdown",
   "id": "f166e127-012c-4804-9b3c-0d4ba0751d77",
   "metadata": {},
   "source": [
    "#### Step 5 : Test and remove provinces, mapping to HSE regions instead"
   ]
  },
  {
   "cell_type": "code",
   "execution_count": 32,
   "id": "9e2049d0-be58-4f74-8bcc-38dd684029cb",
   "metadata": {
    "execution": {
     "iopub.execute_input": "2025-02-01T13:21:37.553548Z",
     "iopub.status.busy": "2025-02-01T13:21:37.553147Z",
     "iopub.status.idle": "2025-02-01T13:21:37.571988Z",
     "shell.execute_reply": "2025-02-01T13:21:37.569505Z",
     "shell.execute_reply.started": "2025-02-01T13:21:37.553521Z"
    }
   },
   "outputs": [
    {
     "name": "stdout",
     "output_type": "stream",
     "text": [
      "<class 'pandas.core.frame.DataFrame'>\n",
      "RangeIndex: 299 entries, 0 to 298\n",
      "Data columns (total 36 columns):\n",
      " #   Column           Non-Null Count  Dtype  \n",
      "---  ------           --------------  -----  \n",
      " 0   Warning Element  299 non-null    object \n",
      " 1   Carlow           299 non-null    int64  \n",
      " 2   Cavan            299 non-null    int64  \n",
      " 3   Clare            299 non-null    int64  \n",
      " 4   Cork             299 non-null    int64  \n",
      " 5   Donegal          299 non-null    int64  \n",
      " 6   Dublin           299 non-null    int64  \n",
      " 7   Galway           299 non-null    int64  \n",
      " 8   Kerry            299 non-null    int64  \n",
      " 9   Kildare          299 non-null    int64  \n",
      " 10  Kilkenny         299 non-null    int64  \n",
      " 11  Laois            299 non-null    int64  \n",
      " 12  Leitrim          299 non-null    int64  \n",
      " 13  Limerick         299 non-null    int64  \n",
      " 14  Longford         299 non-null    int64  \n",
      " 15  Louth            299 non-null    int64  \n",
      " 16  Mayo             299 non-null    int64  \n",
      " 17  Meath            299 non-null    int64  \n",
      " 18  Monaghan         299 non-null    int64  \n",
      " 19  Offaly           299 non-null    int64  \n",
      " 20  Roscommon        299 non-null    int64  \n",
      " 21  Sligo            299 non-null    int64  \n",
      " 22  Tipperary        299 non-null    int64  \n",
      " 23  Waterford        299 non-null    int64  \n",
      " 24  Westmeath        299 non-null    int64  \n",
      " 25  Wexford          299 non-null    int64  \n",
      " 26  Wicklow          299 non-null    int64  \n",
      " 27  flag_yellow      299 non-null    float64\n",
      " 28  flag_orange      299 non-null    float64\n",
      " 29  flag_red         299 non-null    float64\n",
      " 30  Warning Text     286 non-null    object \n",
      " 31  Issue Time       286 non-null    object \n",
      " 32  Valid From       287 non-null    object \n",
      " 33  Valid To         285 non-null    object \n",
      " 34  Combined Text    299 non-null    object \n",
      " 35  Warning Colour   294 non-null    object \n",
      "dtypes: float64(3), int64(26), object(7)\n",
      "memory usage: 84.2+ KB\n"
     ]
    }
   ],
   "source": [
    "df_xlsx.info()"
   ]
  },
  {
   "cell_type": "markdown",
   "id": "3b12f5c8-83ff-4e88-97a0-66db2929db0b",
   "metadata": {},
   "source": [
    "no provinces listed after processing"
   ]
  },
  {
   "cell_type": "code",
   "execution_count": 33,
   "id": "7ebdc561-5a37-4392-916e-d3a0a3c9118c",
   "metadata": {
    "execution": {
     "iopub.execute_input": "2025-02-01T13:21:41.658709Z",
     "iopub.status.busy": "2025-02-01T13:21:41.658478Z",
     "iopub.status.idle": "2025-02-01T13:21:41.664577Z",
     "shell.execute_reply": "2025-02-01T13:21:41.662458Z",
     "shell.execute_reply.started": "2025-02-01T13:21:41.658694Z"
    }
   },
   "outputs": [
    {
     "name": "stdout",
     "output_type": "stream",
     "text": [
      "Warning Counts:\n",
      "Warning Colour\n",
      "Yellow    240\n",
      "Orange     48\n",
      "Red         6\n",
      "Name: count, dtype: int64\n"
     ]
    }
   ],
   "source": [
    "warning_counts = df_xlsx['Warning Colour'].value_counts()\n",
    "print(\"Warning Counts:\")\n",
    "print(warning_counts)"
   ]
  },
  {
   "cell_type": "code",
   "execution_count": 35,
   "id": "32d0cd2c-a0b7-4d7f-9ce7-02985a63185f",
   "metadata": {
    "execution": {
     "iopub.execute_input": "2025-02-01T13:27:58.223308Z",
     "iopub.status.busy": "2025-02-01T13:27:58.223035Z",
     "iopub.status.idle": "2025-02-01T13:27:58.245313Z",
     "shell.execute_reply": "2025-02-01T13:27:58.244244Z",
     "shell.execute_reply.started": "2025-02-01T13:27:58.223291Z"
    }
   },
   "outputs": [],
   "source": [
    "df_xlsx.to_csv('/mnt/hgfs/shared/project_data/met_eireann/xl_warnings_2023.csv', index=False)"
   ]
  },
  {
   "cell_type": "code",
   "execution_count": null,
   "id": "47c69100-4bd6-48d3-ae00-ca7512c68602",
   "metadata": {},
   "outputs": [],
   "source": []
  }
 ],
 "metadata": {
  "kernelspec": {
   "display_name": "Python 3 (ipykernel)",
   "language": "python",
   "name": "python3"
  },
  "language_info": {
   "codemirror_mode": {
    "name": "ipython",
    "version": 3
   },
   "file_extension": ".py",
   "mimetype": "text/x-python",
   "name": "python",
   "nbconvert_exporter": "python",
   "pygments_lexer": "ipython3",
   "version": "3.12.4"
  }
 },
 "nbformat": 4,
 "nbformat_minor": 5
}
