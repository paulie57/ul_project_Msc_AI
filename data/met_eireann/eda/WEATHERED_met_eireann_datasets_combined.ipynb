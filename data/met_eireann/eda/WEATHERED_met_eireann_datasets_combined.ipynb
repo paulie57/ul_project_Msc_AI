{
 "cells": [
  {
   "cell_type": "markdown",
   "id": "10c2277c-d9ab-45ac-8b9c-9a68e3d9724c",
   "metadata": {},
   "source": [
    "#### Set styling for plotting"
   ]
  },
  {
   "cell_type": "code",
   "execution_count": 1,
   "id": "008257ad-fd71-4beb-a4c5-8589307d01de",
   "metadata": {
    "execution": {
     "iopub.execute_input": "2025-02-01T15:05:18.906477Z",
     "iopub.status.busy": "2025-02-01T15:05:18.906162Z",
     "iopub.status.idle": "2025-02-01T15:05:19.686663Z",
     "shell.execute_reply": "2025-02-01T15:05:19.685809Z",
     "shell.execute_reply.started": "2025-02-01T15:05:18.906453Z"
    }
   },
   "outputs": [],
   "source": [
    "import pandas as pd\n",
    "import matplotlib.pyplot as plt\n",
    "import matplotlib.dates as mdates\n",
    "import matplotlib.ticker as ticker\n",
    "import seaborn as sns\n",
    "sns.set_palette('colorblind')\n",
    "from matplotlib.pyplot import tight_layout\n",
    "# ##SETTING PARAMS FOR MATPLOTLIB FIGURES\n",
    "plt.rcParams.update({\"figure.figsize\": (6, 6),\n",
    "                 \"axes.facecolor\": \"white\",\n",
    "                 \"axes.edgecolor\": \"black\"})\n",
    "plt.rcParams['axes.prop_cycle'] = plt.cycler(color=sns.color_palette('colorblind'))\n",
    "##set font size\n",
    "font = {'family': 'sans-serif',\n",
    "       'weight': 'normal',\n",
    "       'size': 14}\n",
    "plt.rc('font', **font)\n",
    "# ##PANDAS PLOTTING\n",
    "pd.plotting.register_matplotlib_converters()"
   ]
  },
  {
   "cell_type": "markdown",
   "id": "2b1cab69-cc13-4c24-afb1-6b7d84f165a1",
   "metadata": {},
   "source": [
    "#### Step 1: save environment file"
   ]
  },
  {
   "cell_type": "code",
   "execution_count": 2,
   "id": "048045bf-c3cf-4b98-b98b-38e39e78c181",
   "metadata": {
    "execution": {
     "iopub.execute_input": "2025-02-01T15:05:19.688011Z",
     "iopub.status.busy": "2025-02-01T15:05:19.687788Z",
     "iopub.status.idle": "2025-02-01T15:05:21.107404Z",
     "shell.execute_reply": "2025-02-01T15:05:21.105961Z",
     "shell.execute_reply.started": "2025-02-01T15:05:19.687997Z"
    }
   },
   "outputs": [],
   "source": [
    "!conda env export > combined_met_environment.yml"
   ]
  },
  {
   "cell_type": "markdown",
   "id": "18a68556-70f4-43cf-a728-31459c8475b6",
   "metadata": {},
   "source": [
    "#### Step 2: import modules"
   ]
  },
  {
   "cell_type": "code",
   "execution_count": 3,
   "id": "4bb09125-64b0-44e1-8662-d89260501677",
   "metadata": {
    "execution": {
     "iopub.execute_input": "2025-02-01T15:05:21.108986Z",
     "iopub.status.busy": "2025-02-01T15:05:21.108773Z",
     "iopub.status.idle": "2025-02-01T15:05:21.119317Z",
     "shell.execute_reply": "2025-02-01T15:05:21.118150Z",
     "shell.execute_reply.started": "2025-02-01T15:05:21.108965Z"
    }
   },
   "outputs": [],
   "source": [
    "import glob\n",
    "import os\n",
    "import xml.etree.ElementTree as ET\n",
    "from datetime import datetime, timezone\n",
    "from tqdm import tqdm\n",
    "import codecs\n",
    "import csv"
   ]
  },
  {
   "cell_type": "markdown",
   "id": "37825704-269a-452d-b99c-992ac056e6e4",
   "metadata": {},
   "source": [
    "## INFORMATION\n",
    "\n",
    "##load the 3 processed .csv fiels for combination in a single complete dataset "
   ]
  },
  {
   "cell_type": "markdown",
   "id": "8baafdf0-49ea-40b3-94a6-5c56bd4ea920",
   "metadata": {},
   "source": [
    "#### Step 3: import csv files"
   ]
  },
  {
   "cell_type": "code",
   "execution_count": 4,
   "id": "ce0b8c77-0d0c-4932-b046-5a577a71217a",
   "metadata": {
    "execution": {
     "iopub.execute_input": "2025-02-01T15:05:21.120626Z",
     "iopub.status.busy": "2025-02-01T15:05:21.120388Z",
     "iopub.status.idle": "2025-02-01T15:05:21.127634Z",
     "shell.execute_reply": "2025-02-01T15:05:21.125463Z",
     "shell.execute_reply.started": "2025-02-01T15:05:21.120611Z"
    }
   },
   "outputs": [],
   "source": [
    "data_directory_xml = \"/mnt/hgfs/shared/project_data/met_eireann/xml_warnings_2018_2023_08.csv\"\n",
    "data_directory_ods = \"/mnt/hgfs/shared/project_data/met_eireann/ods_warnings_2017_2020.csv\"\n",
    "data_directory_xl = \"/mnt/hgfs/shared/project_data/met_eireann/xl_warnings_2023.csv\"\n",
    "full_path_xml = os.path.abspath(data_directory_xml)\n",
    "full_path_ods = os.path.abspath(data_directory_ods)\n",
    "full_path_xl = os.path.abspath(data_directory_xl)"
   ]
  },
  {
   "cell_type": "code",
   "execution_count": 5,
   "id": "7b75719e-a9a5-4591-b08f-c1666d9926c7",
   "metadata": {
    "execution": {
     "iopub.execute_input": "2025-02-01T15:05:21.128465Z",
     "iopub.status.busy": "2025-02-01T15:05:21.128319Z",
     "iopub.status.idle": "2025-02-01T15:05:21.161777Z",
     "shell.execute_reply": "2025-02-01T15:05:21.161131Z",
     "shell.execute_reply.started": "2025-02-01T15:05:21.128453Z"
    }
   },
   "outputs": [],
   "source": [
    "# Read the 2023 excel file\n",
    "df_xml = pd.read_csv(full_path_xml)\n",
    "df_ods = pd.read_csv(full_path_ods)\n",
    "df_xl = pd.read_csv(full_path_xl)"
   ]
  },
  {
   "cell_type": "code",
   "execution_count": 6,
   "id": "87585756-6afd-43c7-b1d6-c9dd2631f246",
   "metadata": {
    "execution": {
     "iopub.execute_input": "2025-02-01T15:05:21.163593Z",
     "iopub.status.busy": "2025-02-01T15:05:21.162733Z",
     "iopub.status.idle": "2025-02-01T15:05:21.190540Z",
     "shell.execute_reply": "2025-02-01T15:05:21.189616Z",
     "shell.execute_reply.started": "2025-02-01T15:05:21.163579Z"
    }
   },
   "outputs": [
    {
     "name": "stdout",
     "output_type": "stream",
     "text": [
      "\n",
      "Comparison of Events (2018-2020):\n",
      "            XML Dataset  ODS Dataset  Difference\n",
      "Issue Time                                      \n",
      "2018              264.0        249.0        15.0\n",
      "2019              179.0        187.0        -8.0\n",
      "2020              274.0        277.0        -3.0\n",
      "\n",
      "With Percentage Difference:\n",
      "            XML Dataset  ODS Dataset  Difference  Percentage Difference\n",
      "Issue Time                                                             \n",
      "2018              264.0        249.0        15.0                   6.02\n",
      "2019              179.0        187.0        -8.0                  -4.28\n",
      "2020              274.0        277.0        -3.0                  -1.08\n"
     ]
    }
   ],
   "source": [
    "# First, ensure our datetime conversions are correct\n",
    "df_xml['Issue Time'] = pd.to_datetime(df_xml['Issue Time'])\n",
    "df_ods['Issue Time'] = pd.to_datetime(df_ods['Issue Time'])\n",
    "\n",
    "# Get counts for specific years (2018-2020) for both datasets\n",
    "xml_year_counts = df_xml['Issue Time'].dt.year.value_counts().sort_index()\n",
    "ods_year_counts = df_ods['Issue Time'].dt.year.value_counts().sort_index()\n",
    "\n",
    "# Create a DataFrame to display the years side by side\n",
    "comparison_df = pd.DataFrame({\n",
    "    'XML Dataset': xml_year_counts,\n",
    "    'ODS Dataset': ods_year_counts\n",
    "})\n",
    "\n",
    "# Filter 2018-2020\n",
    "comparison_df = comparison_df.loc[2018:2020]\n",
    "\n",
    "# Calculate the difference between datasets\n",
    "comparison_df['Difference'] = comparison_df['XML Dataset'] - comparison_df['ODS Dataset']\n",
    "\n",
    "# Display the comparison\n",
    "print(\"\\nComparison of Events (2018-2020):\")\n",
    "print(comparison_df)\n",
    "\n",
    "# Optional: Create a percentage difference column to see relative changes\n",
    "comparison_df['Percentage Difference'] = (\n",
    "    (comparison_df['XML Dataset'] - comparison_df['ODS Dataset']) / \n",
    "    comparison_df['ODS Dataset'] * 100\n",
    ").round(2)\n",
    "\n",
    "print(\"\\nWith Percentage Difference:\")\n",
    "print(comparison_df)"
   ]
  },
  {
   "cell_type": "markdown",
   "id": "d7e8c05c-43ca-4976-aa94-023256aed92f",
   "metadata": {},
   "source": [
    "#### Step:6 confirm date/time settings, check date ranges and select appropriate rnages to combine "
   ]
  },
  {
   "cell_type": "code",
   "execution_count": 7,
   "id": "aa544bf2-bbbd-427f-8f6f-7c10ebfba050",
   "metadata": {
    "execution": {
     "iopub.execute_input": "2025-02-01T15:05:21.191923Z",
     "iopub.status.busy": "2025-02-01T15:05:21.191592Z",
     "iopub.status.idle": "2025-02-01T15:05:21.216879Z",
     "shell.execute_reply": "2025-02-01T15:05:21.216200Z",
     "shell.execute_reply.started": "2025-02-01T15:05:21.191909Z"
    }
   },
   "outputs": [],
   "source": [
    "##make sure datetime is the same in both dataframes\n",
    "# Ensure datetime columns are consistently UTC\n",
    "datetime_cols = ['Issue Time', 'Valid From', 'Valid To']\n",
    "df_ods[datetime_cols] = df_ods[datetime_cols].apply(pd.to_datetime, utc=True)\n",
    "df_xml[datetime_cols] = df_xml[datetime_cols].apply(pd.to_datetime, utc=True)\n",
    "df_xl[datetime_cols] = df_xl[datetime_cols].apply(pd.to_datetime, utc=True)"
   ]
  },
  {
   "cell_type": "code",
   "execution_count": 8,
   "id": "47c69100-4bd6-48d3-ae00-ca7512c68602",
   "metadata": {
    "execution": {
     "iopub.execute_input": "2025-02-01T15:05:21.219277Z",
     "iopub.status.busy": "2025-02-01T15:05:21.219055Z",
     "iopub.status.idle": "2025-02-01T15:05:21.233251Z",
     "shell.execute_reply": "2025-02-01T15:05:21.232438Z",
     "shell.execute_reply.started": "2025-02-01T15:05:21.219261Z"
    }
   },
   "outputs": [
    {
     "name": "stdout",
     "output_type": "stream",
     "text": [
      "<class 'pandas.core.frame.DataFrame'>\n",
      "RangeIndex: 1598 entries, 0 to 1597\n",
      "Data columns (total 33 columns):\n",
      " #   Column           Non-Null Count  Dtype              \n",
      "---  ------           --------------  -----              \n",
      " 0   Issue Time       1598 non-null   datetime64[ns, UTC]\n",
      " 1   Valid From       1598 non-null   datetime64[ns, UTC]\n",
      " 2   Valid To         1598 non-null   datetime64[ns, UTC]\n",
      " 3   Warning Colour   1598 non-null   object             \n",
      " 4   Warning Element  1598 non-null   object             \n",
      " 5   WhereToText      1596 non-null   object             \n",
      " 6   Warning Text     1595 non-null   object             \n",
      " 7   Clare            1598 non-null   int64              \n",
      " 8   Cork             1598 non-null   int64              \n",
      " 9   Kerry            1598 non-null   int64              \n",
      " 10  Limerick         1598 non-null   int64              \n",
      " 11  Tipperary        1598 non-null   int64              \n",
      " 12  Waterford        1598 non-null   int64              \n",
      " 13  Carlow           1598 non-null   int64              \n",
      " 14  Dublin           1598 non-null   int64              \n",
      " 15  Kildare          1598 non-null   int64              \n",
      " 16  Kilkenny         1598 non-null   int64              \n",
      " 17  Laois            1598 non-null   int64              \n",
      " 18  Longford         1598 non-null   int64              \n",
      " 19  Louth            1598 non-null   int64              \n",
      " 20  Meath            1598 non-null   int64              \n",
      " 21  Offaly           1598 non-null   int64              \n",
      " 22  Westmeath        1598 non-null   int64              \n",
      " 23  Wexford          1598 non-null   int64              \n",
      " 24  Wicklow          1598 non-null   int64              \n",
      " 25  Cavan            1598 non-null   int64              \n",
      " 26  Donegal          1598 non-null   int64              \n",
      " 27  Monaghan         1598 non-null   int64              \n",
      " 28  Galway           1598 non-null   int64              \n",
      " 29  Leitrim          1598 non-null   int64              \n",
      " 30  Mayo             1598 non-null   int64              \n",
      " 31  Roscommon        1598 non-null   int64              \n",
      " 32  Sligo            1598 non-null   int64              \n",
      "dtypes: datetime64[ns, UTC](3), int64(26), object(4)\n",
      "memory usage: 412.1+ KB\n"
     ]
    }
   ],
   "source": [
    "##Check Columns\n",
    "df_ods.info()"
   ]
  },
  {
   "cell_type": "code",
   "execution_count": 9,
   "id": "87658f5f-ce05-403b-a88e-ac12b5324924",
   "metadata": {
    "execution": {
     "iopub.execute_input": "2025-02-01T15:05:21.234158Z",
     "iopub.status.busy": "2025-02-01T15:05:21.234014Z",
     "iopub.status.idle": "2025-02-01T15:05:21.238129Z",
     "shell.execute_reply": "2025-02-01T15:05:21.237420Z",
     "shell.execute_reply.started": "2025-02-01T15:05:21.234145Z"
    }
   },
   "outputs": [],
   "source": [
    "##where to text column not required\n",
    "df_ods.drop(\"WhereToText\", axis=1, inplace=True)"
   ]
  },
  {
   "cell_type": "code",
   "execution_count": 10,
   "id": "e3e0eaa5-c958-4648-9dff-a66056301b6a",
   "metadata": {
    "execution": {
     "iopub.execute_input": "2025-02-01T15:05:21.239511Z",
     "iopub.status.busy": "2025-02-01T15:05:21.239193Z",
     "iopub.status.idle": "2025-02-01T15:05:21.247467Z",
     "shell.execute_reply": "2025-02-01T15:05:21.246806Z",
     "shell.execute_reply.started": "2025-02-01T15:05:21.239491Z"
    }
   },
   "outputs": [
    {
     "name": "stdout",
     "output_type": "stream",
     "text": [
      "<class 'pandas.core.frame.DataFrame'>\n",
      "RangeIndex: 2016 entries, 0 to 2015\n",
      "Data columns (total 33 columns):\n",
      " #   Column           Non-Null Count  Dtype              \n",
      "---  ------           --------------  -----              \n",
      " 0   Issue Time       2016 non-null   datetime64[ns, UTC]\n",
      " 1   Valid From       2016 non-null   datetime64[ns, UTC]\n",
      " 2   Valid To         2016 non-null   datetime64[ns, UTC]\n",
      " 3   Warning Element  2016 non-null   object             \n",
      " 4   Warning Text     2015 non-null   object             \n",
      " 5   WhereToText      2016 non-null   object             \n",
      " 6   Warning Colour   2016 non-null   object             \n",
      " 7   Carlow           2016 non-null   int64              \n",
      " 8   Cavan            2016 non-null   int64              \n",
      " 9   Clare            2016 non-null   int64              \n",
      " 10  Cork             2016 non-null   int64              \n",
      " 11  Donegal          2016 non-null   int64              \n",
      " 12  Galway           2016 non-null   int64              \n",
      " 13  Kerry            2016 non-null   int64              \n",
      " 14  Kildare          2016 non-null   int64              \n",
      " 15  Kilkenny         2016 non-null   int64              \n",
      " 16  Laois            2016 non-null   int64              \n",
      " 17  Leitrim          2016 non-null   int64              \n",
      " 18  Limerick         2016 non-null   int64              \n",
      " 19  Longford         2016 non-null   int64              \n",
      " 20  Louth            2016 non-null   int64              \n",
      " 21  Mayo             2016 non-null   int64              \n",
      " 22  Meath            2016 non-null   int64              \n",
      " 23  Monaghan         2016 non-null   int64              \n",
      " 24  Offaly           2016 non-null   int64              \n",
      " 25  Roscommon        2016 non-null   int64              \n",
      " 26  Sligo            2016 non-null   int64              \n",
      " 27  Tipperary        2016 non-null   int64              \n",
      " 28  Waterford        2016 non-null   int64              \n",
      " 29  Westmeath        2016 non-null   int64              \n",
      " 30  Wexford          2016 non-null   int64              \n",
      " 31  Wicklow          2016 non-null   int64              \n",
      " 32  Dublin           2016 non-null   int64              \n",
      "dtypes: datetime64[ns, UTC](3), int64(26), object(4)\n",
      "memory usage: 519.9+ KB\n"
     ]
    }
   ],
   "source": [
    "df_xml.info()"
   ]
  },
  {
   "cell_type": "code",
   "execution_count": 11,
   "id": "a1f51029-efdb-44ae-b073-f9c1fce6b046",
   "metadata": {
    "execution": {
     "iopub.execute_input": "2025-02-01T15:05:21.248861Z",
     "iopub.status.busy": "2025-02-01T15:05:21.248601Z",
     "iopub.status.idle": "2025-02-01T15:05:21.253884Z",
     "shell.execute_reply": "2025-02-01T15:05:21.252920Z",
     "shell.execute_reply.started": "2025-02-01T15:05:21.248840Z"
    }
   },
   "outputs": [],
   "source": [
    "df_xml.drop(\"WhereToText\", axis=1, inplace=True)"
   ]
  },
  {
   "cell_type": "code",
   "execution_count": 12,
   "id": "730a3fa3-49c3-4ebf-a616-a849d7cf9fae",
   "metadata": {
    "execution": {
     "iopub.execute_input": "2025-02-01T15:05:21.255767Z",
     "iopub.status.busy": "2025-02-01T15:05:21.254772Z",
     "iopub.status.idle": "2025-02-01T15:05:21.263785Z",
     "shell.execute_reply": "2025-02-01T15:05:21.262579Z",
     "shell.execute_reply.started": "2025-02-01T15:05:21.255742Z"
    }
   },
   "outputs": [
    {
     "name": "stdout",
     "output_type": "stream",
     "text": [
      "<class 'pandas.core.frame.DataFrame'>\n",
      "RangeIndex: 299 entries, 0 to 298\n",
      "Data columns (total 36 columns):\n",
      " #   Column           Non-Null Count  Dtype              \n",
      "---  ------           --------------  -----              \n",
      " 0   Warning Element  299 non-null    object             \n",
      " 1   Carlow           299 non-null    int64              \n",
      " 2   Cavan            299 non-null    int64              \n",
      " 3   Clare            299 non-null    int64              \n",
      " 4   Cork             299 non-null    int64              \n",
      " 5   Donegal          299 non-null    int64              \n",
      " 6   Dublin           299 non-null    int64              \n",
      " 7   Galway           299 non-null    int64              \n",
      " 8   Kerry            299 non-null    int64              \n",
      " 9   Kildare          299 non-null    int64              \n",
      " 10  Kilkenny         299 non-null    int64              \n",
      " 11  Laois            299 non-null    int64              \n",
      " 12  Leitrim          299 non-null    int64              \n",
      " 13  Limerick         299 non-null    int64              \n",
      " 14  Longford         299 non-null    int64              \n",
      " 15  Louth            299 non-null    int64              \n",
      " 16  Mayo             299 non-null    int64              \n",
      " 17  Meath            299 non-null    int64              \n",
      " 18  Monaghan         299 non-null    int64              \n",
      " 19  Offaly           299 non-null    int64              \n",
      " 20  Roscommon        299 non-null    int64              \n",
      " 21  Sligo            299 non-null    int64              \n",
      " 22  Tipperary        299 non-null    int64              \n",
      " 23  Waterford        299 non-null    int64              \n",
      " 24  Westmeath        299 non-null    int64              \n",
      " 25  Wexford          299 non-null    int64              \n",
      " 26  Wicklow          299 non-null    int64              \n",
      " 27  flag_yellow      299 non-null    float64            \n",
      " 28  flag_orange      299 non-null    float64            \n",
      " 29  flag_red         299 non-null    float64            \n",
      " 30  Warning Text     286 non-null    object             \n",
      " 31  Issue Time       286 non-null    datetime64[ns, UTC]\n",
      " 32  Valid From       287 non-null    datetime64[ns, UTC]\n",
      " 33  Valid To         285 non-null    datetime64[ns, UTC]\n",
      " 34  Combined Text    299 non-null    object             \n",
      " 35  Warning Colour   294 non-null    object             \n",
      "dtypes: datetime64[ns, UTC](3), float64(3), int64(26), object(4)\n",
      "memory usage: 84.2+ KB\n"
     ]
    }
   ],
   "source": [
    "df_xl.info()"
   ]
  },
  {
   "cell_type": "code",
   "execution_count": 13,
   "id": "2e96bdbb-4fd6-4f9d-a8d3-2b7efb98b85b",
   "metadata": {
    "execution": {
     "iopub.execute_input": "2025-02-01T15:05:21.264998Z",
     "iopub.status.busy": "2025-02-01T15:05:21.264821Z",
     "iopub.status.idle": "2025-02-01T15:05:21.270957Z",
     "shell.execute_reply": "2025-02-01T15:05:21.269552Z",
     "shell.execute_reply.started": "2025-02-01T15:05:21.264985Z"
    }
   },
   "outputs": [],
   "source": [
    "# Define the desired order\n",
    "desired_order = [\n",
    "    \"Issue Time\", \"Valid From\", \"Valid To\", \"Warning Colour\", \"Warning Element\",\n",
    "    \"Warning Text\", \"Clare\", \"Cork\", \"Kerry\", \"Limerick\", \n",
    "    \"Tipperary\", \"Waterford\", \"Carlow\", \"Dublin\", \"Kildare\", \"Kilkenny\", \n",
    "    \"Laois\", \"Longford\", \"Louth\", \"Meath\", \"Offaly\", \"Westmeath\", \"Wexford\", \n",
    "    \"Wicklow\", \"Cavan\", \"Donegal\", \"Monaghan\", \"Galway\", \"Leitrim\", \"Mayo\", \n",
    "    \"Roscommon\", \"Sligo\"\n",
    "]\n",
    "\n",
    "# This will select (and order) only those columns; note that if your second DataFrame \n",
    "# is missing any of these, a KeyError will be raised.\n",
    "df_xl_ro = df_xl[desired_order]"
   ]
  },
  {
   "cell_type": "code",
   "execution_count": 14,
   "id": "73bffe5a-65f5-4d90-bcb8-dff9a3d391db",
   "metadata": {
    "execution": {
     "iopub.execute_input": "2025-02-01T15:05:21.272572Z",
     "iopub.status.busy": "2025-02-01T15:05:21.272171Z",
     "iopub.status.idle": "2025-02-01T15:05:21.281489Z",
     "shell.execute_reply": "2025-02-01T15:05:21.280571Z",
     "shell.execute_reply.started": "2025-02-01T15:05:21.272545Z"
    }
   },
   "outputs": [
    {
     "name": "stdout",
     "output_type": "stream",
     "text": [
      "<class 'pandas.core.frame.DataFrame'>\n",
      "RangeIndex: 299 entries, 0 to 298\n",
      "Data columns (total 32 columns):\n",
      " #   Column           Non-Null Count  Dtype              \n",
      "---  ------           --------------  -----              \n",
      " 0   Issue Time       286 non-null    datetime64[ns, UTC]\n",
      " 1   Valid From       287 non-null    datetime64[ns, UTC]\n",
      " 2   Valid To         285 non-null    datetime64[ns, UTC]\n",
      " 3   Warning Colour   294 non-null    object             \n",
      " 4   Warning Element  299 non-null    object             \n",
      " 5   Warning Text     286 non-null    object             \n",
      " 6   Clare            299 non-null    int64              \n",
      " 7   Cork             299 non-null    int64              \n",
      " 8   Kerry            299 non-null    int64              \n",
      " 9   Limerick         299 non-null    int64              \n",
      " 10  Tipperary        299 non-null    int64              \n",
      " 11  Waterford        299 non-null    int64              \n",
      " 12  Carlow           299 non-null    int64              \n",
      " 13  Dublin           299 non-null    int64              \n",
      " 14  Kildare          299 non-null    int64              \n",
      " 15  Kilkenny         299 non-null    int64              \n",
      " 16  Laois            299 non-null    int64              \n",
      " 17  Longford         299 non-null    int64              \n",
      " 18  Louth            299 non-null    int64              \n",
      " 19  Meath            299 non-null    int64              \n",
      " 20  Offaly           299 non-null    int64              \n",
      " 21  Westmeath        299 non-null    int64              \n",
      " 22  Wexford          299 non-null    int64              \n",
      " 23  Wicklow          299 non-null    int64              \n",
      " 24  Cavan            299 non-null    int64              \n",
      " 25  Donegal          299 non-null    int64              \n",
      " 26  Monaghan         299 non-null    int64              \n",
      " 27  Galway           299 non-null    int64              \n",
      " 28  Leitrim          299 non-null    int64              \n",
      " 29  Mayo             299 non-null    int64              \n",
      " 30  Roscommon        299 non-null    int64              \n",
      " 31  Sligo            299 non-null    int64              \n",
      "dtypes: datetime64[ns, UTC](3), int64(26), object(3)\n",
      "memory usage: 74.9+ KB\n"
     ]
    }
   ],
   "source": [
    "df_xl_ro.info()"
   ]
  },
  {
   "cell_type": "code",
   "execution_count": 15,
   "id": "97ce7e57-7407-47b7-876e-c35b6e3d1d7d",
   "metadata": {
    "execution": {
     "iopub.execute_input": "2025-02-01T15:05:21.283405Z",
     "iopub.status.busy": "2025-02-01T15:05:21.282929Z",
     "iopub.status.idle": "2025-02-01T15:05:21.294292Z",
     "shell.execute_reply": "2025-02-01T15:05:21.293288Z",
     "shell.execute_reply.started": "2025-02-01T15:05:21.283355Z"
    }
   },
   "outputs": [
    {
     "name": "stdout",
     "output_type": "stream",
     "text": [
      "ODS Filtered Date Range:\n",
      "Start date: 2013-02-21 18:00:00+00:00\n",
      "End date: 2020-12-30 14:00:00+00:00\n",
      "XML Filtered Date Range:\n",
      "Start date: 2018-01-01 14:02:14+00:00\n",
      "End date: 2023-08-04 11:49:46+00:00\n",
      "XML Filtered Date Range:\n",
      "Start date: 2023-01-01 13:22:00+00:00\n",
      "End date: 2023-12-29 19:12:00+00:00\n"
     ]
    }
   ],
   "source": [
    "### date ranges\n",
    "print(\"ODS Filtered Date Range:\")\n",
    "print(f\"Start date: {df_ods['Issue Time'].min()}\")\n",
    "print(f\"End date: {df_ods['Issue Time'].max()}\")\n",
    "print(\"XML Filtered Date Range:\")\n",
    "print(f\"Start date: {df_xml['Issue Time'].min()}\")\n",
    "print(f\"End date: {df_xml['Issue Time'].max()}\")\n",
    "print(\"XML Filtered Date Range:\")\n",
    "print(f\"Start date: {df_xl_ro['Issue Time'].min()}\")\n",
    "print(f\"End date: {df_xl_ro['Issue Time'].max()}\")"
   ]
  },
  {
   "cell_type": "code",
   "execution_count": 16,
   "id": "eecc7429-9146-4f3a-95d1-c5da414f453a",
   "metadata": {
    "execution": {
     "iopub.execute_input": "2025-02-01T15:05:21.295702Z",
     "iopub.status.busy": "2025-02-01T15:05:21.295534Z",
     "iopub.status.idle": "2025-02-01T15:05:21.303869Z",
     "shell.execute_reply": "2025-02-01T15:05:21.303032Z",
     "shell.execute_reply.started": "2025-02-01T15:05:21.295689Z"
    }
   },
   "outputs": [],
   "source": [
    "df_ods_filtered = df_ods[\n",
    "    (df_ods['Issue Time'] >= '2014-01-01') & \n",
    "    (df_ods['Issue Time'] <= '2017-12-31 23:59:59')\n",
    "]\n",
    "df_xml_filtered = df_xml[\n",
    "    (df_xml['Issue Time'] >= '2018-01-01') & \n",
    "    (df_xml['Issue Time'] <= '2022-12-31 23:59:59')\n",
    "]\n",
    "df_xl_filtered = df_xl_ro[\n",
    "    (df_xl_ro['Issue Time'] >= '2023-01-01') & \n",
    "    (df_xl_ro['Issue Time'] <= '2023-12-29 23:59:59')\n",
    "]"
   ]
  },
  {
   "cell_type": "code",
   "execution_count": 17,
   "id": "29bd005a-1876-4033-9d19-b41e5f4690b4",
   "metadata": {
    "execution": {
     "iopub.execute_input": "2025-02-01T15:05:21.305834Z",
     "iopub.status.busy": "2025-02-01T15:05:21.305617Z",
     "iopub.status.idle": "2025-02-01T15:05:21.314446Z",
     "shell.execute_reply": "2025-02-01T15:05:21.313776Z",
     "shell.execute_reply.started": "2025-02-01T15:05:21.305819Z"
    }
   },
   "outputs": [],
   "source": [
    "df_combined = pd.concat([df_ods_filtered, df_xml_filtered, df_xl_filtered], ignore_index=True)"
   ]
  },
  {
   "cell_type": "code",
   "execution_count": 18,
   "id": "7cc15fa4-852c-4804-8662-bcf7348dba05",
   "metadata": {
    "execution": {
     "iopub.execute_input": "2025-02-01T15:05:21.316640Z",
     "iopub.status.busy": "2025-02-01T15:05:21.315384Z",
     "iopub.status.idle": "2025-02-01T15:05:21.324369Z",
     "shell.execute_reply": "2025-02-01T15:05:21.323104Z",
     "shell.execute_reply.started": "2025-02-01T15:05:21.316613Z"
    }
   },
   "outputs": [
    {
     "name": "stdout",
     "output_type": "stream",
     "text": [
      "Combined Filtered Date Range:\n",
      "Start date: 2014-01-02 09:00:00+00:00\n",
      "End date: 2023-12-29 19:12:00+00:00\n"
     ]
    }
   ],
   "source": [
    "print(\"Combined Filtered Date Range:\")\n",
    "print(f\"Start date: {df_combined['Issue Time'].min()}\")\n",
    "print(f\"End date: {df_combined['Issue Time'].max()}\")"
   ]
  },
  {
   "cell_type": "code",
   "execution_count": 19,
   "id": "2516e3c9-fe60-4ed6-8f63-e18035f99a4b",
   "metadata": {
    "execution": {
     "iopub.execute_input": "2025-02-01T15:05:21.326219Z",
     "iopub.status.busy": "2025-02-01T15:05:21.325833Z",
     "iopub.status.idle": "2025-02-01T15:05:21.334617Z",
     "shell.execute_reply": "2025-02-01T15:05:21.333929Z",
     "shell.execute_reply.started": "2025-02-01T15:05:21.326189Z"
    }
   },
   "outputs": [],
   "source": [
    "##standardize event type\n",
    "mapping = {\n",
    "    'Wind': 'Moderate Wind warning',\n",
    "    'Yellow Wind': 'Moderate Wind warning',\n",
    "    'Rain': 'Moderate Rainfall warning',\n",
    "    'Yellow Rain': 'Moderate Rainfall warning',\n",
    "    'Snow/Ice': 'Moderate Snow-ice warning',\n",
    "    'Yellow Snow/Ice': 'Moderate Snow-ice warning',\n",
    "    'Moderate snow-ice warning': 'Moderate Snow-ice warning',\n",
    "    'High Temperature': 'Moderate High-Temperature warning',\n",
    "    'Yellow High Temperature': 'Moderate High-Temperature warning',\n",
    "    'Low Temperature/Ice': 'Moderate Low-Temperature warning',\n",
    "    'Yellow Low Temperature/Ice': 'Moderate Low-Temperature warning',\n",
    "    'Fog (or freezing fog)': 'Moderate Fog warning',\n",
    "    'Yellow fog': 'Moderate Fog warning',\n",
    "    'Thunderstorm': 'Moderate Thunder warning',\n",
    "    'Yellow Thunderstorm': 'Moderate Thunder warning'\n",
    "}\n",
    "df_combined['Warning Element'] = df_combined['Warning Element'].replace(mapping)"
   ]
  },
  {
   "cell_type": "code",
   "execution_count": 20,
   "id": "f5b457c7-fde9-4e49-849b-ea559f75cabc",
   "metadata": {
    "execution": {
     "iopub.execute_input": "2025-02-01T15:05:21.335518Z",
     "iopub.status.busy": "2025-02-01T15:05:21.335347Z",
     "iopub.status.idle": "2025-02-01T15:05:21.341028Z",
     "shell.execute_reply": "2025-02-01T15:05:21.339941Z",
     "shell.execute_reply.started": "2025-02-01T15:05:21.335505Z"
    }
   },
   "outputs": [
    {
     "name": "stdout",
     "output_type": "stream",
     "text": [
      "Unique Warning Elements:\n",
      "['Moderate Wind warning' 'Moderate Snow-ice warning'\n",
      " 'Moderate Rainfall warning' 'Moderate Fog warning'\n",
      " 'Moderate Thunder warning' 'Moderate High-Temperature warning'\n",
      " 'Moderate Low-Temperature warning' 'Moderate Hail warning'\n",
      " 'Severe Wind warning' 'Severe Low-Temperature warning'\n",
      " 'Severe Fog warning' 'Severe Snow-ice warning' 'Extreme Snow-ice warning'\n",
      " 'Severe Thunder warning' 'Severe Rainfall warning' 'Extreme Wind warning'\n",
      " 'Moderate Small-Craft warning' 'Orange Rain' 'Orange Wind'\n",
      " 'Orange High Temperature' 'Orange Thunderstorm' 'Minor Rain Warning'\n",
      " 'Minor Wind Warning' 'Minor High Temperature Warning'\n",
      " 'Minor Low Temperature/Ice Warning' 'Minor Fog Warning'\n",
      " 'Minor Snow/Ice Warning' 'Minor Hail Warning'\n",
      " 'Minor Thunderstorm Warning' 'Red Wind' 'Orange Snow/Ice'\n",
      " 'Orange Low Temperature/Ice' 'Orange Fog' 'Fog / Ice' 'Rainfall' 'Fog'\n",
      " 'wind']\n",
      "Sorted Unique Warning Elements:\n",
      "['Extreme Snow-ice warning', 'Extreme Wind warning', 'Fog', 'Fog / Ice', 'Minor Fog Warning', 'Minor Hail Warning', 'Minor High Temperature Warning', 'Minor Low Temperature/Ice Warning', 'Minor Rain Warning', 'Minor Snow/Ice Warning', 'Minor Thunderstorm Warning', 'Minor Wind Warning', 'Moderate Fog warning', 'Moderate Hail warning', 'Moderate High-Temperature warning', 'Moderate Low-Temperature warning', 'Moderate Rainfall warning', 'Moderate Small-Craft warning', 'Moderate Snow-ice warning', 'Moderate Thunder warning', 'Moderate Wind warning', 'Orange Fog', 'Orange High Temperature', 'Orange Low Temperature/Ice', 'Orange Rain', 'Orange Snow/Ice', 'Orange Thunderstorm', 'Orange Wind', 'Rainfall', 'Red Wind', 'Severe Fog warning', 'Severe Low-Temperature warning', 'Severe Rainfall warning', 'Severe Snow-ice warning', 'Severe Thunder warning', 'Severe Wind warning', 'wind']\n"
     ]
    }
   ],
   "source": [
    "# List unique Warning Elements\n",
    "unique_warning_elements = df_combined['Warning Element'].unique()\n",
    "print(\"Unique Warning Elements:\")\n",
    "print(unique_warning_elements)\n",
    "\n",
    "# Optionally, if you'd like them sorted:\n",
    "print(\"Sorted Unique Warning Elements:\")\n",
    "print(sorted(unique_warning_elements))\n"
   ]
  },
  {
   "cell_type": "code",
   "execution_count": 28,
   "id": "a924e1c4-a0b8-4360-963c-cd0b33891f5a",
   "metadata": {
    "execution": {
     "iopub.execute_input": "2025-02-01T15:07:44.496460Z",
     "iopub.status.busy": "2025-02-01T15:07:44.496272Z",
     "iopub.status.idle": "2025-02-01T15:07:44.503830Z",
     "shell.execute_reply": "2025-02-01T15:07:44.502729Z",
     "shell.execute_reply.started": "2025-02-01T15:07:44.496447Z"
    }
   },
   "outputs": [],
   "source": [
    "df_combined = df_combined[df_combined['Warning Colour'].str.lower() != 'notmapped']\n"
   ]
  },
  {
   "cell_type": "code",
   "execution_count": 29,
   "id": "5c5907e9-0c72-4aec-84a5-e19c3bbe078c",
   "metadata": {
    "execution": {
     "iopub.execute_input": "2025-02-01T15:07:45.658138Z",
     "iopub.status.busy": "2025-02-01T15:07:45.657813Z",
     "iopub.status.idle": "2025-02-01T15:07:45.676562Z",
     "shell.execute_reply": "2025-02-01T15:07:45.675273Z",
     "shell.execute_reply.started": "2025-02-01T15:07:45.658121Z"
    }
   },
   "outputs": [
    {
     "name": "stdout",
     "output_type": "stream",
     "text": [
      "Sample of rows with HSE region columns:\n",
      "   HSE Dublin and North East  HSE Dublin and Midlands  \\\n",
      "0                          0                        0   \n",
      "1                          1                        1   \n",
      "2                          1                        1   \n",
      "3                          1                        1   \n",
      "4                          1                        1   \n",
      "\n",
      "   HSE Dublin and South East  HSE Mid West  HSE South West  \\\n",
      "0                          0             1               1   \n",
      "1                          1             1               0   \n",
      "2                          1             1               1   \n",
      "3                          1             1               1   \n",
      "4                          1             1               1   \n",
      "\n",
      "   HSE West and North West  \n",
      "0                        1  \n",
      "1                        0  \n",
      "2                        1  \n",
      "3                        1  \n",
      "4                        1  \n",
      "\n",
      "Number of warnings per HSE region:\n",
      "HSE Dublin and North East: 1158\n",
      "HSE Dublin and Midlands: 1270\n",
      "HSE Dublin and South East: 1308\n",
      "HSE Mid West: 1215\n",
      "HSE South West: 1452\n",
      "HSE West and North West: 1697\n"
     ]
    }
   ],
   "source": [
    "# Create new columns for each HSE region, initialized with 0\n",
    "hse_regions = {\n",
    "    'HSE Dublin and North East': ['Cavan', 'Monaghan', 'Louth', 'Meath', 'Dublin'],\n",
    "    'HSE Dublin and Midlands': ['Kildare', 'Wicklow', 'Laois', 'Offaly', 'Longford', 'Westmeath', 'Dublin'],\n",
    "    'HSE Dublin and South East': ['Carlow', 'Kilkenny', 'Tipperary', 'Waterford', 'Wexford', 'Wicklow', 'Dublin'],\n",
    "    'HSE Mid West': ['Clare', 'Limerick', 'Tipperary'],\n",
    "    'HSE South West': ['Cork', 'Kerry'],\n",
    "    'HSE West and North West': ['Donegal', 'Sligo', 'Leitrim', 'Mayo', 'Galway', 'Roscommon']\n",
    "}\n",
    "\n",
    "# Initialize new columns with 0\n",
    "for region in hse_regions.keys():\n",
    "    df_combined[region] = 0\n",
    "\n",
    "# For each region, set to 1 if any of its counties has a 1\n",
    "for region, counties in hse_regions.items():\n",
    "    df_combined[region] = (df_combined[counties].sum(axis=1) > 0).astype(int)\n",
    "\n",
    "# Verify the results\n",
    "print(\"Sample of rows with HSE region columns:\")\n",
    "print(df_combined[list(hse_regions.keys())].head())\n",
    "\n",
    "# Check distribution of regional warnings\n",
    "print(\"\\nNumber of warnings per HSE region:\")\n",
    "for region in hse_regions.keys():\n",
    "    print(f\"{region}: {df_combined[region].sum()}\")"
   ]
  },
  {
   "cell_type": "code",
   "execution_count": 30,
   "id": "779ec789-06aa-40c5-8fb1-1bfb82198c44",
   "metadata": {
    "execution": {
     "iopub.execute_input": "2025-02-01T15:07:46.258261Z",
     "iopub.status.busy": "2025-02-01T15:07:46.257979Z",
     "iopub.status.idle": "2025-02-01T15:07:46.271179Z",
     "shell.execute_reply": "2025-02-01T15:07:46.270616Z",
     "shell.execute_reply.started": "2025-02-01T15:07:46.258240Z"
    }
   },
   "outputs": [
    {
     "name": "stdout",
     "output_type": "stream",
     "text": [
      "                 Valid From                  Valid To  Duration_hours\n",
      "0 2014-01-02 17:00:00+00:00 2014-01-03 14:00:00+00:00            21.0\n",
      "1 2014-01-02 17:00:00+00:00 2014-01-03 14:00:00+00:00            21.0\n",
      "2 2014-01-03 14:00:00+00:00 2014-01-03 19:00:00+00:00             5.0\n",
      "3 2014-01-04 03:00:00+00:00 2014-01-04 14:00:00+00:00            11.0\n",
      "4 2014-01-05 08:00:00+00:00 2014-01-05 20:00:00+00:00            12.0\n"
     ]
    }
   ],
   "source": [
    "##add length of event feature\n",
    "# Ensure the 'Valid From' and 'Valid To' columns are in datetime format\n",
    "df_combined['Valid From'] = pd.to_datetime(df_combined['Valid From'])\n",
    "df_combined['Valid To'] = pd.to_datetime(df_combined['Valid To'])\n",
    "\n",
    "# Calculate the duration in hours and create a new column\n",
    "df_combined['Duration_hours'] = (df_combined['Valid To'] - df_combined['Valid From']).dt.total_seconds() / 3600\n",
    "\n",
    "# Check the first few rows to verify the new column\n",
    "print(df_combined[['Valid From', 'Valid To', 'Duration_hours']].head())\n"
   ]
  },
  {
   "cell_type": "code",
   "execution_count": 33,
   "id": "718c506a-1197-47c8-9377-9ed8bca36002",
   "metadata": {
    "execution": {
     "iopub.execute_input": "2025-02-01T15:08:24.210795Z",
     "iopub.status.busy": "2025-02-01T15:08:24.210458Z",
     "iopub.status.idle": "2025-02-01T15:08:24.329590Z",
     "shell.execute_reply": "2025-02-01T15:08:24.328244Z",
     "shell.execute_reply.started": "2025-02-01T15:08:24.210768Z"
    }
   },
   "outputs": [],
   "source": [
    "df_combined.to_csv('/mnt/hgfs/shared/project_data/processed/WEATHERED_warnings_2014-2023_cleaned.csv', index=False)"
   ]
  }
 ],
 "metadata": {
  "kernelspec": {
   "display_name": "Python 3 (ipykernel)",
   "language": "python",
   "name": "python3"
  },
  "language_info": {
   "codemirror_mode": {
    "name": "ipython",
    "version": 3
   },
   "file_extension": ".py",
   "mimetype": "text/x-python",
   "name": "python",
   "nbconvert_exporter": "python",
   "pygments_lexer": "ipython3",
   "version": "3.12.8"
  }
 },
 "nbformat": 4,
 "nbformat_minor": 5
}
