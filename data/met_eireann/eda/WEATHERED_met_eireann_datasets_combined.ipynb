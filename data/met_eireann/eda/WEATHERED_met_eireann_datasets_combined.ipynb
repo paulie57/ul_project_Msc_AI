{
 "cells": [
  {
   "cell_type": "markdown",
   "id": "10c2277c-d9ab-45ac-8b9c-9a68e3d9724c",
   "metadata": {},
   "source": [
    "#### Set styling for plotting"
   ]
  },
  {
   "cell_type": "code",
   "execution_count": 1,
   "id": "008257ad-fd71-4beb-a4c5-8589307d01de",
   "metadata": {
    "execution": {
     "iopub.execute_input": "2025-01-12T15:26:28.307615Z",
     "iopub.status.busy": "2025-01-12T15:26:28.306967Z",
     "iopub.status.idle": "2025-01-12T15:26:29.161706Z",
     "shell.execute_reply": "2025-01-12T15:26:29.159569Z",
     "shell.execute_reply.started": "2025-01-12T15:26:28.307574Z"
    }
   },
   "outputs": [],
   "source": [
    "import pandas as pd\n",
    "import matplotlib.pyplot as plt\n",
    "import matplotlib.dates as mdates\n",
    "import matplotlib.ticker as ticker\n",
    "import seaborn as sns\n",
    "sns.set_palette('colorblind')\n",
    "from matplotlib.pyplot import tight_layout\n",
    "# ##SETTING PARAMS FOR MATPLOTLIB FIGURES\n",
    "plt.rcParams.update({\"figure.figsize\": (6, 6),\n",
    "                 \"axes.facecolor\": \"white\",\n",
    "                 \"axes.edgecolor\": \"black\"})\n",
    "plt.rcParams['axes.prop_cycle'] = plt.cycler(color=sns.color_palette('colorblind'))\n",
    "##set font size\n",
    "font = {'family': 'sans-serif',\n",
    "       'weight': 'normal',\n",
    "       'size': 14}\n",
    "plt.rc('font', **font)\n",
    "# ##PANDAS PLOTTING\n",
    "pd.plotting.register_matplotlib_converters()"
   ]
  },
  {
   "cell_type": "markdown",
   "id": "2b1cab69-cc13-4c24-afb1-6b7d84f165a1",
   "metadata": {},
   "source": [
    "#### Step 1: save environment file"
   ]
  },
  {
   "cell_type": "code",
   "execution_count": 2,
   "id": "048045bf-c3cf-4b98-b98b-38e39e78c181",
   "metadata": {
    "execution": {
     "iopub.execute_input": "2025-01-12T15:26:29.700058Z",
     "iopub.status.busy": "2025-01-12T15:26:29.699034Z",
     "iopub.status.idle": "2025-01-12T15:26:31.879377Z",
     "shell.execute_reply": "2025-01-12T15:26:31.874580Z",
     "shell.execute_reply.started": "2025-01-12T15:26:29.700007Z"
    }
   },
   "outputs": [],
   "source": [
    "!conda env export > combined_met_environment.yml"
   ]
  },
  {
   "cell_type": "markdown",
   "id": "18a68556-70f4-43cf-a728-31459c8475b6",
   "metadata": {},
   "source": [
    "#### Step 2: import modules"
   ]
  },
  {
   "cell_type": "code",
   "execution_count": 3,
   "id": "4bb09125-64b0-44e1-8662-d89260501677",
   "metadata": {
    "execution": {
     "iopub.execute_input": "2025-01-12T15:26:31.906518Z",
     "iopub.status.busy": "2025-01-12T15:26:31.906248Z",
     "iopub.status.idle": "2025-01-12T15:26:31.917848Z",
     "shell.execute_reply": "2025-01-12T15:26:31.916790Z",
     "shell.execute_reply.started": "2025-01-12T15:26:31.906498Z"
    }
   },
   "outputs": [],
   "source": [
    "import glob\n",
    "import os\n",
    "import xml.etree.ElementTree as ET\n",
    "from datetime import datetime, timezone\n",
    "from tqdm import tqdm\n",
    "import codecs\n",
    "import csv"
   ]
  },
  {
   "cell_type": "markdown",
   "id": "37825704-269a-452d-b99c-992ac056e6e4",
   "metadata": {},
   "source": [
    "## INFORMATION\n",
    "\n",
    "##load the 3 processed .csv fiels for combination in a single complete dataset "
   ]
  },
  {
   "cell_type": "markdown",
   "id": "8baafdf0-49ea-40b3-94a6-5c56bd4ea920",
   "metadata": {},
   "source": [
    "#### Step 3: import csv files"
   ]
  },
  {
   "cell_type": "code",
   "execution_count": 12,
   "id": "ce0b8c77-0d0c-4932-b046-5a577a71217a",
   "metadata": {
    "execution": {
     "iopub.execute_input": "2025-01-12T15:26:32.608530Z",
     "iopub.status.busy": "2025-01-12T15:26:32.608041Z",
     "iopub.status.idle": "2025-01-12T15:26:32.616886Z",
     "shell.execute_reply": "2025-01-12T15:26:32.613590Z",
     "shell.execute_reply.started": "2025-01-12T15:26:32.608493Z"
    }
   },
   "outputs": [],
   "source": [
    "data_directory_xml = \"/mnt/hgfs/shared/project_data/met_eireann/xml_warnings_2018_2023_08.csv\"\n",
    "data_directory_ods = \"/mnt/hgfs/shared/project_data/met_eireann/ods_warnings_2017_2020.csv\"\n",
    "#data_directory_xl = \"/mnt/hgfs/shared/project_data/met_eireann/National warnings from pdfs_2023.xlsx\"\n",
    "full_path_xml = os.path.abspath(data_directory_xml)\n",
    "full_path_ods = os.path.abspath(data_directory_ods)\n",
    "#full_path_xl = os.path.abspath(data_directory_xl)"
   ]
  },
  {
   "cell_type": "code",
   "execution_count": 15,
   "id": "7b75719e-a9a5-4591-b08f-c1666d9926c7",
   "metadata": {
    "execution": {
     "iopub.execute_input": "2025-01-12T15:26:33.258368Z",
     "iopub.status.busy": "2025-01-12T15:26:33.257790Z",
     "iopub.status.idle": "2025-01-12T15:26:39.090664Z",
     "shell.execute_reply": "2025-01-12T15:26:39.089840Z",
     "shell.execute_reply.started": "2025-01-12T15:26:33.258329Z"
    }
   },
   "outputs": [],
   "source": [
    "# Read the 2023 excel file\n",
    "df_xml = pd.read_csv(full_path_xml)\n",
    "df_ods = pd.read_csv(full_path_ods)"
   ]
  },
  {
   "cell_type": "code",
   "execution_count": 16,
   "id": "87585756-6afd-43c7-b1d6-c9dd2631f246",
   "metadata": {},
   "outputs": [
    {
     "name": "stdout",
     "output_type": "stream",
     "text": [
      "\n",
      "Comparison of Events (2018-2020):\n",
      "            XML Dataset  ODS Dataset  Difference\n",
      "Issue Time                                      \n",
      "2018              227.0        249.0       -22.0\n",
      "2019              162.0        187.0       -25.0\n",
      "2020              265.0        277.0       -12.0\n",
      "\n",
      "With Percentage Difference:\n",
      "            XML Dataset  ODS Dataset  Difference  Percentage Difference\n",
      "Issue Time                                                             \n",
      "2018              227.0        249.0       -22.0                  -8.84\n",
      "2019              162.0        187.0       -25.0                 -13.37\n",
      "2020              265.0        277.0       -12.0                  -4.33\n"
     ]
    }
   ],
   "source": [
    "# First, ensure our datetime conversions are correct\n",
    "df_xml['Issue Time'] = pd.to_datetime(df_xml['Issue Time'])\n",
    "df_ods['Issue Time'] = pd.to_datetime(df_ods['Issue Time'])\n",
    "\n",
    "# Get counts for specific years (2018-2020) for both datasets\n",
    "xml_year_counts = df_xml['Issue Time'].dt.year.value_counts().sort_index()\n",
    "ods_year_counts = df_ods['Issue Time'].dt.year.value_counts().sort_index()\n",
    "\n",
    "# Create a DataFrame to display the years side by side\n",
    "comparison_df = pd.DataFrame({\n",
    "    'XML Dataset': xml_year_counts,\n",
    "    'ODS Dataset': ods_year_counts\n",
    "})\n",
    "\n",
    "# Filter 2018-2020\n",
    "comparison_df = comparison_df.loc[2018:2020]\n",
    "\n",
    "# Calculate the difference between datasets\n",
    "comparison_df['Difference'] = comparison_df['XML Dataset'] - comparison_df['ODS Dataset']\n",
    "\n",
    "# Display the comparison\n",
    "print(\"\\nComparison of Events (2018-2020):\")\n",
    "print(comparison_df)\n",
    "\n",
    "# Optional: Create a percentage difference column to see relative changes\n",
    "comparison_df['Percentage Difference'] = (\n",
    "    (comparison_df['XML Dataset'] - comparison_df['ODS Dataset']) / \n",
    "    comparison_df['ODS Dataset'] * 100\n",
    ").round(2)\n",
    "\n",
    "print(\"\\nWith Percentage Difference:\")\n",
    "print(comparison_df)"
   ]
  },
  {
   "cell_type": "code",
   "execution_count": 22,
   "id": "7f20594b",
   "metadata": {},
   "outputs": [
    {
     "name": "stdout",
     "output_type": "stream",
     "text": [
      "\n",
      "Sample of events unique to ODS dataset in 2018:\n",
      "                   Issue Time Warning Element Warning Colour\n",
      "885 2018-01-01 13:00:00+00:00            Wind         Yellow\n",
      "886 2018-01-01 19:00:00+00:00            Wind         Orange\n",
      "887 2018-01-02 05:00:00+00:00            Wind         Yellow\n",
      "888 2018-01-02 05:03:21+00:00            Wind         Orange\n",
      "889 2018-01-02 12:00:00+00:00            Rain         Yellow\n",
      "\n",
      "Sample of events unique to ODS dataset in 2019:\n",
      "                    Issue Time Warning Element Warning Colour\n",
      "1134 2019-01-15 20:00:00+00:00            Wind         Yellow\n",
      "1135 2019-01-15 19:00:00+00:00            Wind         Yellow\n",
      "1136 2019-01-15 19:00:00+00:00            Wind         Yellow\n",
      "1137 2019-01-16 13:00:00+00:00            Wind         Yellow\n",
      "1138 2019-01-21 11:00:00+00:00        Snow/Ice         Yellow\n",
      "\n",
      "Sample of events unique to ODS dataset in 2020:\n",
      "                    Issue Time Warning Element Warning Colour\n",
      "1321 2020-01-05 09:00:00+00:00            Wind         Yellow\n",
      "1322 2020-01-05 10:00:00+00:00            Wind         Yellow\n",
      "1323 2020-01-06 08:00:00+00:00            Wind         Yellow\n",
      "1324 2020-01-06 15:00:00+00:00            Wind         Yellow\n",
      "1325 2020-01-06 15:00:00+00:00            Wind         Yellow\n"
     ]
    }
   ],
   "source": [
    "df_xml['event_id'] = df_xml['Valid From'].astype(str) + '_' + df_xml['Warning Element'] + '_' + df_xml['Warning Colour']\n",
    "df_ods['event_id'] = df_ods['Valid From'].astype(str) + '_' + df_ods['Warning Element'] + '_' + df_ods['Warning Colour']\n",
    "\n",
    "# Find events that are only in ODS dataset\n",
    "ods_only_events = df_ods[~df_ods['event_id'].isin(df_xml['event_id'])]\n",
    "\n",
    "# Display sample of unique events for each year\n",
    "for year in [2018, 2019, 2020]:\n",
    "    year_events = ods_only_events[ods_only_events['Issue Time'].dt.year == year]\n",
    "    print(f\"\\nSample of events unique to ODS dataset in {year}:\")\n",
    "    print(year_events[['Issue Time', 'Warning Element', 'Warning Colour']].head())"
   ]
  },
  {
   "cell_type": "markdown",
   "id": "d7e8c05c-43ca-4976-aa94-023256aed92f",
   "metadata": {},
   "source": [
    "#### Step:6 confirm date/time settings, check date ranges and select appropriate rnages to combine "
   ]
  },
  {
   "cell_type": "code",
   "execution_count": 19,
   "id": "aa544bf2-bbbd-427f-8f6f-7c10ebfba050",
   "metadata": {
    "execution": {
     "iopub.execute_input": "2025-01-10T14:30:39.089420Z",
     "iopub.status.busy": "2025-01-10T14:30:39.088054Z",
     "iopub.status.idle": "2025-01-10T14:30:39.108657Z",
     "shell.execute_reply": "2025-01-10T14:30:39.107357Z",
     "shell.execute_reply.started": "2025-01-10T14:30:39.089383Z"
    }
   },
   "outputs": [],
   "source": [
    "##make sure datetime is the same in both dataframes\n",
    "# Ensure datetime columns are consistently UTC\n",
    "datetime_cols = ['Issue Time', 'Valid From', 'Valid To']\n",
    "df_ods[datetime_cols] = df_ods[datetime_cols].apply(pd.to_datetime, utc=True)\n",
    "df_xml_consolidated[datetime_cols] = df_xml_consolidated[datetime_cols].apply(pd.to_datetime, utc=True)"
   ]
  },
  {
   "cell_type": "code",
   "execution_count": null,
   "id": "47c69100-4bd6-48d3-ae00-ca7512c68602",
   "metadata": {},
   "outputs": [],
   "source": []
  }
 ],
 "metadata": {
  "kernelspec": {
   "display_name": "Python 3 (ipykernel)",
   "language": "python",
   "name": "python3"
  },
  "language_info": {
   "codemirror_mode": {
    "name": "ipython",
    "version": 3
   },
   "file_extension": ".py",
   "mimetype": "text/x-python",
   "name": "python",
   "nbconvert_exporter": "python",
   "pygments_lexer": "ipython3",
   "version": "3.12.4"
  }
 },
 "nbformat": 4,
 "nbformat_minor": 5
}
