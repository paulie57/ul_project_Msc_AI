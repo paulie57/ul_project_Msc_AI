{
 "cells": [
  {
   "cell_type": "markdown",
   "id": "10c2277c-d9ab-45ac-8b9c-9a68e3d9724c",
   "metadata": {},
   "source": [
    "#### Set styling for plotting"
   ]
  },
  {
   "cell_type": "code",
   "execution_count": 1,
   "id": "008257ad-fd71-4beb-a4c5-8589307d01de",
   "metadata": {},
   "outputs": [],
   "source": [
    "import pandas as pd\n",
    "import matplotlib.pyplot as plt\n",
    "import matplotlib.dates as mdates\n",
    "import matplotlib.ticker as ticker\n",
    "import seaborn as sns\n",
    "sns.set_palette('colorblind')\n",
    "from matplotlib.pyplot import tight_layout\n",
    "# ##SETTING PARAMS FOR MATPLOTLIB FIGURES\n",
    "plt.rcParams.update({\"figure.figsize\": (6, 6),\n",
    "                 \"axes.facecolor\": \"white\",\n",
    "                 \"axes.edgecolor\": \"black\"})\n",
    "plt.rcParams['axes.prop_cycle'] = plt.cycler(color=sns.color_palette('colorblind'))\n",
    "##set font size\n",
    "font = {'family': 'sans-serif',\n",
    "       'weight': 'normal',\n",
    "       'size': 14}\n",
    "plt.rc('font', **font)\n",
    "# ##PANDAS PLOTTING\n",
    "pd.plotting.register_matplotlib_converters()"
   ]
  },
  {
   "cell_type": "markdown",
   "id": "2b1cab69-cc13-4c24-afb1-6b7d84f165a1",
   "metadata": {},
   "source": [
    "#### Step 1: save environment file"
   ]
  },
  {
   "cell_type": "code",
   "execution_count": 2,
   "id": "048045bf-c3cf-4b98-b98b-38e39e78c181",
   "metadata": {},
   "outputs": [],
   "source": [
    "!conda env export > combined_met_environment.yml"
   ]
  },
  {
   "cell_type": "markdown",
   "id": "18a68556-70f4-43cf-a728-31459c8475b6",
   "metadata": {},
   "source": [
    "#### Step 2: import modules"
   ]
  },
  {
   "cell_type": "code",
   "execution_count": 3,
   "id": "4bb09125-64b0-44e1-8662-d89260501677",
   "metadata": {},
   "outputs": [],
   "source": [
    "import glob\n",
    "import os\n",
    "import xml.etree.ElementTree as ET\n",
    "from datetime import datetime, timezone\n",
    "from tqdm import tqdm\n",
    "import codecs\n",
    "import csv"
   ]
  },
  {
   "cell_type": "markdown",
   "id": "37825704-269a-452d-b99c-992ac056e6e4",
   "metadata": {},
   "source": [
    "## INFORMATION\n",
    "\n",
    "##load the 3 processed .csv fiels for combination in a single complete dataset "
   ]
  },
  {
   "cell_type": "markdown",
   "id": "8baafdf0-49ea-40b3-94a6-5c56bd4ea920",
   "metadata": {},
   "source": [
    "#### Step 3: import csv files"
   ]
  },
  {
   "cell_type": "code",
   "execution_count": 4,
   "id": "ce0b8c77-0d0c-4932-b046-5a577a71217a",
   "metadata": {},
   "outputs": [],
   "source": [
    "data_directory_xml = \"/home/paulharford/college/project/project_data/met_eireann/xml_warnings_2018_2023_08.csv\"\n",
    "data_directory_ods = \"/home/paulharford/college/project/project_data/met_eireann/ods_warnings_2017_2020.csv\"\n",
    "data_directory_xl = \"/home/paulharford/college/project/project_data/met_eireann/xl_warnings_2023.csv\"\n",
    "full_path_xml = os.path.abspath(data_directory_xml)\n",
    "full_path_ods = os.path.abspath(data_directory_ods)\n",
    "full_path_xl = os.path.abspath(data_directory_xl)"
   ]
  },
  {
   "cell_type": "code",
   "execution_count": 5,
   "id": "7b75719e-a9a5-4591-b08f-c1666d9926c7",
   "metadata": {},
   "outputs": [],
   "source": [
    "# Read the 2023 excel file\n",
    "df_xml = pd.read_csv(full_path_xml)\n",
    "df_ods = pd.read_csv(full_path_ods)\n",
    "df_xl = pd.read_csv(full_path_xl)"
   ]
  },
  {
   "cell_type": "code",
   "execution_count": 6,
   "id": "87585756-6afd-43c7-b1d6-c9dd2631f246",
   "metadata": {},
   "outputs": [
    {
     "name": "stdout",
     "output_type": "stream",
     "text": [
      "\n",
      "Comparison of Events (2018-2020):\n",
      "            XML Dataset  ODS Dataset  Difference\n",
      "Issue Time                                      \n",
      "2018              264.0        249.0        15.0\n",
      "2019              179.0        187.0        -8.0\n",
      "2020              274.0        277.0        -3.0\n",
      "\n",
      "With Percentage Difference:\n",
      "            XML Dataset  ODS Dataset  Difference  Percentage Difference\n",
      "Issue Time                                                             \n",
      "2018              264.0        249.0        15.0                   6.02\n",
      "2019              179.0        187.0        -8.0                  -4.28\n",
      "2020              274.0        277.0        -3.0                  -1.08\n"
     ]
    }
   ],
   "source": [
    "# First, ensure our datetime conversions are correct\n",
    "df_xml['Issue Time'] = pd.to_datetime(df_xml['Issue Time'])\n",
    "df_ods['Issue Time'] = pd.to_datetime(df_ods['Issue Time'])\n",
    "\n",
    "# Get counts for specific years (2018-2020) for both datasets\n",
    "xml_year_counts = df_xml['Issue Time'].dt.year.value_counts().sort_index()\n",
    "ods_year_counts = df_ods['Issue Time'].dt.year.value_counts().sort_index()\n",
    "\n",
    "# Create a DataFrame to display the years side by side\n",
    "comparison_df = pd.DataFrame({\n",
    "    'XML Dataset': xml_year_counts,\n",
    "    'ODS Dataset': ods_year_counts\n",
    "})\n",
    "\n",
    "# Filter 2018-2020\n",
    "comparison_df = comparison_df.loc[2018:2020]\n",
    "\n",
    "# Calculate the difference between datasets\n",
    "comparison_df['Difference'] = comparison_df['XML Dataset'] - comparison_df['ODS Dataset']\n",
    "\n",
    "# Display the comparison\n",
    "print(\"\\nComparison of Events (2018-2020):\")\n",
    "print(comparison_df)\n",
    "\n",
    "# Optional: Create a percentage difference column to see relative changes\n",
    "comparison_df['Percentage Difference'] = (\n",
    "    (comparison_df['XML Dataset'] - comparison_df['ODS Dataset']) / \n",
    "    comparison_df['ODS Dataset'] * 100\n",
    ").round(2)\n",
    "\n",
    "print(\"\\nWith Percentage Difference:\")\n",
    "print(comparison_df)"
   ]
  },
  {
   "cell_type": "markdown",
   "id": "d7e8c05c-43ca-4976-aa94-023256aed92f",
   "metadata": {},
   "source": [
    "#### Step:6 confirm date/time settings, check date ranges and select appropriate rnages to combine "
   ]
  },
  {
   "cell_type": "code",
   "execution_count": 7,
   "id": "aa544bf2-bbbd-427f-8f6f-7c10ebfba050",
   "metadata": {},
   "outputs": [],
   "source": [
    "##make sure datetime is the same in both dataframes\n",
    "# Ensure datetime columns are consistently UTC\n",
    "datetime_cols = ['Issue Time', 'Valid From', 'Valid To']\n",
    "df_ods[datetime_cols] = df_ods[datetime_cols].apply(pd.to_datetime, utc=True)\n",
    "df_xml[datetime_cols] = df_xml[datetime_cols].apply(pd.to_datetime, utc=True)\n",
    "df_xl[datetime_cols] = df_xl[datetime_cols].apply(pd.to_datetime, utc=True)"
   ]
  },
  {
   "cell_type": "code",
   "execution_count": 8,
   "id": "47c69100-4bd6-48d3-ae00-ca7512c68602",
   "metadata": {},
   "outputs": [
    {
     "name": "stdout",
     "output_type": "stream",
     "text": [
      "<class 'pandas.core.frame.DataFrame'>\n",
      "RangeIndex: 1598 entries, 0 to 1597\n",
      "Data columns (total 33 columns):\n",
      " #   Column           Non-Null Count  Dtype              \n",
      "---  ------           --------------  -----              \n",
      " 0   Issue Time       1598 non-null   datetime64[ns, UTC]\n",
      " 1   Valid From       1598 non-null   datetime64[ns, UTC]\n",
      " 2   Valid To         1598 non-null   datetime64[ns, UTC]\n",
      " 3   Warning Colour   1598 non-null   object             \n",
      " 4   Warning Element  1598 non-null   object             \n",
      " 5   WhereToText      1596 non-null   object             \n",
      " 6   Warning Text     1595 non-null   object             \n",
      " 7   Clare            1598 non-null   int64              \n",
      " 8   Cork             1598 non-null   int64              \n",
      " 9   Kerry            1598 non-null   int64              \n",
      " 10  Limerick         1598 non-null   int64              \n",
      " 11  Tipperary        1598 non-null   int64              \n",
      " 12  Waterford        1598 non-null   int64              \n",
      " 13  Carlow           1598 non-null   int64              \n",
      " 14  Dublin           1598 non-null   int64              \n",
      " 15  Kildare          1598 non-null   int64              \n",
      " 16  Kilkenny         1598 non-null   int64              \n",
      " 17  Laois            1598 non-null   int64              \n",
      " 18  Longford         1598 non-null   int64              \n",
      " 19  Louth            1598 non-null   int64              \n",
      " 20  Meath            1598 non-null   int64              \n",
      " 21  Offaly           1598 non-null   int64              \n",
      " 22  Westmeath        1598 non-null   int64              \n",
      " 23  Wexford          1598 non-null   int64              \n",
      " 24  Wicklow          1598 non-null   int64              \n",
      " 25  Cavan            1598 non-null   int64              \n",
      " 26  Donegal          1598 non-null   int64              \n",
      " 27  Monaghan         1598 non-null   int64              \n",
      " 28  Galway           1598 non-null   int64              \n",
      " 29  Leitrim          1598 non-null   int64              \n",
      " 30  Mayo             1598 non-null   int64              \n",
      " 31  Roscommon        1598 non-null   int64              \n",
      " 32  Sligo            1598 non-null   int64              \n",
      "dtypes: datetime64[ns, UTC](3), int64(26), object(4)\n",
      "memory usage: 412.1+ KB\n"
     ]
    }
   ],
   "source": [
    "##Check Columns\n",
    "df_ods.info()"
   ]
  },
  {
   "cell_type": "code",
   "execution_count": 9,
   "id": "87658f5f-ce05-403b-a88e-ac12b5324924",
   "metadata": {},
   "outputs": [],
   "source": [
    "##where to text column not required\n",
    "df_ods.drop(\"WhereToText\", axis=1, inplace=True)"
   ]
  },
  {
   "cell_type": "code",
   "execution_count": 10,
   "id": "e3e0eaa5-c958-4648-9dff-a66056301b6a",
   "metadata": {},
   "outputs": [
    {
     "name": "stdout",
     "output_type": "stream",
     "text": [
      "<class 'pandas.core.frame.DataFrame'>\n",
      "RangeIndex: 2016 entries, 0 to 2015\n",
      "Data columns (total 33 columns):\n",
      " #   Column           Non-Null Count  Dtype              \n",
      "---  ------           --------------  -----              \n",
      " 0   Issue Time       2016 non-null   datetime64[ns, UTC]\n",
      " 1   Valid From       2016 non-null   datetime64[ns, UTC]\n",
      " 2   Valid To         2016 non-null   datetime64[ns, UTC]\n",
      " 3   Warning Element  2016 non-null   object             \n",
      " 4   Warning Text     2015 non-null   object             \n",
      " 5   WhereToText      2016 non-null   object             \n",
      " 6   Warning Colour   2016 non-null   object             \n",
      " 7   Carlow           2016 non-null   int64              \n",
      " 8   Cavan            2016 non-null   int64              \n",
      " 9   Clare            2016 non-null   int64              \n",
      " 10  Cork             2016 non-null   int64              \n",
      " 11  Donegal          2016 non-null   int64              \n",
      " 12  Galway           2016 non-null   int64              \n",
      " 13  Kerry            2016 non-null   int64              \n",
      " 14  Kildare          2016 non-null   int64              \n",
      " 15  Kilkenny         2016 non-null   int64              \n",
      " 16  Laois            2016 non-null   int64              \n",
      " 17  Leitrim          2016 non-null   int64              \n",
      " 18  Limerick         2016 non-null   int64              \n",
      " 19  Longford         2016 non-null   int64              \n",
      " 20  Louth            2016 non-null   int64              \n",
      " 21  Mayo             2016 non-null   int64              \n",
      " 22  Meath            2016 non-null   int64              \n",
      " 23  Monaghan         2016 non-null   int64              \n",
      " 24  Offaly           2016 non-null   int64              \n",
      " 25  Roscommon        2016 non-null   int64              \n",
      " 26  Sligo            2016 non-null   int64              \n",
      " 27  Tipperary        2016 non-null   int64              \n",
      " 28  Waterford        2016 non-null   int64              \n",
      " 29  Westmeath        2016 non-null   int64              \n",
      " 30  Wexford          2016 non-null   int64              \n",
      " 31  Wicklow          2016 non-null   int64              \n",
      " 32  Dublin           2016 non-null   int64              \n",
      "dtypes: datetime64[ns, UTC](3), int64(26), object(4)\n",
      "memory usage: 519.9+ KB\n"
     ]
    }
   ],
   "source": [
    "df_xml.info()"
   ]
  },
  {
   "cell_type": "code",
   "execution_count": 11,
   "id": "a1f51029-efdb-44ae-b073-f9c1fce6b046",
   "metadata": {},
   "outputs": [],
   "source": [
    "df_xml.drop(\"WhereToText\", axis=1, inplace=True)"
   ]
  },
  {
   "cell_type": "code",
   "execution_count": 12,
   "id": "730a3fa3-49c3-4ebf-a616-a849d7cf9fae",
   "metadata": {},
   "outputs": [
    {
     "name": "stdout",
     "output_type": "stream",
     "text": [
      "<class 'pandas.core.frame.DataFrame'>\n",
      "RangeIndex: 299 entries, 0 to 298\n",
      "Data columns (total 36 columns):\n",
      " #   Column           Non-Null Count  Dtype              \n",
      "---  ------           --------------  -----              \n",
      " 0   Warning Element  299 non-null    object             \n",
      " 1   Carlow           299 non-null    int64              \n",
      " 2   Cavan            299 non-null    int64              \n",
      " 3   Clare            299 non-null    int64              \n",
      " 4   Cork             299 non-null    int64              \n",
      " 5   Donegal          299 non-null    int64              \n",
      " 6   Dublin           299 non-null    int64              \n",
      " 7   Galway           299 non-null    int64              \n",
      " 8   Kerry            299 non-null    int64              \n",
      " 9   Kildare          299 non-null    int64              \n",
      " 10  Kilkenny         299 non-null    int64              \n",
      " 11  Laois            299 non-null    int64              \n",
      " 12  Leitrim          299 non-null    int64              \n",
      " 13  Limerick         299 non-null    int64              \n",
      " 14  Longford         299 non-null    int64              \n",
      " 15  Louth            299 non-null    int64              \n",
      " 16  Mayo             299 non-null    int64              \n",
      " 17  Meath            299 non-null    int64              \n",
      " 18  Monaghan         299 non-null    int64              \n",
      " 19  Offaly           299 non-null    int64              \n",
      " 20  Roscommon        299 non-null    int64              \n",
      " 21  Sligo            299 non-null    int64              \n",
      " 22  Tipperary        299 non-null    int64              \n",
      " 23  Waterford        299 non-null    int64              \n",
      " 24  Westmeath        299 non-null    int64              \n",
      " 25  Wexford          299 non-null    int64              \n",
      " 26  Wicklow          299 non-null    int64              \n",
      " 27  flag_yellow      299 non-null    float64            \n",
      " 28  flag_orange      299 non-null    float64            \n",
      " 29  flag_red         299 non-null    float64            \n",
      " 30  Warning Text     286 non-null    object             \n",
      " 31  Issue Time       286 non-null    datetime64[ns, UTC]\n",
      " 32  Valid From       287 non-null    datetime64[ns, UTC]\n",
      " 33  Valid To         285 non-null    datetime64[ns, UTC]\n",
      " 34  Combined Text    299 non-null    object             \n",
      " 35  Warning Colour   294 non-null    object             \n",
      "dtypes: datetime64[ns, UTC](3), float64(3), int64(26), object(4)\n",
      "memory usage: 84.2+ KB\n"
     ]
    }
   ],
   "source": [
    "df_xl.info()"
   ]
  },
  {
   "cell_type": "code",
   "execution_count": 13,
   "id": "2e96bdbb-4fd6-4f9d-a8d3-2b7efb98b85b",
   "metadata": {},
   "outputs": [],
   "source": [
    "# Define the desired order\n",
    "desired_order = [\n",
    "    \"Issue Time\", \"Valid From\", \"Valid To\", \"Warning Colour\", \"Warning Element\",\n",
    "    \"Warning Text\", \"Clare\", \"Cork\", \"Kerry\", \"Limerick\", \n",
    "    \"Tipperary\", \"Waterford\", \"Carlow\", \"Dublin\", \"Kildare\", \"Kilkenny\", \n",
    "    \"Laois\", \"Longford\", \"Louth\", \"Meath\", \"Offaly\", \"Westmeath\", \"Wexford\", \n",
    "    \"Wicklow\", \"Cavan\", \"Donegal\", \"Monaghan\", \"Galway\", \"Leitrim\", \"Mayo\", \n",
    "    \"Roscommon\", \"Sligo\"\n",
    "]\n",
    "\n",
    "# This will select (and order) only those columns; note that if your second DataFrame \n",
    "# is missing any of these, a KeyError will be raised.\n",
    "df_xl_ro = df_xl[desired_order]"
   ]
  },
  {
   "cell_type": "code",
   "execution_count": 14,
   "id": "73bffe5a-65f5-4d90-bcb8-dff9a3d391db",
   "metadata": {},
   "outputs": [
    {
     "name": "stdout",
     "output_type": "stream",
     "text": [
      "<class 'pandas.core.frame.DataFrame'>\n",
      "RangeIndex: 299 entries, 0 to 298\n",
      "Data columns (total 32 columns):\n",
      " #   Column           Non-Null Count  Dtype              \n",
      "---  ------           --------------  -----              \n",
      " 0   Issue Time       286 non-null    datetime64[ns, UTC]\n",
      " 1   Valid From       287 non-null    datetime64[ns, UTC]\n",
      " 2   Valid To         285 non-null    datetime64[ns, UTC]\n",
      " 3   Warning Colour   294 non-null    object             \n",
      " 4   Warning Element  299 non-null    object             \n",
      " 5   Warning Text     286 non-null    object             \n",
      " 6   Clare            299 non-null    int64              \n",
      " 7   Cork             299 non-null    int64              \n",
      " 8   Kerry            299 non-null    int64              \n",
      " 9   Limerick         299 non-null    int64              \n",
      " 10  Tipperary        299 non-null    int64              \n",
      " 11  Waterford        299 non-null    int64              \n",
      " 12  Carlow           299 non-null    int64              \n",
      " 13  Dublin           299 non-null    int64              \n",
      " 14  Kildare          299 non-null    int64              \n",
      " 15  Kilkenny         299 non-null    int64              \n",
      " 16  Laois            299 non-null    int64              \n",
      " 17  Longford         299 non-null    int64              \n",
      " 18  Louth            299 non-null    int64              \n",
      " 19  Meath            299 non-null    int64              \n",
      " 20  Offaly           299 non-null    int64              \n",
      " 21  Westmeath        299 non-null    int64              \n",
      " 22  Wexford          299 non-null    int64              \n",
      " 23  Wicklow          299 non-null    int64              \n",
      " 24  Cavan            299 non-null    int64              \n",
      " 25  Donegal          299 non-null    int64              \n",
      " 26  Monaghan         299 non-null    int64              \n",
      " 27  Galway           299 non-null    int64              \n",
      " 28  Leitrim          299 non-null    int64              \n",
      " 29  Mayo             299 non-null    int64              \n",
      " 30  Roscommon        299 non-null    int64              \n",
      " 31  Sligo            299 non-null    int64              \n",
      "dtypes: datetime64[ns, UTC](3), int64(26), object(3)\n",
      "memory usage: 74.9+ KB\n"
     ]
    }
   ],
   "source": [
    "df_xl_ro.info()"
   ]
  },
  {
   "cell_type": "code",
   "execution_count": 15,
   "id": "97ce7e57-7407-47b7-876e-c35b6e3d1d7d",
   "metadata": {},
   "outputs": [
    {
     "name": "stdout",
     "output_type": "stream",
     "text": [
      "ODS Filtered Date Range:\n",
      "Start date: 2013-02-21 18:00:00+00:00\n",
      "End date: 2020-12-30 14:00:00+00:00\n",
      "XML Filtered Date Range:\n",
      "Start date: 2018-01-01 14:02:14+00:00\n",
      "End date: 2023-08-04 11:49:46+00:00\n",
      "XML Filtered Date Range:\n",
      "Start date: 2023-01-01 13:22:00+00:00\n",
      "End date: 2023-12-29 19:12:00+00:00\n"
     ]
    }
   ],
   "source": [
    "### date ranges\n",
    "print(\"ODS Filtered Date Range:\")\n",
    "print(f\"Start date: {df_ods['Issue Time'].min()}\")\n",
    "print(f\"End date: {df_ods['Issue Time'].max()}\")\n",
    "print(\"XML Filtered Date Range:\")\n",
    "print(f\"Start date: {df_xml['Issue Time'].min()}\")\n",
    "print(f\"End date: {df_xml['Issue Time'].max()}\")\n",
    "print(\"XML Filtered Date Range:\")\n",
    "print(f\"Start date: {df_xl_ro['Issue Time'].min()}\")\n",
    "print(f\"End date: {df_xl_ro['Issue Time'].max()}\")"
   ]
  },
  {
   "cell_type": "code",
   "execution_count": 16,
   "id": "eecc7429-9146-4f3a-95d1-c5da414f453a",
   "metadata": {},
   "outputs": [],
   "source": [
    "df_ods_filtered = df_ods[\n",
    "    (df_ods['Issue Time'] >= '2014-01-01') & \n",
    "    (df_ods['Issue Time'] <= '2017-12-31 23:59:59')\n",
    "]\n",
    "df_xml_filtered = df_xml[\n",
    "    (df_xml['Issue Time'] >= '2018-01-01') & \n",
    "    (df_xml['Issue Time'] <= '2022-12-31 23:59:59')\n",
    "]\n",
    "df_xl_filtered = df_xl_ro[\n",
    "    (df_xl_ro['Issue Time'] >= '2023-01-01') & \n",
    "    (df_xl_ro['Issue Time'] <= '2023-12-29 23:59:59')\n",
    "]"
   ]
  },
  {
   "cell_type": "code",
   "execution_count": 17,
   "id": "29bd005a-1876-4033-9d19-b41e5f4690b4",
   "metadata": {},
   "outputs": [],
   "source": [
    "df_combined = pd.concat([df_ods_filtered, df_xml_filtered, df_xl_filtered], ignore_index=True)"
   ]
  },
  {
   "cell_type": "code",
   "execution_count": 18,
   "id": "7cc15fa4-852c-4804-8662-bcf7348dba05",
   "metadata": {},
   "outputs": [
    {
     "name": "stdout",
     "output_type": "stream",
     "text": [
      "Combined Filtered Date Range:\n",
      "Start date: 2014-01-02 09:00:00+00:00\n",
      "End date: 2023-12-29 19:12:00+00:00\n"
     ]
    }
   ],
   "source": [
    "print(\"Combined Filtered Date Range:\")\n",
    "print(f\"Start date: {df_combined['Issue Time'].min()}\")\n",
    "print(f\"End date: {df_combined['Issue Time'].max()}\")"
   ]
  },
  {
   "cell_type": "code",
   "execution_count": 19,
   "id": "f5b457c7-fde9-4e49-849b-ea559f75cabc",
   "metadata": {},
   "outputs": [
    {
     "name": "stdout",
     "output_type": "stream",
     "text": [
      "Unique Warning Elements:\n",
      "['Wind' 'Snow/Ice' 'Rain' 'Fog (or freezing fog)' 'Thunderstorm'\n",
      " 'High Temperature' 'Low Temperature/Ice' 'Moderate Hail warning'\n",
      " 'Moderate Snow-ice warning' 'Moderate Rainfall warning'\n",
      " 'Moderate Low-Temperature warning' 'Moderate Wind warning'\n",
      " 'Severe Wind warning' 'Severe Low-Temperature warning'\n",
      " 'Severe Fog warning' 'Severe Snow-ice warning' 'Extreme Snow-ice warning'\n",
      " 'Severe Thunder warning' 'Moderate Thunder warning'\n",
      " 'Moderate High-Temperature warning' 'Severe Rainfall warning'\n",
      " 'Extreme Wind warning' 'Moderate Fog warning'\n",
      " 'Moderate Small-Craft warning' 'Yellow Rain' 'Orange Rain' 'Yellow Wind'\n",
      " 'Yellow fog' 'Orange Wind' 'Yellow Thunderstorm'\n",
      " 'Yellow High Temperature' 'Orange High Temperature' 'Orange Thunderstorm'\n",
      " 'Minor Rain Warning' 'Minor Wind Warning'\n",
      " 'Minor High Temperature Warning' 'Minor Low Temperature/Ice Warning'\n",
      " 'Minor Fog Warning' 'Minor Snow/Ice Warning' 'Minor Hail Warning'\n",
      " 'Minor Thunderstorm Warning' 'Red Wind' 'Yellow Low Temperature/Ice'\n",
      " 'Yellow Snow/Ice' 'Orange Snow/Ice' 'Orange Low Temperature/Ice'\n",
      " 'Orange Fog' 'Fog / Ice' 'Rainfall' 'Fog' 'wind']\n",
      "Sorted Unique Warning Elements:\n",
      "['Extreme Snow-ice warning', 'Extreme Wind warning', 'Fog', 'Fog (or freezing fog)', 'Fog / Ice', 'High Temperature', 'Low Temperature/Ice', 'Minor Fog Warning', 'Minor Hail Warning', 'Minor High Temperature Warning', 'Minor Low Temperature/Ice Warning', 'Minor Rain Warning', 'Minor Snow/Ice Warning', 'Minor Thunderstorm Warning', 'Minor Wind Warning', 'Moderate Fog warning', 'Moderate Hail warning', 'Moderate High-Temperature warning', 'Moderate Low-Temperature warning', 'Moderate Rainfall warning', 'Moderate Small-Craft warning', 'Moderate Snow-ice warning', 'Moderate Thunder warning', 'Moderate Wind warning', 'Orange Fog', 'Orange High Temperature', 'Orange Low Temperature/Ice', 'Orange Rain', 'Orange Snow/Ice', 'Orange Thunderstorm', 'Orange Wind', 'Rain', 'Rainfall', 'Red Wind', 'Severe Fog warning', 'Severe Low-Temperature warning', 'Severe Rainfall warning', 'Severe Snow-ice warning', 'Severe Thunder warning', 'Severe Wind warning', 'Snow/Ice', 'Thunderstorm', 'Wind', 'Yellow High Temperature', 'Yellow Low Temperature/Ice', 'Yellow Rain', 'Yellow Snow/Ice', 'Yellow Thunderstorm', 'Yellow Wind', 'Yellow fog', 'wind']\n"
     ]
    }
   ],
   "source": [
    "# List unique Warning Elements\n",
    "unique_warning_elements = df_combined['Warning Element'].unique()\n",
    "print(\"Unique Warning Elements:\")\n",
    "print(unique_warning_elements)\n",
    "\n",
    "# Optionally, if you'd like them sorted:\n",
    "print(\"Sorted Unique Warning Elements:\")\n",
    "print(sorted(unique_warning_elements))\n"
   ]
  },
  {
   "cell_type": "code",
   "execution_count": 20,
   "id": "2516e3c9-fe60-4ed6-8f63-e18035f99a4b",
   "metadata": {},
   "outputs": [],
   "source": [
    "def normalize_warning(warning_element: str) -> str:\n",
    "    text = warning_element.lower()\n",
    "\n",
    "    # Step 1: Determine severity\n",
    "    if \"extreme\" in text or \"red\" in text:\n",
    "        severity = \"Extreme\"\n",
    "    elif \"severe\" in text or \"orange\" in text:\n",
    "        severity = \"Severe\"\n",
    "    elif \"moderate\" in text or \"yellow\" in text:\n",
    "        severity = \"Moderate\"\n",
    "    elif \"minor\" in text:\n",
    "        severity = \"Minor\"\n",
    "    else:\n",
    "        # If nothing found, assume \"Moderate\" or you can leave it blank\n",
    "        severity = \"Moderate\"  \n",
    "\n",
    "    # Step 2: Determine phenomenon\n",
    "    if \"hail\" in text:\n",
    "        phenomenon = \"Hail\"\n",
    "    elif \"small-craft\" in text or \"wind\" in text:\n",
    "        # \"small-craft\" warnings generally are wind-related\n",
    "        phenomenon = \"Wind\"\n",
    "    elif \"fog\" in text:\n",
    "        phenomenon = \"Fog\"\n",
    "    elif \"snow\" in text or \"ice\" in text:\n",
    "        # covers \"Snow/Ice\", \"Snow-ice\", etc.\n",
    "        phenomenon = \"Snow-ice\"\n",
    "    elif \"high temperature\" in text or \"high-temperature\" in text:\n",
    "        phenomenon = \"High-Temperature\"\n",
    "    elif \"low temperature\" in text or \"low-temperature\" in text:\n",
    "        phenomenon = \"Low-Temperature\"\n",
    "    elif \"thunder\" in text:\n",
    "        phenomenon = \"Thunder\"\n",
    "    elif \"rain\" in text or \"rainfall\" in text:\n",
    "        phenomenon = \"Rainfall\"\n",
    "    else:\n",
    "        # fallback if unknown\n",
    "        phenomenon = \"Unknown\"\n",
    "\n",
    "    return f\"{severity} {phenomenon} warning\"\n"
   ]
  },
  {
   "cell_type": "code",
   "execution_count": 21,
   "id": "a924e1c4-a0b8-4360-963c-cd0b33891f5a",
   "metadata": {},
   "outputs": [],
   "source": [
    "df_combined[\"Normalized Warning\"] = df_combined[\"Warning Element\"].apply(normalize_warning)\n",
    "\n"
   ]
  },
  {
   "cell_type": "code",
   "execution_count": 27,
   "id": "dd6027e0-bbd0-4ca7-8e16-01c532734ab9",
   "metadata": {},
   "outputs": [
    {
     "name": "stdout",
     "output_type": "stream",
     "text": [
      "                    Issue Time                Valid From  \\\n",
      "1652 2021-08-10 16:38:53+00:00 2021-08-10 16:38:40+00:00   \n",
      "1653 2021-08-10 16:38:53+00:00 2021-08-10 16:38:40+00:00   \n",
      "1654 2021-08-10 16:38:53+00:00 2021-08-10 16:38:40+00:00   \n",
      "1655 2021-08-10 16:38:53+00:00 2021-08-10 16:38:40+00:00   \n",
      "1656 2021-08-10 16:38:53+00:00 2021-08-10 16:38:40+00:00   \n",
      "1657 2021-08-10 16:38:53+00:00 2021-08-10 16:38:40+00:00   \n",
      "1658 2021-08-10 16:38:53+00:00 2021-08-10 16:38:40+00:00   \n",
      "1659 2021-08-10 16:38:53+00:00 2021-08-10 16:38:40+00:00   \n",
      "1660 2021-08-10 16:38:53+00:00 2021-08-10 15:30:00+00:00   \n",
      "1661 2021-08-10 16:38:53+00:00 2021-08-10 15:30:00+00:00   \n",
      "1662 2021-08-10 16:38:53+00:00 2021-08-10 15:30:00+00:00   \n",
      "1663 2021-08-10 16:38:53+00:00 2021-08-10 15:30:00+00:00   \n",
      "1664 2021-08-10 16:38:53+00:00 2021-08-10 15:30:00+00:00   \n",
      "1665 2021-08-10 16:38:53+00:00 2021-08-10 15:30:00+00:00   \n",
      "1666 2021-08-10 16:38:53+00:00 2021-08-10 15:30:00+00:00   \n",
      "\n",
      "                      Valid To Warning Colour  \\\n",
      "1652 2021-08-13 17:00:00+00:00      notmapped   \n",
      "1653 2021-08-13 17:00:00+00:00      notmapped   \n",
      "1654 2021-08-13 17:00:00+00:00      notmapped   \n",
      "1655 2021-08-13 17:00:00+00:00      notmapped   \n",
      "1656 2021-08-13 17:00:00+00:00      notmapped   \n",
      "1657 2021-08-13 17:00:00+00:00      notmapped   \n",
      "1658 2021-08-13 17:00:00+00:00      notmapped   \n",
      "1659 2021-08-13 17:00:00+00:00      notmapped   \n",
      "1660 2021-08-10 15:30:00+00:00      notmapped   \n",
      "1661 2021-08-10 15:30:00+00:00      notmapped   \n",
      "1662 2021-08-10 15:30:00+00:00      notmapped   \n",
      "1663 2021-08-10 15:30:00+00:00      notmapped   \n",
      "1664 2021-08-10 15:30:00+00:00      notmapped   \n",
      "1665 2021-08-10 15:30:00+00:00      notmapped   \n",
      "1666 2021-08-10 15:30:00+00:00      notmapped   \n",
      "\n",
      "                        Warning Element                       Warning Text  \\\n",
      "1652                 Minor Rain Warning                 Minor Rain Warning   \n",
      "1653                 Minor Wind Warning                 Minor Wind Warning   \n",
      "1654     Minor High Temperature Warning     Minor High Temperature Warning   \n",
      "1655  Minor Low Temperature/Ice Warning  Minor Low Temperature/Ice Warning   \n",
      "1656                  Minor Fog Warning                  Minor Fog Warning   \n",
      "1657             Minor Snow/Ice Warning             Minor Snow/Ice Warning   \n",
      "1658                 Minor Hail Warning                 Minor Hail Warning   \n",
      "1659         Minor Thunderstorm Warning         Minor Thunderstorm Warning   \n",
      "1660                 Minor Rain Warning                 Minor Rain Warning   \n",
      "1661                 Minor Wind Warning                 Minor Wind Warning   \n",
      "1662     Minor High Temperature Warning     Minor High Temperature Warning   \n",
      "1663  Minor Low Temperature/Ice Warning  Minor Low Temperature/Ice Warning   \n",
      "1664                  Minor Fog Warning                  Minor Fog Warning   \n",
      "1665                 Minor Hail Warning                 Minor Hail Warning   \n",
      "1666         Minor Thunderstorm Warning         Minor Thunderstorm Warning   \n",
      "\n",
      "      Clare  Cork  Kerry  Limerick  ...  Roscommon  Sligo  \\\n",
      "1652      1     1      1         0  ...          1      1   \n",
      "1653      1     1      1         0  ...          1      1   \n",
      "1654      1     1      1         0  ...          1      1   \n",
      "1655      1     1      1         0  ...          1      1   \n",
      "1656      1     1      1         0  ...          1      1   \n",
      "1657      1     1      1         0  ...          1      1   \n",
      "1658      1     1      1         0  ...          1      1   \n",
      "1659      1     1      1         0  ...          1      1   \n",
      "1660      1     1      1         0  ...          1      1   \n",
      "1661      1     1      1         0  ...          1      1   \n",
      "1662      1     1      1         0  ...          1      1   \n",
      "1663      1     1      1         0  ...          1      1   \n",
      "1664      1     1      1         0  ...          1      1   \n",
      "1665      1     1      1         0  ...          1      1   \n",
      "1666      1     1      1         0  ...          1      1   \n",
      "\n",
      "                  Normalized Warning  HSE Dublin and North East  \\\n",
      "1652          Minor Rainfall warning                          1   \n",
      "1653              Minor Wind warning                          1   \n",
      "1654  Minor High-Temperature warning                          1   \n",
      "1655          Minor Snow-ice warning                          1   \n",
      "1656               Minor Fog warning                          1   \n",
      "1657          Minor Snow-ice warning                          1   \n",
      "1658              Minor Hail warning                          1   \n",
      "1659           Minor Thunder warning                          1   \n",
      "1660          Minor Rainfall warning                          1   \n",
      "1661              Minor Wind warning                          1   \n",
      "1662  Minor High-Temperature warning                          1   \n",
      "1663          Minor Snow-ice warning                          1   \n",
      "1664               Minor Fog warning                          1   \n",
      "1665              Minor Hail warning                          1   \n",
      "1666           Minor Thunder warning                          1   \n",
      "\n",
      "      HSE Dublin and Midlands  HSE Dublin and South East  HSE Mid West  \\\n",
      "1652                        1                          1             1   \n",
      "1653                        1                          1             1   \n",
      "1654                        1                          1             1   \n",
      "1655                        1                          1             1   \n",
      "1656                        1                          1             1   \n",
      "1657                        1                          1             1   \n",
      "1658                        1                          1             1   \n",
      "1659                        1                          1             1   \n",
      "1660                        1                          1             1   \n",
      "1661                        1                          1             1   \n",
      "1662                        1                          1             1   \n",
      "1663                        1                          1             1   \n",
      "1664                        1                          1             1   \n",
      "1665                        1                          1             1   \n",
      "1666                        1                          1             1   \n",
      "\n",
      "      HSE South West  HSE West and North West  Duration_hours  \n",
      "1652               1                        1       72.355556  \n",
      "1653               1                        1       72.355556  \n",
      "1654               1                        1       72.355556  \n",
      "1655               1                        1       72.355556  \n",
      "1656               1                        1       72.355556  \n",
      "1657               1                        1       72.355556  \n",
      "1658               1                        1       72.355556  \n",
      "1659               1                        1       72.355556  \n",
      "1660               1                        1        0.000000  \n",
      "1661               1                        1        0.000000  \n",
      "1662               1                        1        0.000000  \n",
      "1663               1                        1        0.000000  \n",
      "1664               1                        1        0.000000  \n",
      "1665               1                        1        0.000000  \n",
      "1666               1                        1        0.000000  \n",
      "\n",
      "[15 rows x 40 columns]\n"
     ]
    }
   ],
   "source": [
    "minor_rows = df_combined[df_combined[\"Warning Element\"].str.contains(\"minor\", case=False, na=False)]\n",
    "\n",
    "# Show the filtered rows\n",
    "print(minor_rows)"
   ]
  },
  {
   "cell_type": "code",
   "execution_count": 30,
   "id": "e8134710-1e97-4535-abbc-347324c07168",
   "metadata": {},
   "outputs": [],
   "source": [
    "df_combined = df_combined[~df_combined[\"Warning Element\"].str.contains(\"minor\", case=False, na=False)]\n"
   ]
  },
  {
   "cell_type": "code",
   "execution_count": 31,
   "id": "5c5907e9-0c72-4aec-84a5-e19c3bbe078c",
   "metadata": {},
   "outputs": [
    {
     "name": "stdout",
     "output_type": "stream",
     "text": [
      "Sample of rows with HSE region columns:\n",
      "   HSE Dublin and North East  HSE Dublin and Midlands  \\\n",
      "0                          0                        0   \n",
      "1                          1                        1   \n",
      "2                          1                        1   \n",
      "3                          1                        1   \n",
      "4                          1                        1   \n",
      "\n",
      "   HSE Dublin and South East  HSE Mid West  HSE South West  \\\n",
      "0                          0             1               1   \n",
      "1                          1             1               0   \n",
      "2                          1             1               1   \n",
      "3                          1             1               1   \n",
      "4                          1             1               1   \n",
      "\n",
      "   HSE West and North West  \n",
      "0                        1  \n",
      "1                        0  \n",
      "2                        1  \n",
      "3                        1  \n",
      "4                        1  \n",
      "\n",
      "Number of warnings per HSE region:\n",
      "HSE Dublin and North East: 1159\n",
      "HSE Dublin and Midlands: 1271\n",
      "HSE Dublin and South East: 1309\n",
      "HSE Mid West: 1216\n",
      "HSE South West: 1453\n",
      "HSE West and North West: 1698\n"
     ]
    }
   ],
   "source": [
    "# Create new columns for each HSE region, initialized with 0\n",
    "hse_regions = {\n",
    "    'HSE Dublin and North East': ['Cavan', 'Monaghan', 'Louth', 'Meath', 'Dublin'],\n",
    "    'HSE Dublin and Midlands': ['Kildare', 'Wicklow', 'Laois', 'Offaly', 'Longford', 'Westmeath', 'Dublin'],\n",
    "    'HSE Dublin and South East': ['Carlow', 'Kilkenny', 'Tipperary', 'Waterford', 'Wexford', 'Wicklow', 'Dublin'],\n",
    "    'HSE Mid West': ['Clare', 'Limerick', 'Tipperary'],\n",
    "    'HSE South West': ['Cork', 'Kerry'],\n",
    "    'HSE West and North West': ['Donegal', 'Sligo', 'Leitrim', 'Mayo', 'Galway', 'Roscommon']\n",
    "}\n",
    "\n",
    "# Initialize new columns with 0\n",
    "for region in hse_regions.keys():\n",
    "    df_combined[region] = 0\n",
    "\n",
    "# For each region, set to 1 if any of its counties has a 1\n",
    "for region, counties in hse_regions.items():\n",
    "    df_combined[region] = (df_combined[counties].sum(axis=1) > 0).astype(int)\n",
    "\n",
    "# Verify the results\n",
    "print(\"Sample of rows with HSE region columns:\")\n",
    "print(df_combined[list(hse_regions.keys())].head())\n",
    "\n",
    "# Check distribution of regional warnings\n",
    "print(\"\\nNumber of warnings per HSE region:\")\n",
    "for region in hse_regions.keys():\n",
    "    print(f\"{region}: {df_combined[region].sum()}\")"
   ]
  },
  {
   "cell_type": "code",
   "execution_count": 32,
   "id": "779ec789-06aa-40c5-8fb1-1bfb82198c44",
   "metadata": {},
   "outputs": [
    {
     "name": "stdout",
     "output_type": "stream",
     "text": [
      "                 Valid From                  Valid To  Duration_hours\n",
      "0 2014-01-02 17:00:00+00:00 2014-01-03 14:00:00+00:00            21.0\n",
      "1 2014-01-02 17:00:00+00:00 2014-01-03 14:00:00+00:00            21.0\n",
      "2 2014-01-03 14:00:00+00:00 2014-01-03 19:00:00+00:00             5.0\n",
      "3 2014-01-04 03:00:00+00:00 2014-01-04 14:00:00+00:00            11.0\n",
      "4 2014-01-05 08:00:00+00:00 2014-01-05 20:00:00+00:00            12.0\n"
     ]
    }
   ],
   "source": [
    "##add length of event feature\n",
    "# Ensure the 'Valid From' and 'Valid To' columns are in datetime format\n",
    "df_combined['Valid From'] = pd.to_datetime(df_combined['Valid From'])\n",
    "df_combined['Valid To'] = pd.to_datetime(df_combined['Valid To'])\n",
    "\n",
    "# Calculate the duration in hours and create a new column\n",
    "df_combined['Duration_hours'] = (df_combined['Valid To'] - df_combined['Valid From']).dt.total_seconds() / 3600\n",
    "\n",
    "# Check the first few rows to verify the new column\n",
    "print(df_combined[['Valid From', 'Valid To', 'Duration_hours']].head())\n"
   ]
  },
  {
   "cell_type": "code",
   "execution_count": 33,
   "id": "718c506a-1197-47c8-9377-9ed8bca36002",
   "metadata": {},
   "outputs": [],
   "source": [
    "df_combined.to_csv('/home/paulharford/college/project/project_data/processed/WEATHERED_warnings_2014-2023_cleaned.csv', index=False)"
   ]
  },
  {
   "cell_type": "code",
   "execution_count": null,
   "id": "0d672a6d-eb0e-4a38-8c28-2f36ce13ab3f",
   "metadata": {},
   "outputs": [],
   "source": []
  }
 ],
 "metadata": {
  "kernelspec": {
   "display_name": "Python 3 (ipykernel)",
   "language": "python",
   "name": "python3"
  },
  "language_info": {
   "codemirror_mode": {
    "name": "ipython",
    "version": 3
   },
   "file_extension": ".py",
   "mimetype": "text/x-python",
   "name": "python",
   "nbconvert_exporter": "python",
   "pygments_lexer": "ipython3",
   "version": "3.12.2"
  }
 },
 "nbformat": 4,
 "nbformat_minor": 5
}
