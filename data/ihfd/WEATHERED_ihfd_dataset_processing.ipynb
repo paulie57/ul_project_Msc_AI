{
 "cells": [
  {
   "cell_type": "markdown",
   "id": "10c2277c-d9ab-45ac-8b9c-9a68e3d9724c",
   "metadata": {},
   "source": [
    "#### Set styling for plotting"
   ]
  },
  {
   "cell_type": "code",
   "execution_count": 1,
   "id": "008257ad-fd71-4beb-a4c5-8589307d01de",
   "metadata": {},
   "outputs": [],
   "source": [
    "import pandas as pd\n",
    "import matplotlib.pyplot as plt\n",
    "import matplotlib.dates as mdates\n",
    "import matplotlib.ticker as ticker\n",
    "import seaborn as sns\n",
    "sns.set_palette('colorblind')\n",
    "from matplotlib.pyplot import tight_layout\n",
    "# ##SETTING PARAMS FOR MATPLOTLIB FIGURES\n",
    "plt.rcParams.update({\"figure.figsize\": (6, 6),\n",
    "                 \"axes.facecolor\": \"white\",\n",
    "                 \"axes.edgecolor\": \"black\"})\n",
    "plt.rcParams['axes.prop_cycle'] = plt.cycler(color=sns.color_palette('colorblind'))\n",
    "##set font size\n",
    "font = {'family': 'sans-serif',\n",
    "       'weight': 'normal',\n",
    "       'size': 14}\n",
    "plt.rc('font', **font)\n",
    "# ##PANDAS PLOTTING\n",
    "pd.plotting.register_matplotlib_converters()"
   ]
  },
  {
   "cell_type": "markdown",
   "id": "2b1cab69-cc13-4c24-afb1-6b7d84f165a1",
   "metadata": {},
   "source": [
    "#### Step 1: save environment file"
   ]
  },
  {
   "cell_type": "code",
   "execution_count": 2,
   "id": "048045bf-c3cf-4b98-b98b-38e39e78c181",
   "metadata": {},
   "outputs": [],
   "source": [
    "!conda env export > ihfd_environment.yml"
   ]
  },
  {
   "cell_type": "markdown",
   "id": "18a68556-70f4-43cf-a728-31459c8475b6",
   "metadata": {},
   "source": [
    "#### Step 2: import modules"
   ]
  },
  {
   "cell_type": "code",
   "execution_count": 3,
   "id": "4bb09125-64b0-44e1-8662-d89260501677",
   "metadata": {},
   "outputs": [
    {
     "name": "stdout",
     "output_type": "stream",
     "text": [
      "Requirement already satisfied: openpyxl in /home/paulharford/anaconda3/envs/msc/lib/python3.12/site-packages (3.1.5)\n",
      "Requirement already satisfied: et-xmlfile in /home/paulharford/anaconda3/envs/msc/lib/python3.12/site-packages (from openpyxl) (2.0.0)\n"
     ]
    }
   ],
   "source": [
    "import glob\n",
    "import os\n",
    "import xml.etree.ElementTree as ET\n",
    "from datetime import datetime, timezone\n",
    "from tqdm import tqdm\n",
    "import codecs\n",
    "import csv\n",
    "import numpy as np\n",
    "!pip install openpyxl\n",
    "%matplotlib inline"
   ]
  },
  {
   "cell_type": "markdown",
   "id": "37825704-269a-452d-b99c-992ac056e6e4",
   "metadata": {},
   "source": [
    "## INFORMATION\n",
    "\n",
    "$$\n",
    "\\begin{array}{|r|l|r|l|l|}\n",
    "\\hline\n",
    "\\text{No} & \\text{Variable} & \\text{Count} & \\text{Label} & \\text{Description} \\\\\n",
    "\\hline\\hline\n",
    "0 & \\text{Index} & 37310 & \\text{N/A} & \\text{Index number for each entry} \\\\\n",
    "\\hline\n",
    "1 & \\text{Adm\\_Trauma\\_DateTime} & 12913 & \\text{1. Date and time of trauma} & \\text{Date and time of trauma causing hip fracture (Format: DD/MM/YYYY, HH:MM)} \\\\\n",
    "\\hline\n",
    "2 & \\text{NOCA\\_AgeRange} & 37310 & \\text{Age range} & \\text{Age range of patient} \\\\\n",
    "\\hline\n",
    "3 & \\text{Adm\\_Trauma\\_TYPE} & 37078 & \\text{2. Type of trauma} & \\begin{array}{l} \n",
    "    1 \\text{ High energy trauma} \\\\ \n",
    "    2 \\text{ Low energy trauma} \\\\ \n",
    "    8 \\text{ Unknown} \\\\ \n",
    "    9 \\text{ Not documented} \\end{array} \\\\\n",
    "\\hline\n",
    "4 & \\text{Adm\\_Hospital\\_Fall} & 2535 & \\text{4H. Hospital fall} & \\begin{array}{l}\n",
    "    1 \\text{ Yes} \\\\\n",
    "    2 \\text{ No} \\end{array} \\\\\n",
    "\\hline\n",
    "5 & \\text{Adm\\_Ward\\_Type} & 37299 & \\text{5. Ward type} & \\begin{array}{l} \n",
    "    1 \\text{ Orthopaedic Ward} \\\\ \n",
    "    2 \\text{ Never Admitted to Orthopaedic Ward} \\\\ \n",
    "    9 \\text{ Not Documented} \\end{array} \\\\\n",
    "\\hline\n",
    "6 & \\text{Adm\\_Pre\\_Frac\\_Indoor} & 29378 & \\text{6A. Indoor mobility} & \\begin{array}{l} \n",
    "    0 \\text{ Unable} \\\\ \n",
    "    1 \\text{ Assistance of one person} \\\\ \n",
    "    2 \\text{ With an aid} \\\\ \n",
    "    3 \\text{ Independent} \\end{array} \\\\\n",
    "\\hline\n",
    "7 & \\text{Adm\\_PRE\\_Frac\\_Outdoor} & 29141 & \\text{6B. Outdoor mobility} & \\begin{array}{l} \n",
    "    0 \\text{ Unable} \\\\ \n",
    "    1 \\text{ Assistance of one person} \\\\ \n",
    "    2 \\text{ With an aid} \\\\ \n",
    "    3 \\text{ Independent} \\end{array} \\\\\n",
    "\\hline\n",
    "8 & \\text{Adm\\_Pre\\_Frac\\_Shop} & 29037 & \\text{6C. Shopping capability} & \\begin{array}{l} \n",
    "    0 \\text{ Unable} \\\\ \n",
    "    1 \\text{ Assistance of one person} \\\\ \n",
    "    2 \\text{ With an aid} \\\\ \n",
    "    3 \\text{ Independent} \\end{array} \\\\\n",
    "\\hline\n",
    "9 & \\text{Adm\\_Pre\\_Frac\\_Number} & 29117 & \\text{6D. Mobility Score} & \\text{Pre-fracture New Mobility Score (Sum A+B+C)} \\\\\n",
    "\\hline\n",
    "10 & \\text{Adm\\_Fracture\\_Type} & 37123 & \\text{8A. Fracture type} & \\begin{array}{l} \n",
    "    1 \\text{ Intracapsular - displaced} \\\\ \n",
    "    2 \\text{ Intracapsular - undisplaced} \\\\ \n",
    "    3 \\text{ Intertrochanteric} \\\\ \n",
    "    4 \\text{ Subtrochanteric} \\\\ \n",
    "    5 \\text{ Periprosthetic} \\\\ \n",
    "    8 \\text{ Other} \\\\ \n",
    "    9 \\text{ Not documented} \\end{array} \\\\\n",
    "\\hline\n",
    "11 & \\text{Adm\\_FRACTURE\\_Type\\_Other2} & 2 & \\text{8B. Fracture type other} & \\text{Type of fracture (Other, please specify)} \\\\\n",
    "\\hline\n",
    "12 & \\text{Adm\\_Pathological} & 36419 & \\text{9. Pathological fracture} & \\begin{array}{l} \n",
    "    1 \\text{ Atypical} \\\\ \n",
    "    2 \\text{ Malignancy} \\\\ \n",
    "    3 \\text{ No} \\\\ \n",
    "    9 \\text{ Not documented} \\end{array} \\\\\n",
    "\\hline\n",
    "13 & \\text{Adm\\_Fragility} & 36692 & \\text{10. Fragility fractures} & \\begin{array}{l} \n",
    "    1 \\text{ Yes} \\\\ \n",
    "    2 \\text{ No} \\\\ \n",
    "    9 \\text{ Not documented} \\end{array} \\\\\n",
    "\\hline\n",
    "14 & \\text{Adm\\_Pre\\_OP\\_Med\\_Assess} & 37157 & \\text{11. Pre-op medical assessment} & \\begin{array}{l} \n",
    "    1 \\text{ Routine by geriatrician} \\\\ \n",
    "    2 \\text{ Routine by medical physician} \\\\ \n",
    "    6 \\text{ None} \\\\ \n",
    "    7 \\text{ Ger review following request} \\\\ \n",
    "    8 \\text{ Med physician review following request} \\\\ \n",
    "    9 \\text{ Not documented} \\end{array} \\\\\n",
    "\\hline\n",
    "15 & \\text{Adm\\_Ger\\_Acute\\_Assess} & 35313 & \\text{11A. Geriatric assessment} & \\begin{array}{l} \n",
    "    1 \\text{ Yes} \\\\ \n",
    "    2 \\text{ No} \\\\ \n",
    "    3 \\text{ Not applicable} \\\\ \n",
    "    9 \\text{ Not documented} \\end{array} \\\\\n",
    "\\hline\n",
    "16 & \\text{Adm\\_Operation} & 37222 & \\text{14. Operation} & \\begin{array}{l} \n",
    "    00 \\text{ No operation performed} \\\\ \n",
    "    01 \\text{ Internal fixation DHS} \\\\ \n",
    "    02 \\text{ Internal fixation Screws} \\\\ \n",
    "    03 \\text{ IM nail long} \\\\ \n",
    "    04 \\text{ IM nail short} \\\\ \n",
    "    05 \\text{ Art hemi uncemented} \\\\ \n",
    "    06 \\text{ Art hemi cemented} \\\\ \n",
    "    07 \\text{ Art total hip replacement} \\\\ \n",
    "    99 \\text{ Not documented} \\end{array} \\\\\n",
    "\\hline\n",
    "17 & \\text{Adm\\_Asa\\_Grade} & 35451 & \\text{14A. ASA Grade} & \\begin{array}{l} \n",
    "    1 \\text{ Normal healthy individual} \\\\ \n",
    "    2 \\text{ Mild systemic disease} \\\\ \n",
    "    3 \\text{ Severe systemic disease} \\\\ \n",
    "    4 \\text{ Incapacitating disease} \\\\ \n",
    "    5 \\text{ Moribund, not expected to survive} \\\\ \n",
    "    9 \\text{ Not documented} \\end{array} \\\\\n",
    "\\hline\n",
    "18 & \\text{Adm\\_Anaesthesia} & 35382 & \\text{14B. Anaesthesia type} & \\begin{array}{l} \n",
    "    1 \\text{ GA only} \\\\ \n",
    "    2 \\text{ GA + nerve block} \\\\ \n",
    "    3 \\text{ GA + spinal anaesthesia} \\\\ \n",
    "    4 \\text{ GA + epidural anaesthesia} \\\\ \n",
    "    5 \\text{ SA only} \\\\ \n",
    "    6 \\text{ SA + nerve block} \\\\ \n",
    "    7 \\text{ SA + epidural (CSE)} \\\\ \n",
    "    8 \\text{ Other} \\\\ \n",
    "    9 \\text{ Not documented} \\end{array} \\\\\n",
    "\\hline\n",
    "19 & \\text{Adm\\_Primary\\_Surgery\\_DateTime} & 35575 & \\text{14E. Surgery Date/Time} & \\text{Date and time of primary surgery (Format: DD/MM/YYYY, HH:MM)} \\\\\n",
    "\\hline\n",
    "20 & \\text{Adm\\_Surgery\\_Delay\\_Reason} & 35372 & \\text{14H. Surgery delay reason} & \\begin{array}{l} \n",
    "    0 \\text{ No delay - surgery < 48 hours} \\\\ \n",
    "    1 \\text{ Awaiting orthopaedic diagnosis} \\\\ \n",
    "    2 \\text{ Awaiting medical review or stabilisation} \\\\ \n",
    "    3 \\text{ Awaiting inpatient or high dependency bed} \\\\ \n",
    "    4 \\text{ Awaiting space on theatre list} \\\\ \n",
    "    5 \\text{ Problem with theatre/equipment} \\\\ \n",
    "    6 \\text{ Problem with surgical staff cover} \\\\ \n",
    "    7 \\text{ Cancelled due to list over-run} \\\\ \n",
    "    8 \\text{ Other} \\\\ \n",
    "    9 \\text{ Not documented} \\end{array} \\\\\n",
    "\\hline\n",
    "21 & \\text{Adm\\_Mobilised} & 33741 & \\text{14J. Mobilised post-surgery} & \\begin{array}{l} \n",
    "    1 \\text{ Yes} \\\\ \n",
    "    2 \\text{ No} \\\\ \n",
    "    9 \\text{ Not documented} \\end{array} \\\\\n",
    "\\hline\n",
    "22 & \\text{Adm\\_RE\\_OP\\_30\\_DAYS} & 33094 & \\text{14M. Re-operation within 30 days} & \\begin{array}{l} \n",
    "    0 \\text{ None} \\\\ \n",
    "    1 \\text{ Reduction of dislocated prosthesis} \\\\ \n",
    "    2 \\text{ Washout or debridement} \\\\ \n",
    "    3 \\text{ Implant removal} \\\\ \n",
    "    4 \\text{ Revision of internal fixation} \\\\ \n",
    "    5 \\text{ Conversion to Hemiarthroplasty} \\\\ \n",
    "    6 \\text{ Conversion to THR} \\\\ \n",
    "    7 \\text{ Girdlestone/excision arthroplasty} \\\\ \n",
    "    8 \\text{ Surgery for periprosthetic fracture} \\\\ \n",
    "    9 \\text{ Not documented} \\end{array} \\\\\n",
    "\\hline\n",
    "23 & \\text{Adm\\_Pressure\\_Ulcers} & 36904 & \\text{16. Pressure ulcers} & \\begin{array}{l} \n",
    "    1 \\text{ Yes} \\\\ \n",
    "    2 \\text{ No} \\\\ \n",
    "    9 \\text{ Not documented} \\end{array} \\\\\n",
    "\\hline\n",
    "24 & \\text{Adm\\_Spec\\_Falls\\_Assess} & 36886 & \\text{17. Falls assessment} & \\begin{array}{l} \n",
    "    0 \\text{ No} \\\\ \n",
    "    1 \\text{ Yes - performed on this admission} \\\\ \n",
    "    2 \\text{ Yes - awaits out-patient assessment} \\\\ \n",
    "    3 \\text{ Not applicable} \\end{array} \\\\\n",
    "\\hline\n",
    "25 & \\text{Adm\\_Bone\\_Protect\\_Med} & 36614 & \\text{18. Bone protection medication} & \\begin{array}{l} \n",
    "    0 \\text{ No assessment} \\\\ \n",
    "    1 \\text{ Started on this admission} \\\\ \n",
    "    2 \\text{ Continued from pre-admission} \\\\ \n",
    "    3 \\text{ Awaits DXA scan} \\\\ \n",
    "    4 \\text{ Awaits out-patient assessment} \\\\ \n",
    "    5 \\text{ No medication needed} \\\\ \n",
    "    6 \\text{ Not applicable} \\end{array} \\\\\n",
    "\\hline\n",
    "26 & \\text{Adm\\_Multi\\_Rehab\\_Assess} & 36796 & \\text{19. Multidisciplinary rehab} & \\begin{array}{l} \n",
    "    1 \\text{ Yes} \\\\ \n",
    "    2 \\text{ No} \\\\ \n",
    "    9 \\text{ Not documented} \\end{array} \\\\\n",
    "\\hline\n",
    "27 & \\text{Adm\\_AMB\\_Number\\_ACU\\_DIS} & 13956 & \\text{20. Ambulatory Score acute discharge} & \\text{Cumulative Ambulatory Score – acute discharge (0 - 6)} \\\\\n",
    "\\hline\n",
    "28 & \\text{Adm\\_Discharged\\_To} & 25994 & \\text{21. Discharge destination} & \\begin{array}{l} \n",
    "    1 \\text{ Home} \\\\ \n",
    "    2 \\text{ On-site rehab unit} \\\\ \n",
    "    3 \\text{ Off-site rehab unit} \\\\ \n",
    "    4 \\text{ Convalescence care} \\\\ \n",
    "    5 \\text{ New adm to nursing home} \\\\ \n",
    "    6 \\text{ Return adm to nursing home} \\\\ \n",
    "    7 \\text{ Died} \\\\ \n",
    "    8 \\text{ Other} \\end{array} \\\\\n",
    "\\hline\n",
    "29 & \\text{Adm\\_Nut\\_Risk} & 18788 & \\text{12. Nutritional risk assessment} & \\begin{array}{l} \n",
    "    0 \\text{ No} \\\\ \n",
    "    1 \\text{ Indicates malnourished} \\\\ \n",
    "    2 \\text{ Indicates risk of malnutrition} \\\\ \n",
    "    3 \\text{ Indicates normal} \\end{array} \\\\\n",
    "\\hline\n",
    "30 & \\text{Adm\\_Nerve\\_Block} & 19231 & \\text{13. Nerve block administered} & \\begin{array}{l} \n",
    "    1 \\text{ Yes} \\\\ \n",
    "    2 \\text{ No} \\\\ \n",
    "    9 \\text{ Not documented} \\end{array} \\\\\n",
    "\\hline\n",
    "31 & \\text{Adm\\_Ass\\_Anp} & 15730 & \\text{11E. ANP/cANP assessment} & \\begin{array}{l} \n",
    "    1 \\text{ Yes} \\\\ \n",
    "    2 \\text{ No} \\\\ \n",
    "    3 \\text{ Not applicable} \\\\ \n",
    "    9 \\text{ Not documented} \\end{array} \\\\\n",
    "\\hline\n",
    "32 & \\text{Adm\\_Mobilised\\_No\\_Opt} & 2156 & \\text{14J3. Reason for not mobilised} & \\begin{array}{l} \n",
    "    1 \\text{ Pain} \\\\ \n",
    "    2 \\text{ Confusion/agitation/delirium} \\\\ \n",
    "    3 \\text{ Patient declined} \\\\ \n",
    "    4 \\text{ Medically not fit} \\\\ \n",
    "    5 \\text{ Not mobile pre-fracture} \\\\ \n",
    "    6 \\text{ Physio staffing issues} \\\\ \n",
    "    7 \\text{ Other staffing} \\\\ \n",
    "    8 \\text{ Other} \\\\ \n",
    "    9 \\text{ Not documented} \\end{array} \\\\\n",
    "\\hline\n",
    "\\end{array}\n",
    "$$\n",
    "\n",
    " "
   ]
  },
  {
   "cell_type": "markdown",
   "id": "8baafdf0-49ea-40b3-94a6-5c56bd4ea920",
   "metadata": {},
   "source": [
    "#### Step 3: import data files"
   ]
  },
  {
   "cell_type": "code",
   "execution_count": 4,
   "id": "ce0b8c77-0d0c-4932-b046-5a577a71217a",
   "metadata": {},
   "outputs": [],
   "source": [
    "data_directory_xl = \"/home/paulharford/college/project/project_data/ihfdv3.xlsx\"\n",
    "full_path_xl = os.path.abspath(data_directory_xl)\n"
   ]
  },
  {
   "cell_type": "code",
   "execution_count": 5,
   "id": "7b75719e-a9a5-4591-b08f-c1666d9926c7",
   "metadata": {},
   "outputs": [
    {
     "ename": "FileNotFoundError",
     "evalue": "[Errno 2] No such file or directory: '/home/paulharford/college/project/project_data/ihfdv3.xlsx'",
     "output_type": "error",
     "traceback": [
      "\u001b[0;31m---------------------------------------------------------------------------\u001b[0m",
      "\u001b[0;31mFileNotFoundError\u001b[0m                         Traceback (most recent call last)",
      "Cell \u001b[0;32mIn[5], line 2\u001b[0m\n\u001b[1;32m      1\u001b[0m \u001b[38;5;66;03m##Import data from excel into panda's dataframe\u001b[39;00m\n\u001b[0;32m----> 2\u001b[0m ihfd_df \u001b[38;5;241m=\u001b[39m \u001b[43mpd\u001b[49m\u001b[38;5;241;43m.\u001b[39;49m\u001b[43mread_excel\u001b[49m\u001b[43m(\u001b[49m\u001b[43mfull_path_xl\u001b[49m\u001b[43m)\u001b[49m\n",
      "File \u001b[0;32m~/anaconda3/envs/msc/lib/python3.12/site-packages/pandas/io/excel/_base.py:495\u001b[0m, in \u001b[0;36mread_excel\u001b[0;34m(io, sheet_name, header, names, index_col, usecols, dtype, engine, converters, true_values, false_values, skiprows, nrows, na_values, keep_default_na, na_filter, verbose, parse_dates, date_parser, date_format, thousands, decimal, comment, skipfooter, storage_options, dtype_backend, engine_kwargs)\u001b[0m\n\u001b[1;32m    493\u001b[0m \u001b[38;5;28;01mif\u001b[39;00m \u001b[38;5;129;01mnot\u001b[39;00m \u001b[38;5;28misinstance\u001b[39m(io, ExcelFile):\n\u001b[1;32m    494\u001b[0m     should_close \u001b[38;5;241m=\u001b[39m \u001b[38;5;28;01mTrue\u001b[39;00m\n\u001b[0;32m--> 495\u001b[0m     io \u001b[38;5;241m=\u001b[39m \u001b[43mExcelFile\u001b[49m\u001b[43m(\u001b[49m\n\u001b[1;32m    496\u001b[0m \u001b[43m        \u001b[49m\u001b[43mio\u001b[49m\u001b[43m,\u001b[49m\n\u001b[1;32m    497\u001b[0m \u001b[43m        \u001b[49m\u001b[43mstorage_options\u001b[49m\u001b[38;5;241;43m=\u001b[39;49m\u001b[43mstorage_options\u001b[49m\u001b[43m,\u001b[49m\n\u001b[1;32m    498\u001b[0m \u001b[43m        \u001b[49m\u001b[43mengine\u001b[49m\u001b[38;5;241;43m=\u001b[39;49m\u001b[43mengine\u001b[49m\u001b[43m,\u001b[49m\n\u001b[1;32m    499\u001b[0m \u001b[43m        \u001b[49m\u001b[43mengine_kwargs\u001b[49m\u001b[38;5;241;43m=\u001b[39;49m\u001b[43mengine_kwargs\u001b[49m\u001b[43m,\u001b[49m\n\u001b[1;32m    500\u001b[0m \u001b[43m    \u001b[49m\u001b[43m)\u001b[49m\n\u001b[1;32m    501\u001b[0m \u001b[38;5;28;01melif\u001b[39;00m engine \u001b[38;5;129;01mand\u001b[39;00m engine \u001b[38;5;241m!=\u001b[39m io\u001b[38;5;241m.\u001b[39mengine:\n\u001b[1;32m    502\u001b[0m     \u001b[38;5;28;01mraise\u001b[39;00m \u001b[38;5;167;01mValueError\u001b[39;00m(\n\u001b[1;32m    503\u001b[0m         \u001b[38;5;124m\"\u001b[39m\u001b[38;5;124mEngine should not be specified when passing \u001b[39m\u001b[38;5;124m\"\u001b[39m\n\u001b[1;32m    504\u001b[0m         \u001b[38;5;124m\"\u001b[39m\u001b[38;5;124man ExcelFile - ExcelFile already has the engine set\u001b[39m\u001b[38;5;124m\"\u001b[39m\n\u001b[1;32m    505\u001b[0m     )\n",
      "File \u001b[0;32m~/anaconda3/envs/msc/lib/python3.12/site-packages/pandas/io/excel/_base.py:1550\u001b[0m, in \u001b[0;36mExcelFile.__init__\u001b[0;34m(self, path_or_buffer, engine, storage_options, engine_kwargs)\u001b[0m\n\u001b[1;32m   1548\u001b[0m     ext \u001b[38;5;241m=\u001b[39m \u001b[38;5;124m\"\u001b[39m\u001b[38;5;124mxls\u001b[39m\u001b[38;5;124m\"\u001b[39m\n\u001b[1;32m   1549\u001b[0m \u001b[38;5;28;01melse\u001b[39;00m:\n\u001b[0;32m-> 1550\u001b[0m     ext \u001b[38;5;241m=\u001b[39m \u001b[43minspect_excel_format\u001b[49m\u001b[43m(\u001b[49m\n\u001b[1;32m   1551\u001b[0m \u001b[43m        \u001b[49m\u001b[43mcontent_or_path\u001b[49m\u001b[38;5;241;43m=\u001b[39;49m\u001b[43mpath_or_buffer\u001b[49m\u001b[43m,\u001b[49m\u001b[43m \u001b[49m\u001b[43mstorage_options\u001b[49m\u001b[38;5;241;43m=\u001b[39;49m\u001b[43mstorage_options\u001b[49m\n\u001b[1;32m   1552\u001b[0m \u001b[43m    \u001b[49m\u001b[43m)\u001b[49m\n\u001b[1;32m   1553\u001b[0m     \u001b[38;5;28;01mif\u001b[39;00m ext \u001b[38;5;129;01mis\u001b[39;00m \u001b[38;5;28;01mNone\u001b[39;00m:\n\u001b[1;32m   1554\u001b[0m         \u001b[38;5;28;01mraise\u001b[39;00m \u001b[38;5;167;01mValueError\u001b[39;00m(\n\u001b[1;32m   1555\u001b[0m             \u001b[38;5;124m\"\u001b[39m\u001b[38;5;124mExcel file format cannot be determined, you must specify \u001b[39m\u001b[38;5;124m\"\u001b[39m\n\u001b[1;32m   1556\u001b[0m             \u001b[38;5;124m\"\u001b[39m\u001b[38;5;124man engine manually.\u001b[39m\u001b[38;5;124m\"\u001b[39m\n\u001b[1;32m   1557\u001b[0m         )\n",
      "File \u001b[0;32m~/anaconda3/envs/msc/lib/python3.12/site-packages/pandas/io/excel/_base.py:1402\u001b[0m, in \u001b[0;36minspect_excel_format\u001b[0;34m(content_or_path, storage_options)\u001b[0m\n\u001b[1;32m   1399\u001b[0m \u001b[38;5;28;01mif\u001b[39;00m \u001b[38;5;28misinstance\u001b[39m(content_or_path, \u001b[38;5;28mbytes\u001b[39m):\n\u001b[1;32m   1400\u001b[0m     content_or_path \u001b[38;5;241m=\u001b[39m BytesIO(content_or_path)\n\u001b[0;32m-> 1402\u001b[0m \u001b[38;5;28;01mwith\u001b[39;00m \u001b[43mget_handle\u001b[49m\u001b[43m(\u001b[49m\n\u001b[1;32m   1403\u001b[0m \u001b[43m    \u001b[49m\u001b[43mcontent_or_path\u001b[49m\u001b[43m,\u001b[49m\u001b[43m \u001b[49m\u001b[38;5;124;43m\"\u001b[39;49m\u001b[38;5;124;43mrb\u001b[39;49m\u001b[38;5;124;43m\"\u001b[39;49m\u001b[43m,\u001b[49m\u001b[43m \u001b[49m\u001b[43mstorage_options\u001b[49m\u001b[38;5;241;43m=\u001b[39;49m\u001b[43mstorage_options\u001b[49m\u001b[43m,\u001b[49m\u001b[43m \u001b[49m\u001b[43mis_text\u001b[49m\u001b[38;5;241;43m=\u001b[39;49m\u001b[38;5;28;43;01mFalse\u001b[39;49;00m\n\u001b[1;32m   1404\u001b[0m \u001b[43m\u001b[49m\u001b[43m)\u001b[49m \u001b[38;5;28;01mas\u001b[39;00m handle:\n\u001b[1;32m   1405\u001b[0m     stream \u001b[38;5;241m=\u001b[39m handle\u001b[38;5;241m.\u001b[39mhandle\n\u001b[1;32m   1406\u001b[0m     stream\u001b[38;5;241m.\u001b[39mseek(\u001b[38;5;241m0\u001b[39m)\n",
      "File \u001b[0;32m~/anaconda3/envs/msc/lib/python3.12/site-packages/pandas/io/common.py:882\u001b[0m, in \u001b[0;36mget_handle\u001b[0;34m(path_or_buf, mode, encoding, compression, memory_map, is_text, errors, storage_options)\u001b[0m\n\u001b[1;32m    873\u001b[0m         handle \u001b[38;5;241m=\u001b[39m \u001b[38;5;28mopen\u001b[39m(\n\u001b[1;32m    874\u001b[0m             handle,\n\u001b[1;32m    875\u001b[0m             ioargs\u001b[38;5;241m.\u001b[39mmode,\n\u001b[0;32m   (...)\u001b[0m\n\u001b[1;32m    878\u001b[0m             newline\u001b[38;5;241m=\u001b[39m\u001b[38;5;124m\"\u001b[39m\u001b[38;5;124m\"\u001b[39m,\n\u001b[1;32m    879\u001b[0m         )\n\u001b[1;32m    880\u001b[0m     \u001b[38;5;28;01melse\u001b[39;00m:\n\u001b[1;32m    881\u001b[0m         \u001b[38;5;66;03m# Binary mode\u001b[39;00m\n\u001b[0;32m--> 882\u001b[0m         handle \u001b[38;5;241m=\u001b[39m \u001b[38;5;28;43mopen\u001b[39;49m\u001b[43m(\u001b[49m\u001b[43mhandle\u001b[49m\u001b[43m,\u001b[49m\u001b[43m \u001b[49m\u001b[43mioargs\u001b[49m\u001b[38;5;241;43m.\u001b[39;49m\u001b[43mmode\u001b[49m\u001b[43m)\u001b[49m\n\u001b[1;32m    883\u001b[0m     handles\u001b[38;5;241m.\u001b[39mappend(handle)\n\u001b[1;32m    885\u001b[0m \u001b[38;5;66;03m# Convert BytesIO or file objects passed with an encoding\u001b[39;00m\n",
      "\u001b[0;31mFileNotFoundError\u001b[0m: [Errno 2] No such file or directory: '/home/paulharford/college/project/project_data/ihfdv3.xlsx'"
     ]
    }
   ],
   "source": [
    "##Import data from excel into panda's dataframe\n",
    "ihfd_df = pd.read_excel(full_path_xl)"
   ]
  },
  {
   "cell_type": "markdown",
   "id": "92a9894f-36f3-4e79-937c-56969d807906",
   "metadata": {},
   "source": [
    "#### Step 4 - Drop columns that have too much missing data "
   ]
  },
  {
   "cell_type": "code",
   "execution_count": null,
   "id": "494fc357-4424-4b87-ba7a-bb43a539abee",
   "metadata": {},
   "outputs": [],
   "source": [
    "##get percentage of missing data\n",
    "(ihfd_df.isna().sum()/ihfd_df.shape[0] * 100).sort_values()"
   ]
  },
  {
   "cell_type": "code",
   "execution_count": null,
   "id": "183f2d70-ddab-4e83-8b1e-a73c47f4370d",
   "metadata": {},
   "outputs": [],
   "source": [
    "###so the date-time is important for using with the weather data for the pres_hosp_datetime and missing values i'm going to populate with a random time 12 to 48 hours prior based on the variable surgey datetime\n",
    "ihfd_df['Adm_First_Pres_Hosp_DateTime'] = ihfd_df['Adm_First_Pres_Hosp_DateTime'].fillna(\n",
    "    ihfd_df['Adm_Primary_Surgery_DateTime'].apply(\n",
    "        lambda x: x - pd.Timedelta(hours=np.random.uniform(12, 48)) if pd.notna(x) else np.nan\n",
    "    )\n",
    ")"
   ]
  },
  {
   "cell_type": "code",
   "execution_count": null,
   "id": "71ce8bde-ef5d-410c-8b7e-6a2c88a2ce4e",
   "metadata": {},
   "outputs": [],
   "source": [
    "columns_to_drop = [\n",
    "    'Adm_RE_OP_30_DAYS',\n",
    "    'Adm_Discharged_To',\n",
    "    'Adm_Nerve_Block',\n",
    "    'Adm_Nut_Risk',\n",
    "    'Adm_Ass_Anp',\n",
    "    'Adm_AMB_Number_ACU_DIS',\n",
    "    'Adm_Trauma_DateTime',\n",
    "    'Adm_Hospital_Fall',\n",
    "    'Adm_Mobilised_No_Opt',\n",
    "    'Adm_FRACTURE_Type_Other2',\n",
    "    'Adm_Primary_Surgery_DateTime',\n",
    "    'Index'\n",
    "]\n",
    "\n",
    "# Drop the columns\n",
    "ihfd_red_df = ihfd_df.drop(columns=columns_to_drop)\n",
    "\n",
    "# Separate numeric and categorical columns\n",
    "numeric_cols = ihfd_red_df.select_dtypes(include=['int64', 'float64']).columns\n",
    "categorical_cols = ihfd_red_df.select_dtypes(include=['object', 'category']).columns\n"
   ]
  },
  {
   "cell_type": "code",
   "execution_count": null,
   "id": "e6eec46e-d0e3-49bd-8c86-18a06f42cf8e",
   "metadata": {},
   "outputs": [],
   "source": [
    "##check missing data after column drop\n",
    "##get percentage of missing data\n",
    "(ihfd_red_df.isna().sum()/ihfd_red_df.shape[0] * 100).sort_values()"
   ]
  },
  {
   "cell_type": "markdown",
   "id": "e6250d36-741e-4202-8eb3-4369d6a43f1e",
   "metadata": {},
   "source": [
    "#### Step 5: missing data filling"
   ]
  },
  {
   "cell_type": "code",
   "execution_count": null,
   "id": "6e56f550-8c27-4e05-883d-1f75400e7e4b",
   "metadata": {},
   "outputs": [],
   "source": []
  },
  {
   "cell_type": "code",
   "execution_count": null,
   "id": "33eebba1-a299-46bf-8741-e7ebd9b95e29",
   "metadata": {},
   "outputs": [],
   "source": [
    "# Fill numeric columns with mean\n",
    "ihfd_red_df[numeric_cols] = ihfd_red_df[numeric_cols].fillna(ihfd_red_df[numeric_cols].median())\n",
    "\n",
    "# Fill categorical columns with mode (most frequent value)\n",
    "for col in categorical_cols:\n",
    "    ihfd_red_df[col] = ihfd_red_df[col].fillna(ihfd_red_df[col].mode().iloc[0])\n",
    "\n",
    "print(numeric_cols)\n",
    "print(categorical_cols)"
   ]
  },
  {
   "cell_type": "code",
   "execution_count": null,
   "id": "7b35a0cf-88b2-45d1-bbb3-ab7830308bc9",
   "metadata": {},
   "outputs": [],
   "source": [
    "(ihfd_red_df.isna().sum()/ihfd_red_df.shape[0] * 100).sort_values()"
   ]
  },
  {
   "cell_type": "code",
   "execution_count": null,
   "id": "32636811-25bf-4d51-aa1d-f8baf68e0d93",
   "metadata": {},
   "outputs": [],
   "source": [
    "ihfd_red_df.to_csv('/home/paulharford/college/project/processed/ihfd_clean.csv', index=False)"
   ]
  },
  {
   "cell_type": "code",
   "execution_count": null,
   "id": "cac1c281-d929-44f9-9f3f-50093127e7e1",
   "metadata": {},
   "outputs": [],
   "source": []
  }
 ],
 "metadata": {
  "kernelspec": {
   "display_name": "Python 3 (ipykernel)",
   "language": "python",
   "name": "python3"
  },
  "language_info": {
   "codemirror_mode": {
    "name": "ipython",
    "version": 3
   },
   "file_extension": ".py",
   "mimetype": "text/x-python",
   "name": "python",
   "nbconvert_exporter": "python",
   "pygments_lexer": "ipython3",
   "version": "3.12.2"
  }
 },
 "nbformat": 4,
 "nbformat_minor": 5
}
