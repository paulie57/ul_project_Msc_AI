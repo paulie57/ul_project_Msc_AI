{
 "cells": [
  {
   "cell_type": "markdown",
   "id": "10c2277c-d9ab-45ac-8b9c-9a68e3d9724c",
   "metadata": {},
   "source": [
    "#### Set styling for plotting"
   ]
  },
  {
   "cell_type": "code",
   "execution_count": 1,
   "id": "008257ad-fd71-4beb-a4c5-8589307d01de",
   "metadata": {
    "execution": {
     "iopub.execute_input": "2025-01-08T15:39:53.166712Z",
     "iopub.status.busy": "2025-01-08T15:39:53.165676Z",
     "iopub.status.idle": "2025-01-08T15:39:54.048354Z",
     "shell.execute_reply": "2025-01-08T15:39:54.046913Z",
     "shell.execute_reply.started": "2025-01-08T15:39:53.166650Z"
    }
   },
   "outputs": [],
   "source": [
    "import pandas as pd\n",
    "import matplotlib.pyplot as plt\n",
    "import matplotlib.dates as mdates\n",
    "import matplotlib.ticker as ticker\n",
    "import seaborn as sns\n",
    "sns.set_palette('colorblind')\n",
    "from matplotlib.pyplot import tight_layout\n",
    "# ##SETTING PARAMS FOR MATPLOTLIB FIGURES\n",
    "plt.rcParams.update({\"figure.figsize\": (6, 6),\n",
    "                 \"axes.facecolor\": \"white\",\n",
    "                 \"axes.edgecolor\": \"black\"})\n",
    "plt.rcParams['axes.prop_cycle'] = plt.cycler(color=sns.color_palette('colorblind'))\n",
    "##set font size\n",
    "font = {'family': 'sans-serif',\n",
    "       'weight': 'normal',\n",
    "       'size': 14}\n",
    "plt.rc('font', **font)\n",
    "# ##PANDAS PLOTTING\n",
    "pd.plotting.register_matplotlib_converters()"
   ]
  },
  {
   "cell_type": "markdown",
   "id": "2b1cab69-cc13-4c24-afb1-6b7d84f165a1",
   "metadata": {},
   "source": [
    "#### Step 1: save environment file"
   ]
  },
  {
   "cell_type": "code",
   "execution_count": 2,
   "id": "048045bf-c3cf-4b98-b98b-38e39e78c181",
   "metadata": {
    "execution": {
     "iopub.execute_input": "2025-01-08T15:39:55.029590Z",
     "iopub.status.busy": "2025-01-08T15:39:55.028218Z",
     "iopub.status.idle": "2025-01-08T15:39:57.844688Z",
     "shell.execute_reply": "2025-01-08T15:39:57.842621Z",
     "shell.execute_reply.started": "2025-01-08T15:39:55.029532Z"
    }
   },
   "outputs": [],
   "source": [
    "!conda env export > nas_environment.yml"
   ]
  },
  {
   "cell_type": "markdown",
   "id": "18a68556-70f4-43cf-a728-31459c8475b6",
   "metadata": {},
   "source": [
    "#### Step 2: import modules"
   ]
  },
  {
   "cell_type": "code",
   "execution_count": 3,
   "id": "4bb09125-64b0-44e1-8662-d89260501677",
   "metadata": {
    "execution": {
     "iopub.execute_input": "2025-01-08T15:39:57.878587Z",
     "iopub.status.busy": "2025-01-08T15:39:57.877004Z",
     "iopub.status.idle": "2025-01-08T15:39:57.897305Z",
     "shell.execute_reply": "2025-01-08T15:39:57.894870Z",
     "shell.execute_reply.started": "2025-01-08T15:39:57.878496Z"
    }
   },
   "outputs": [],
   "source": [
    "import glob\n",
    "import os\n",
    "import xml.etree.ElementTree as ET\n",
    "from datetime import datetime, timezone\n",
    "from tqdm import tqdm\n",
    "import codecs\n",
    "import csv"
   ]
  },
  {
   "cell_type": "markdown",
   "id": "37825704-269a-452d-b99c-992ac056e6e4",
   "metadata": {},
   "source": [
    "## INFORMATION\n",
    "\n",
    "NAS data in excel format containing \n",
    "add requested type info here "
   ]
  },
  {
   "cell_type": "markdown",
   "id": "8baafdf0-49ea-40b3-94a6-5c56bd4ea920",
   "metadata": {},
   "source": [
    "#### Step 3: import csv files"
   ]
  },
  {
   "cell_type": "code",
   "execution_count": 4,
   "id": "ce0b8c77-0d0c-4932-b046-5a577a71217a",
   "metadata": {
    "execution": {
     "iopub.execute_input": "2025-01-08T15:39:59.411882Z",
     "iopub.status.busy": "2025-01-08T15:39:59.411026Z",
     "iopub.status.idle": "2025-01-08T15:39:59.417378Z",
     "shell.execute_reply": "2025-01-08T15:39:59.415907Z",
     "shell.execute_reply.started": "2025-01-08T15:39:59.411852Z"
    }
   },
   "outputs": [],
   "source": [
    "data_directory_xl = \"/mnt/hgfs/shared/project_data/nas/WEATHERED Report CAD 20241217.xlsx\"\n",
    "full_path_xl = os.path.abspath(data_directory_xl)"
   ]
  },
  {
   "cell_type": "code",
   "execution_count": 5,
   "id": "7b75719e-a9a5-4591-b08f-c1666d9926c7",
   "metadata": {
    "execution": {
     "iopub.execute_input": "2025-01-08T15:40:00.195697Z",
     "iopub.status.busy": "2025-01-08T15:40:00.194814Z",
     "iopub.status.idle": "2025-01-08T15:40:16.764395Z",
     "shell.execute_reply": "2025-01-08T15:40:16.762972Z",
     "shell.execute_reply.started": "2025-01-08T15:40:00.195666Z"
    }
   },
   "outputs": [],
   "source": [
    "##import data into pandas\n",
    "df_nas = pd.read_excel(full_path_xl)"
   ]
  },
  {
   "cell_type": "code",
   "execution_count": 7,
   "id": "71ce8bde-ef5d-410c-8b7e-6a2c88a2ce4e",
   "metadata": {
    "execution": {
     "iopub.execute_input": "2025-01-08T15:40:59.910373Z",
     "iopub.status.busy": "2025-01-08T15:40:59.910080Z",
     "iopub.status.idle": "2025-01-08T15:40:59.940396Z",
     "shell.execute_reply": "2025-01-08T15:40:59.938751Z",
     "shell.execute_reply.started": "2025-01-08T15:40:59.910353Z"
    }
   },
   "outputs": [
    {
     "name": "stdout",
     "output_type": "stream",
     "text": [
      "   Randomised ID DateCallForPerf Time of Day         PickupTown EIRCODE ID  \\\n",
      "0    54959224086      2016-01-01       Night            DUNGLOE        NaN   \n",
      "1    54959224146      2016-01-01       Night  BEAUMONT DUBLIN 9        NaN   \n",
      "2    54959224172      2016-01-01       Night           DROGHEDA        NaN   \n",
      "3    54959224182      2016-01-01       Night        BORRISOKANE        NaN   \n",
      "4    54959224201      2016-01-01       Night            WEXFORD        NaN   \n",
      "\n",
      "  DespatchCode                                DespCodeDescription  \\\n",
      "0       17B01P  Falls - Possibly Dangerous body Area - Public ...   \n",
      "1       17B01G  Falls - Possibly Dangerous body Area - On the ...   \n",
      "2        17B01             Falls - Possibly Dangerous body Area -   \n",
      "3       17B01P  Falls - Possibly Dangerous body Area - Public ...   \n",
      "4       17B01G  Falls - Possibly Dangerous body Area - On the ...   \n",
      "\n",
      "              Hospital Attended  \n",
      "0  LETTERKENNY GENERAL HOSPITAL  \n",
      "1             BEAUMONT HOSPITAL  \n",
      "2     LOURDES HOSPITAL DROGHEDA  \n",
      "3  PORTIUNCULA GENERAL HOSPITAL  \n",
      "4                           NaN  \n",
      "<class 'pandas.core.frame.DataFrame'>\n",
      "RangeIndex: 155206 entries, 0 to 155205\n",
      "Data columns (total 8 columns):\n",
      " #   Column               Non-Null Count   Dtype         \n",
      "---  ------               --------------   -----         \n",
      " 0   Randomised ID        155206 non-null  int64         \n",
      " 1   DateCallForPerf      155206 non-null  datetime64[ns]\n",
      " 2   Time of Day          155206 non-null  object        \n",
      " 3   PickupTown           155193 non-null  object        \n",
      " 4   EIRCODE ID           142200 non-null  object        \n",
      " 5   DespatchCode         155206 non-null  object        \n",
      " 6   DespCodeDescription  155206 non-null  object        \n",
      " 7   Hospital Attended    130494 non-null  object        \n",
      "dtypes: datetime64[ns](1), int64(1), object(6)\n",
      "memory usage: 9.5+ MB\n",
      "None\n",
      "Number of rows: 155206\n",
      "Number of columns: 8\n"
     ]
    }
   ],
   "source": [
    "# check the first few rows\n",
    "print(df_nas.head())\n",
    "\n",
    "# look at dataframe info\n",
    "print(df_nas.info())\n",
    "\n",
    "# check the df shape\n",
    "print(f\"Number of rows: {df_nas.shape[0]}\")\n",
    "print(f\"Number of columns: {df_nas.shape[1]}\")"
   ]
  },
  {
   "cell_type": "code",
   "execution_count": 11,
   "id": "33eebba1-a299-46bf-8741-e7ebd9b95e29",
   "metadata": {
    "execution": {
     "iopub.execute_input": "2025-01-08T13:08:57.084451Z",
     "iopub.status.busy": "2025-01-08T13:08:57.082777Z",
     "iopub.status.idle": "2025-01-08T13:08:57.118081Z",
     "shell.execute_reply": "2025-01-08T13:08:57.116921Z",
     "shell.execute_reply.started": "2025-01-08T13:08:57.084387Z"
    }
   },
   "outputs": [
    {
     "name": "stdout",
     "output_type": "stream",
     "text": [
      "            Unnamed: 0 Unnamed: 1  \\\n",
      "0                Total        NaN   \n",
      "1  2023-01-01 00:00:00    Fog/Ice   \n",
      "2                  NaN        NaN   \n",
      "3                  NaN        NaN   \n",
      "4                  NaN        NaN   \n",
      "\n",
      "                                      unprotect cafo Unnamed: 3 Unnamed: 4  \\\n",
      "0                                                NaN     Yellow     Orange   \n",
      "1                                     Level: Yellow         244         50   \n",
      "2                                   Type: Fog / Ice           0          0   \n",
      "3  Message: Icy stretches along with patches of f...          0          0   \n",
      "4                          Affected Regions: ireland          0          0   \n",
      "\n",
      "  Unnamed: 5 Unnamed: 6  Unnamed: 7 Unnamed: 8  Unnamed: 9  ... Unnamed: 33  \\\n",
      "0        Red      Named         NaN    Ireland         NaN  ...          MH   \n",
      "1        6.5          0         NaN          0         NaN  ...           0   \n",
      "2          0          0         NaN          0         NaN  ...           0   \n",
      "3          0          0         NaN          0         NaN  ...           0   \n",
      "4          0          0         NaN          1         NaN  ...           0   \n",
      "\n",
      "  Unnamed: 34 Unnamed: 35 Unnamed: 36 Unnamed: 37 Unnamed: 38 Ulster  \\\n",
      "0          OY          WH          WX          WW         NaN    All   \n",
      "1           0           0           0           0         NaN      0   \n",
      "2           0           0           0           0         NaN      0   \n",
      "3           0           0           0           0         NaN      0   \n",
      "4           0           0           0           0         NaN      0   \n",
      "\n",
      "   Unnamed: 40 Unnamed: 41 Unnamed: 42  \n",
      "0           DL          CN          MN  \n",
      "1            0           0           0  \n",
      "2            0           0           0  \n",
      "3            0           0           0  \n",
      "4            0           0           0  \n",
      "\n",
      "[5 rows x 43 columns]\n",
      "<class 'pandas.core.frame.DataFrame'>\n",
      "RangeIndex: 4255 entries, 0 to 4254\n",
      "Data columns (total 43 columns):\n",
      " #   Column          Non-Null Count  Dtype  \n",
      "---  ------          --------------  -----  \n",
      " 0   Unnamed: 0      303 non-null    object \n",
      " 1   Unnamed: 1      302 non-null    object \n",
      " 2   unprotect cafo  2846 non-null   object \n",
      " 3   Unnamed: 3      4245 non-null   object \n",
      " 4   Unnamed: 4      4247 non-null   object \n",
      " 5   Unnamed: 5      4245 non-null   object \n",
      " 6   Unnamed: 6      2756 non-null   object \n",
      " 7   Unnamed: 7      0 non-null      float64\n",
      " 8   Unnamed: 8      3043 non-null   object \n",
      " 9   Unnamed: 9      0 non-null      float64\n",
      " 10  Munster         4247 non-null   object \n",
      " 11  Unnamed: 11     4247 non-null   object \n",
      " 12  Unnamed: 12     4247 non-null   object \n",
      " 13  Unnamed: 13     4246 non-null   object \n",
      " 14  Unnamed: 14     4247 non-null   object \n",
      " 15  Unnamed: 15     4247 non-null   object \n",
      " 16  Unnamed: 16     4247 non-null   object \n",
      " 17  Unnamed: 17     1 non-null      float64\n",
      " 18  Connacht        4247 non-null   object \n",
      " 19  Unnamed: 19     4247 non-null   object \n",
      " 20  Unnamed: 20     4247 non-null   object \n",
      " 21  Unnamed: 21     4247 non-null   object \n",
      " 22  Unnamed: 22     4247 non-null   object \n",
      " 23  Unnamed: 23     4247 non-null   object \n",
      " 24  Unnamed: 24     1 non-null      float64\n",
      " 25  Leinster        4247 non-null   object \n",
      " 26  Unnamed: 26     4247 non-null   object \n",
      " 27  Unnamed: 27     4247 non-null   object \n",
      " 28  Unnamed: 28     4247 non-null   object \n",
      " 29  Unnamed: 29     4247 non-null   object \n",
      " 30  Unnamed: 30     4247 non-null   object \n",
      " 31  Unnamed: 31     4247 non-null   object \n",
      " 32  Unnamed: 32     4247 non-null   object \n",
      " 33  Unnamed: 33     4247 non-null   object \n",
      " 34  Unnamed: 34     4247 non-null   object \n",
      " 35  Unnamed: 35     4247 non-null   object \n",
      " 36  Unnamed: 36     4247 non-null   object \n",
      " 37  Unnamed: 37     4247 non-null   object \n",
      " 38  Unnamed: 38     1 non-null      float64\n",
      " 39  Ulster          4247 non-null   object \n",
      " 40  Unnamed: 40     4247 non-null   object \n",
      " 41  Unnamed: 41     4247 non-null   object \n",
      " 42  Unnamed: 42     4247 non-null   object \n",
      "dtypes: float64(5), object(38)\n",
      "memory usage: 1.4+ MB\n",
      "None\n",
      "Number of rows: 4255\n",
      "Number of columns: 43\n"
     ]
    }
   ],
   "source": [
    "# check the first few rows\n",
    "print(df_xl.head())\n",
    "\n",
    "# look at dataframe info\n",
    "print(df_xl.info())\n",
    "\n",
    "# check the df shape\n",
    "print(f\"Number of rows: {df_xl.shape[0]}\")\n",
    "print(f\"Number of columns: {df_xl.shape[1]}\")\n",
    "\n",
    "#print(f\"Start date: {df_xl['Issue Time'].min()}\")\n",
    "#print(f\"End date: {df_xl['Issue Time'].max()}\")"
   ]
  }
 ],
 "metadata": {
  "kernelspec": {
   "display_name": "Python 3 (ipykernel)",
   "language": "python",
   "name": "python3"
  },
  "language_info": {
   "codemirror_mode": {
    "name": "ipython",
    "version": 3
   },
   "file_extension": ".py",
   "mimetype": "text/x-python",
   "name": "python",
   "nbconvert_exporter": "python",
   "pygments_lexer": "ipython3",
   "version": "3.12.4"
  }
 },
 "nbformat": 4,
 "nbformat_minor": 5
}
