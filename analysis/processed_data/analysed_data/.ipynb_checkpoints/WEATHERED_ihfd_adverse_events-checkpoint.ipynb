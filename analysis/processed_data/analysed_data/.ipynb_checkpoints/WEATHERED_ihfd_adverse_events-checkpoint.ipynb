{
 "cells": [
  {
   "cell_type": "markdown",
   "id": "c8452ba9-dd13-43f3-adcc-0f8eecbaadfd",
   "metadata": {},
   "source": [
    "## Initial analysis of weather and ihfd"
   ]
  },
  {
   "cell_type": "code",
   "execution_count": 1,
   "id": "3ccf5570-f3a9-423e-a511-4f1b6f7dbc37",
   "metadata": {
    "execution": {
     "iopub.execute_input": "2025-02-03T16:03:05.766388Z",
     "iopub.status.busy": "2025-02-03T16:03:05.756641Z",
     "iopub.status.idle": "2025-02-03T16:03:08.635286Z",
     "shell.execute_reply": "2025-02-03T16:03:08.632226Z",
     "shell.execute_reply.started": "2025-02-03T16:03:05.766252Z"
    }
   },
   "outputs": [
    {
     "name": "stdout",
     "output_type": "stream",
     "text": [
      "Requirement already satisfied: openpyxl in /home/paulharford/anaconda3/envs/pycaret_3_3_2/lib/python3.11/site-packages (3.1.5)\n",
      "Requirement already satisfied: et-xmlfile in /home/paulharford/anaconda3/envs/pycaret_3_3_2/lib/python3.11/site-packages (from openpyxl) (2.0.0)\n"
     ]
    }
   ],
   "source": [
    "import pandas as pd\n",
    "import matplotlib as plt\n",
    "import glob\n",
    "import os\n",
    "import xml.etree.ElementTree as ET\n",
    "from datetime import datetime, timezone\n",
    "from tqdm import tqdm\n",
    "import codecs\n",
    "import csv\n",
    "!pip install openpyxl"
   ]
  },
  {
   "cell_type": "code",
   "execution_count": 2,
   "id": "4c974318-312e-4bd8-b6a8-2b1c10b78248",
   "metadata": {
    "execution": {
     "iopub.execute_input": "2025-02-03T16:03:08.659444Z",
     "iopub.status.busy": "2025-02-03T16:03:08.658665Z",
     "iopub.status.idle": "2025-02-03T16:03:08.669907Z",
     "shell.execute_reply": "2025-02-03T16:03:08.666993Z",
     "shell.execute_reply.started": "2025-02-03T16:03:08.659386Z"
    }
   },
   "outputs": [],
   "source": [
    "data_directory_weather = \"/mnt/hgfs/shared/project_data/processed/WEATHERED_warnings_2014-2023_cleaned.csv\"\n",
    "data_directory_ihfd = \"/mnt/hgfs/shared/project_data/processed/ihfd_clean.csv\"\n",
    "data_directory_census = \"/mnt/hgfs/shared/project_data/census/population_age_group_gender2016_2022_hse_region.xlsx\"\n",
    "full_path_ihfd = os.path.abspath(data_directory_ihfd)\n",
    "full_path_weather = os.path.abspath(data_directory_weather)\n",
    "full_path_census = os.path.abspath(data_directory_census)\n"
   ]
  },
  {
   "cell_type": "code",
   "execution_count": 3,
   "id": "1ab6938a-80a0-41ee-bde6-c0909ba02b06",
   "metadata": {
    "execution": {
     "iopub.execute_input": "2025-02-03T16:03:08.676596Z",
     "iopub.status.busy": "2025-02-03T16:03:08.675527Z",
     "iopub.status.idle": "2025-02-03T16:03:09.357499Z",
     "shell.execute_reply": "2025-02-03T16:03:09.353313Z",
     "shell.execute_reply.started": "2025-02-03T16:03:08.676546Z"
    }
   },
   "outputs": [],
   "source": [
    "df_ihfd = pd.read_csv(full_path_ihfd)\n",
    "df_weather = pd.read_csv(full_path_weather)\n",
    "df_census = pd.read_excel(full_path_census)\n"
   ]
  },
  {
   "cell_type": "markdown",
   "id": "c6505b0a-b2fc-4216-b925-2003c5efdf29",
   "metadata": {},
   "source": [
    "###Aggregate data"
   ]
  },
  {
   "cell_type": "markdown",
   "id": "6154acd6-b310-41dc-bdb8-772bff3b1323",
   "metadata": {},
   "source": [
    "#### Step 1 CENSUS data "
   ]
  },
  {
   "cell_type": "code",
   "execution_count": 4,
   "id": "f803ee18-a3d1-496c-bf15-6fe6fcc31726",
   "metadata": {
    "execution": {
     "iopub.execute_input": "2025-02-03T16:03:11.981609Z",
     "iopub.status.busy": "2025-02-03T16:03:11.981352Z",
     "iopub.status.idle": "2025-02-03T16:03:12.009917Z",
     "shell.execute_reply": "2025-02-03T16:03:12.008752Z",
     "shell.execute_reply.started": "2025-02-03T16:03:11.981589Z"
    }
   },
   "outputs": [
    {
     "data": {
      "text/html": [
       "<div>\n",
       "<style scoped>\n",
       "    .dataframe tbody tr th:only-of-type {\n",
       "        vertical-align: middle;\n",
       "    }\n",
       "\n",
       "    .dataframe tbody tr th {\n",
       "        vertical-align: top;\n",
       "    }\n",
       "\n",
       "    .dataframe thead th {\n",
       "        text-align: right;\n",
       "    }\n",
       "</style>\n",
       "<table border=\"1\" class=\"dataframe\">\n",
       "  <thead>\n",
       "    <tr style=\"text-align: right;\">\n",
       "      <th></th>\n",
       "      <th>region</th>\n",
       "      <th>pop_2022</th>\n",
       "      <th>pop_2016</th>\n",
       "    </tr>\n",
       "  </thead>\n",
       "  <tbody>\n",
       "    <tr>\n",
       "      <th>0</th>\n",
       "      <td>HSE Dublin and Midlands</td>\n",
       "      <td>386872.0</td>\n",
       "      <td>355255.0</td>\n",
       "    </tr>\n",
       "    <tr>\n",
       "      <th>1</th>\n",
       "      <td>HSE Dublin and North East</td>\n",
       "      <td>451091.0</td>\n",
       "      <td>411204.0</td>\n",
       "    </tr>\n",
       "    <tr>\n",
       "      <th>2</th>\n",
       "      <td>HSE Dublin and South East</td>\n",
       "      <td>388437.0</td>\n",
       "      <td>361337.0</td>\n",
       "    </tr>\n",
       "    <tr>\n",
       "      <th>3</th>\n",
       "      <td>HSE Midwest</td>\n",
       "      <td>181333.0</td>\n",
       "      <td>168996.0</td>\n",
       "    </tr>\n",
       "    <tr>\n",
       "      <th>4</th>\n",
       "      <td>HSE South West</td>\n",
       "      <td>322908.0</td>\n",
       "      <td>301220.0</td>\n",
       "    </tr>\n",
       "  </tbody>\n",
       "</table>\n",
       "</div>"
      ],
      "text/plain": [
       "                      region  pop_2022  pop_2016\n",
       "0    HSE Dublin and Midlands  386872.0  355255.0\n",
       "1  HSE Dublin and North East  451091.0  411204.0\n",
       "2  HSE Dublin and South East  388437.0  361337.0\n",
       "3                HSE Midwest  181333.0  168996.0\n",
       "4             HSE South West  322908.0  301220.0"
      ]
     },
     "execution_count": 4,
     "metadata": {},
     "output_type": "execute_result"
    }
   ],
   "source": [
    "##census data\n",
    "desired_age_groups = [\n",
    "    \"60 - 64 years\", \"65 - 69 years\", \"70 - 74 years\",\n",
    "    \"75 - 79 years\", \"80 - 84 years\", \"85 years and over\"\n",
    "]\n",
    "# Filter age groups\n",
    "df_filtered = df_census[df_census[\"Age Group\"].isin(desired_age_groups)]\n",
    "\n",
    "# Group by HSE region and Sex, summing the 2016 and 2022 pops\n",
    "df_summed = (\n",
    "    df_filtered\n",
    "    .groupby([\"HSE Regions\"], as_index=False)\n",
    "    .agg({\n",
    "        \"Age group pop 2022\": \"sum\",\n",
    "        \"Age group pop 2016\": \"sum\"\n",
    "    })\n",
    ")\n",
    "\n",
    "# Rename for clarity\n",
    "df_summed.rename(columns={\n",
    "    \"HSE Regions\": \"region\",\n",
    "    \"Age group pop 2022\": \"pop_2022\",\n",
    "    \"Age group pop 2016\": \"pop_2016\"\n",
    "}, inplace=True)\n",
    "\n",
    "df_summed = df_summed.round(0)\n",
    "df_summed.head()\n"
   ]
  },
  {
   "cell_type": "code",
   "execution_count": 6,
   "id": "2c1f31a5-11f0-456a-a24f-79fcb4173fed",
   "metadata": {
    "execution": {
     "iopub.execute_input": "2025-02-03T16:03:22.545243Z",
     "iopub.status.busy": "2025-02-03T16:03:22.544984Z",
     "iopub.status.idle": "2025-02-03T16:03:22.564040Z",
     "shell.execute_reply": "2025-02-03T16:03:22.562296Z",
     "shell.execute_reply.started": "2025-02-03T16:03:22.545224Z"
    }
   },
   "outputs": [
    {
     "data": {
      "text/html": [
       "<div>\n",
       "<style scoped>\n",
       "    .dataframe tbody tr th:only-of-type {\n",
       "        vertical-align: middle;\n",
       "    }\n",
       "\n",
       "    .dataframe tbody tr th {\n",
       "        vertical-align: top;\n",
       "    }\n",
       "\n",
       "    .dataframe thead th {\n",
       "        text-align: right;\n",
       "    }\n",
       "</style>\n",
       "<table border=\"1\" class=\"dataframe\">\n",
       "  <thead>\n",
       "    <tr style=\"text-align: right;\">\n",
       "      <th></th>\n",
       "      <th>region</th>\n",
       "      <th>year</th>\n",
       "      <th>population_60plus</th>\n",
       "    </tr>\n",
       "  </thead>\n",
       "  <tbody>\n",
       "    <tr>\n",
       "      <th>0</th>\n",
       "      <td>HSE Dublin and Midlands</td>\n",
       "      <td>2016</td>\n",
       "      <td>355255.0</td>\n",
       "    </tr>\n",
       "    <tr>\n",
       "      <th>1</th>\n",
       "      <td>HSE Dublin and Midlands</td>\n",
       "      <td>2017</td>\n",
       "      <td>360524.0</td>\n",
       "    </tr>\n",
       "    <tr>\n",
       "      <th>2</th>\n",
       "      <td>HSE Dublin and Midlands</td>\n",
       "      <td>2018</td>\n",
       "      <td>365794.0</td>\n",
       "    </tr>\n",
       "    <tr>\n",
       "      <th>3</th>\n",
       "      <td>HSE Dublin and Midlands</td>\n",
       "      <td>2019</td>\n",
       "      <td>371064.0</td>\n",
       "    </tr>\n",
       "    <tr>\n",
       "      <th>4</th>\n",
       "      <td>HSE Dublin and Midlands</td>\n",
       "      <td>2020</td>\n",
       "      <td>376333.0</td>\n",
       "    </tr>\n",
       "    <tr>\n",
       "      <th>5</th>\n",
       "      <td>HSE Dublin and Midlands</td>\n",
       "      <td>2021</td>\n",
       "      <td>381602.0</td>\n",
       "    </tr>\n",
       "    <tr>\n",
       "      <th>6</th>\n",
       "      <td>HSE Dublin and Midlands</td>\n",
       "      <td>2022</td>\n",
       "      <td>386872.0</td>\n",
       "    </tr>\n",
       "    <tr>\n",
       "      <th>7</th>\n",
       "      <td>HSE Dublin and North East</td>\n",
       "      <td>2016</td>\n",
       "      <td>411204.0</td>\n",
       "    </tr>\n",
       "    <tr>\n",
       "      <th>8</th>\n",
       "      <td>HSE Dublin and North East</td>\n",
       "      <td>2017</td>\n",
       "      <td>417852.0</td>\n",
       "    </tr>\n",
       "    <tr>\n",
       "      <th>9</th>\n",
       "      <td>HSE Dublin and North East</td>\n",
       "      <td>2018</td>\n",
       "      <td>424500.0</td>\n",
       "    </tr>\n",
       "    <tr>\n",
       "      <th>10</th>\n",
       "      <td>HSE Dublin and North East</td>\n",
       "      <td>2019</td>\n",
       "      <td>431148.0</td>\n",
       "    </tr>\n",
       "    <tr>\n",
       "      <th>11</th>\n",
       "      <td>HSE Dublin and North East</td>\n",
       "      <td>2020</td>\n",
       "      <td>437795.0</td>\n",
       "    </tr>\n",
       "    <tr>\n",
       "      <th>12</th>\n",
       "      <td>HSE Dublin and North East</td>\n",
       "      <td>2021</td>\n",
       "      <td>444443.0</td>\n",
       "    </tr>\n",
       "    <tr>\n",
       "      <th>13</th>\n",
       "      <td>HSE Dublin and North East</td>\n",
       "      <td>2022</td>\n",
       "      <td>451091.0</td>\n",
       "    </tr>\n",
       "    <tr>\n",
       "      <th>14</th>\n",
       "      <td>HSE Dublin and South East</td>\n",
       "      <td>2016</td>\n",
       "      <td>361337.0</td>\n",
       "    </tr>\n",
       "  </tbody>\n",
       "</table>\n",
       "</div>"
      ],
      "text/plain": [
       "                       region  year  population_60plus\n",
       "0     HSE Dublin and Midlands  2016           355255.0\n",
       "1     HSE Dublin and Midlands  2017           360524.0\n",
       "2     HSE Dublin and Midlands  2018           365794.0\n",
       "3     HSE Dublin and Midlands  2019           371064.0\n",
       "4     HSE Dublin and Midlands  2020           376333.0\n",
       "5     HSE Dublin and Midlands  2021           381602.0\n",
       "6     HSE Dublin and Midlands  2022           386872.0\n",
       "7   HSE Dublin and North East  2016           411204.0\n",
       "8   HSE Dublin and North East  2017           417852.0\n",
       "9   HSE Dublin and North East  2018           424500.0\n",
       "10  HSE Dublin and North East  2019           431148.0\n",
       "11  HSE Dublin and North East  2020           437795.0\n",
       "12  HSE Dublin and North East  2021           444443.0\n",
       "13  HSE Dublin and North East  2022           451091.0\n",
       "14  HSE Dublin and South East  2016           361337.0"
      ]
     },
     "execution_count": 6,
     "metadata": {},
     "output_type": "execute_result"
    }
   ],
   "source": [
    "##\n",
    "years = range(2016, 2023)  # 2016 through 2022 inclusive\n",
    "\n",
    "rows = []\n",
    "\n",
    "for idx, row in df_summed.iterrows():\n",
    "    r = row[\"region\"]\n",
    "    #s = row[\"Sex\"]\n",
    "    pop_2016 = row[\"pop_2016\"]\n",
    "    pop_2022 = row[\"pop_2022\"]\n",
    "    \n",
    "    for y in years:\n",
    "        # fraction of the way from 2016\n",
    "        fraction = (y - 2016) / (2022 - 2016)  # denominator = 6\n",
    "        pop_y = pop_2016 + (pop_2022 - pop_2016) * fraction\n",
    "        \n",
    "        rows.append({\n",
    "            \"region\": r,\n",
    "           # \"sex\": s,\n",
    "            \"year\": y,\n",
    "            \"population_60plus\": pop_y\n",
    "        })\n",
    "\n",
    "df_region_sex_year = pd.DataFrame(rows)\n",
    "df_region_sex_year = df_region_sex_year.round(0)\n",
    "df_region_sex_year.head(15)\n"
   ]
  },
  {
   "cell_type": "markdown",
   "id": "b3a18a2d-c8d4-4134-ad2f-2fde3a8f17ed",
   "metadata": {},
   "source": [
    "#### Step 2  Weather Data"
   ]
  },
  {
   "cell_type": "code",
   "execution_count": 12,
   "id": "364838ea-5b14-4ee9-84d1-f4522e56f5c3",
   "metadata": {
    "execution": {
     "iopub.execute_input": "2025-02-03T16:04:32.413793Z",
     "iopub.status.busy": "2025-02-03T16:04:32.413433Z",
     "iopub.status.idle": "2025-02-03T16:04:32.427765Z",
     "shell.execute_reply": "2025-02-03T16:04:32.425471Z",
     "shell.execute_reply.started": "2025-02-03T16:04:32.413766Z"
    }
   },
   "outputs": [],
   "source": [
    "df_weather[\"Valid From\"] = pd.to_datetime(df_weather[\"Valid From\"])\n",
    "df_weather[\"date\"] = df_weather[\"Valid From\"].dt.date\n",
    "df_weather[\"date\"] = pd.to_datetime(df_weather[\"date\"])"
   ]
  },
  {
   "cell_type": "code",
   "execution_count": 13,
   "id": "f1752230-08da-4a1e-a31d-1d0030ec8c1c",
   "metadata": {
    "execution": {
     "iopub.execute_input": "2025-02-03T16:04:35.591029Z",
     "iopub.status.busy": "2025-02-03T16:04:35.590761Z",
     "iopub.status.idle": "2025-02-03T16:04:35.602035Z",
     "shell.execute_reply": "2025-02-03T16:04:35.600457Z",
     "shell.execute_reply.started": "2025-02-03T16:04:35.591010Z"
    }
   },
   "outputs": [],
   "source": [
    "##create new column with lag of 12 hours from original Valid To timestamp\n",
    "df_weather[\"Valid To\"] = pd.to_datetime(df_weather[\"Valid To\"])\n"
   ]
  },
  {
   "cell_type": "code",
   "execution_count": 18,
   "id": "a7616c4b-8129-4f1f-8b79-449b8bb573ec",
   "metadata": {
    "execution": {
     "iopub.execute_input": "2025-02-03T16:05:47.307156Z",
     "iopub.status.busy": "2025-02-03T16:05:47.306709Z",
     "iopub.status.idle": "2025-02-03T16:05:47.315748Z",
     "shell.execute_reply": "2025-02-03T16:05:47.314014Z",
     "shell.execute_reply.started": "2025-02-03T16:05:47.307132Z"
    }
   },
   "outputs": [],
   "source": [
    "df_weather['lag_valid_to'] = df_weather['Valid To'] + pd.Timedelta(hours=12)"
   ]
  },
  {
   "cell_type": "code",
   "execution_count": 22,
   "id": "636d3b0a-f2a9-49b3-82ef-4748e620162b",
   "metadata": {
    "execution": {
     "iopub.execute_input": "2025-02-03T16:07:03.654678Z",
     "iopub.status.busy": "2025-02-03T16:07:03.653885Z",
     "iopub.status.idle": "2025-02-03T16:07:03.774061Z",
     "shell.execute_reply": "2025-02-03T16:07:03.772732Z",
     "shell.execute_reply.started": "2025-02-03T16:07:03.654636Z"
    }
   },
   "outputs": [],
   "source": [
    "# List out all the HSE region columns in weather\n",
    "weather_region_cols = [\n",
    "    \"HSE Dublin and North East\",\n",
    "    \"HSE Dublin and Midlands\",\n",
    "    \"HSE Dublin and South East\",\n",
    "    \"HSE Mid West\",\n",
    "    \"HSE South West\",\n",
    "    \"HSE West and North West\",\n",
    "    # any others you have\n",
    "]\n",
    "\n",
    "df_weather_long = df_weather.melt(\n",
    "    id_vars=[\"date\", \"Issue Time\", \"Valid From\", \"Valid To\", \"lag_valid_to\", \"Warning Colour\", \n",
    "             \"Warning Element\", \"Warning Text\", \"Duration_hours\", \"Year\"],\n",
    "    value_vars=weather_region_cols,\n",
    "    var_name=\"region\",\n",
    "    value_name=\"weather_flag\"\n",
    ")\n",
    "\n"
   ]
  },
  {
   "cell_type": "code",
   "execution_count": 23,
   "id": "89f12e82-d6b9-41de-9ff7-2fef4bacd379",
   "metadata": {
    "execution": {
     "iopub.execute_input": "2025-02-03T16:07:04.803456Z",
     "iopub.status.busy": "2025-02-03T16:07:04.802880Z",
     "iopub.status.idle": "2025-02-03T16:07:04.823261Z",
     "shell.execute_reply": "2025-02-03T16:07:04.822096Z",
     "shell.execute_reply.started": "2025-02-03T16:07:04.803408Z"
    }
   },
   "outputs": [],
   "source": [
    "df_weather_filtered = df_weather_long[\n",
    "    (df_weather_long['Issue Time'] >= '2016-01-01') & \n",
    "    (df_weather_long['Issue Time'] <= '2022-12-31 23:59:59')\n",
    "]"
   ]
  },
  {
   "cell_type": "code",
   "execution_count": 24,
   "id": "e0494a04-9611-4e86-bbd0-6879765e90c2",
   "metadata": {
    "execution": {
     "iopub.execute_input": "2025-02-03T16:07:05.539741Z",
     "iopub.status.busy": "2025-02-03T16:07:05.537757Z",
     "iopub.status.idle": "2025-02-03T16:07:05.561392Z",
     "shell.execute_reply": "2025-02-03T16:07:05.559557Z",
     "shell.execute_reply.started": "2025-02-03T16:07:05.539670Z"
    }
   },
   "outputs": [
    {
     "name": "stdout",
     "output_type": "stream",
     "text": [
      "<class 'pandas.core.frame.DataFrame'>\n",
      "RangeIndex: 16392 entries, 0 to 16391\n",
      "Data columns (total 12 columns):\n",
      " #   Column           Non-Null Count  Dtype              \n",
      "---  ------           --------------  -----              \n",
      " 0   date             16392 non-null  datetime64[ns]     \n",
      " 1   Issue Time       16392 non-null  object             \n",
      " 2   Valid From       16392 non-null  datetime64[ns, UTC]\n",
      " 3   Valid To         16380 non-null  datetime64[ns, UTC]\n",
      " 4   lag_valid_to     16380 non-null  datetime64[ns, UTC]\n",
      " 5   Warning Colour   16362 non-null  object             \n",
      " 6   Warning Element  16392 non-null  object             \n",
      " 7   Warning Text     16374 non-null  object             \n",
      " 8   Duration_hours   16380 non-null  float64            \n",
      " 9   Year             16392 non-null  int64              \n",
      " 10  region           16392 non-null  object             \n",
      " 11  weather_flag     16392 non-null  int64              \n",
      "dtypes: datetime64[ns, UTC](3), datetime64[ns](1), float64(1), int64(2), object(5)\n",
      "memory usage: 1.5+ MB\n"
     ]
    }
   ],
   "source": [
    "df_weather_long.info()"
   ]
  },
  {
   "cell_type": "markdown",
   "id": "09e4d903-7259-4ac2-af4f-56594a6cdb5f",
   "metadata": {},
   "source": [
    "#### Step 3 IHFD data"
   ]
  },
  {
   "cell_type": "code",
   "execution_count": 35,
   "id": "0eb88a71-4b8b-4d75-81ba-2a0dbf2ff3ad",
   "metadata": {
    "execution": {
     "iopub.execute_input": "2025-02-03T16:11:12.156244Z",
     "iopub.status.busy": "2025-02-03T16:11:12.155349Z",
     "iopub.status.idle": "2025-02-03T16:11:12.195146Z",
     "shell.execute_reply": "2025-02-03T16:11:12.193162Z",
     "shell.execute_reply.started": "2025-02-03T16:11:12.156201Z"
    }
   },
   "outputs": [],
   "source": [
    "df_ihfd[\"Adm_First_Pres_Hosp_DateTime\"] = pd.to_datetime(df_ihfd[\"Adm_First_Pres_Hosp_DateTime\"])\n",
    "df_ihfd[\"date\"] = df_ihfd[\"Adm_First_Pres_Hosp_DateTime\"].dt.date\n",
    "# convert to a pandas datetime if you prefer consistency\n",
    "df_ihfd[\"date\"] = pd.to_datetime(df_ihfd[\"date\"])"
   ]
  },
  {
   "cell_type": "code",
   "execution_count": 36,
   "id": "f621fe56-ff1c-4199-a7d1-3646bc1ebb82",
   "metadata": {
    "execution": {
     "iopub.execute_input": "2025-02-03T16:11:14.671533Z",
     "iopub.status.busy": "2025-02-03T16:11:14.671230Z",
     "iopub.status.idle": "2025-02-03T16:11:14.696083Z",
     "shell.execute_reply": "2025-02-03T16:11:14.694619Z",
     "shell.execute_reply.started": "2025-02-03T16:11:14.671511Z"
    }
   },
   "outputs": [
    {
     "data": {
      "text/html": [
       "<div>\n",
       "<style scoped>\n",
       "    .dataframe tbody tr th:only-of-type {\n",
       "        vertical-align: middle;\n",
       "    }\n",
       "\n",
       "    .dataframe tbody tr th {\n",
       "        vertical-align: top;\n",
       "    }\n",
       "\n",
       "    .dataframe thead th {\n",
       "        text-align: right;\n",
       "    }\n",
       "</style>\n",
       "<table border=\"1\" class=\"dataframe\">\n",
       "  <thead>\n",
       "    <tr style=\"text-align: right;\">\n",
       "      <th></th>\n",
       "      <th>region</th>\n",
       "      <th>NOCA_TraumaPeriodDay</th>\n",
       "      <th>Adm_First_Pres_Hosp_DateTime</th>\n",
       "      <th>NOCA_FirstPresPeriodDay</th>\n",
       "      <th>NOCA_AgeRange</th>\n",
       "      <th>sex</th>\n",
       "      <th>LOS</th>\n",
       "      <th>Adm_Trauma_TYPE</th>\n",
       "      <th>Adm_Ward_Type</th>\n",
       "      <th>Adm_Pre_Frac_Indoor</th>\n",
       "      <th>...</th>\n",
       "      <th>Adm_Operation</th>\n",
       "      <th>Adm_Asa_Grade</th>\n",
       "      <th>Adm_Anaesthesia</th>\n",
       "      <th>Adm_Surgery_Delay_Reason</th>\n",
       "      <th>Adm_Mobilised</th>\n",
       "      <th>Adm_Pressure_Ulcers</th>\n",
       "      <th>Adm_Spec_Falls_Assess</th>\n",
       "      <th>Adm_Bone_Protect_Med</th>\n",
       "      <th>Adm_Multi_Rehab_Assess</th>\n",
       "      <th>date</th>\n",
       "    </tr>\n",
       "  </thead>\n",
       "  <tbody>\n",
       "    <tr>\n",
       "      <th>0</th>\n",
       "      <td>HSE Mid West</td>\n",
       "      <td>AM</td>\n",
       "      <td>2016-09-06</td>\n",
       "      <td>PM</td>\n",
       "      <td>70-74</td>\n",
       "      <td>Female</td>\n",
       "      <td>12</td>\n",
       "      <td>2.0</td>\n",
       "      <td>1.0</td>\n",
       "      <td>2.0</td>\n",
       "      <td>...</td>\n",
       "      <td>8.0</td>\n",
       "      <td>3.0</td>\n",
       "      <td>5.0</td>\n",
       "      <td>7.0</td>\n",
       "      <td>1.0</td>\n",
       "      <td>2.0</td>\n",
       "      <td>1.0</td>\n",
       "      <td>1.0</td>\n",
       "      <td>1.0</td>\n",
       "      <td>2016-09-06</td>\n",
       "    </tr>\n",
       "    <tr>\n",
       "      <th>1</th>\n",
       "      <td>HSE Mid West</td>\n",
       "      <td>AM</td>\n",
       "      <td>2016-09-15</td>\n",
       "      <td>Night</td>\n",
       "      <td>90-94</td>\n",
       "      <td>Female</td>\n",
       "      <td>4</td>\n",
       "      <td>2.0</td>\n",
       "      <td>1.0</td>\n",
       "      <td>2.0</td>\n",
       "      <td>...</td>\n",
       "      <td>1.0</td>\n",
       "      <td>2.0</td>\n",
       "      <td>5.0</td>\n",
       "      <td>0.0</td>\n",
       "      <td>1.0</td>\n",
       "      <td>2.0</td>\n",
       "      <td>1.0</td>\n",
       "      <td>1.0</td>\n",
       "      <td>1.0</td>\n",
       "      <td>2016-09-15</td>\n",
       "    </tr>\n",
       "    <tr>\n",
       "      <th>2</th>\n",
       "      <td>HSE Mid West</td>\n",
       "      <td>AM</td>\n",
       "      <td>2016-09-14</td>\n",
       "      <td>AM</td>\n",
       "      <td>75-79</td>\n",
       "      <td>Male</td>\n",
       "      <td>6</td>\n",
       "      <td>2.0</td>\n",
       "      <td>1.0</td>\n",
       "      <td>2.0</td>\n",
       "      <td>...</td>\n",
       "      <td>8.0</td>\n",
       "      <td>2.0</td>\n",
       "      <td>5.0</td>\n",
       "      <td>0.0</td>\n",
       "      <td>1.0</td>\n",
       "      <td>2.0</td>\n",
       "      <td>1.0</td>\n",
       "      <td>5.0</td>\n",
       "      <td>1.0</td>\n",
       "      <td>2016-09-14</td>\n",
       "    </tr>\n",
       "    <tr>\n",
       "      <th>3</th>\n",
       "      <td>HSE Mid West</td>\n",
       "      <td>AM</td>\n",
       "      <td>2016-09-04</td>\n",
       "      <td>AM</td>\n",
       "      <td>90-94</td>\n",
       "      <td>Female</td>\n",
       "      <td>16</td>\n",
       "      <td>2.0</td>\n",
       "      <td>1.0</td>\n",
       "      <td>2.0</td>\n",
       "      <td>...</td>\n",
       "      <td>1.0</td>\n",
       "      <td>3.0</td>\n",
       "      <td>5.0</td>\n",
       "      <td>0.0</td>\n",
       "      <td>1.0</td>\n",
       "      <td>2.0</td>\n",
       "      <td>1.0</td>\n",
       "      <td>1.0</td>\n",
       "      <td>1.0</td>\n",
       "      <td>2016-09-04</td>\n",
       "    </tr>\n",
       "    <tr>\n",
       "      <th>4</th>\n",
       "      <td>HSE Mid West</td>\n",
       "      <td>AM</td>\n",
       "      <td>2016-08-23</td>\n",
       "      <td>Night</td>\n",
       "      <td>65-69</td>\n",
       "      <td>Male</td>\n",
       "      <td>29</td>\n",
       "      <td>2.0</td>\n",
       "      <td>1.0</td>\n",
       "      <td>2.0</td>\n",
       "      <td>...</td>\n",
       "      <td>8.0</td>\n",
       "      <td>3.0</td>\n",
       "      <td>5.0</td>\n",
       "      <td>2.0</td>\n",
       "      <td>1.0</td>\n",
       "      <td>2.0</td>\n",
       "      <td>1.0</td>\n",
       "      <td>1.0</td>\n",
       "      <td>1.0</td>\n",
       "      <td>2016-08-23</td>\n",
       "    </tr>\n",
       "  </tbody>\n",
       "</table>\n",
       "<p>5 rows × 28 columns</p>\n",
       "</div>"
      ],
      "text/plain": [
       "         region NOCA_TraumaPeriodDay Adm_First_Pres_Hosp_DateTime  \\\n",
       "0  HSE Mid West                   AM                   2016-09-06   \n",
       "1  HSE Mid West                   AM                   2016-09-15   \n",
       "2  HSE Mid West                   AM                   2016-09-14   \n",
       "3  HSE Mid West                   AM                   2016-09-04   \n",
       "4  HSE Mid West                   AM                   2016-08-23   \n",
       "\n",
       "  NOCA_FirstPresPeriodDay NOCA_AgeRange     sex  LOS  Adm_Trauma_TYPE  \\\n",
       "0                      PM         70-74  Female   12              2.0   \n",
       "1                   Night         90-94  Female    4              2.0   \n",
       "2                      AM         75-79    Male    6              2.0   \n",
       "3                      AM         90-94  Female   16              2.0   \n",
       "4                   Night         65-69    Male   29              2.0   \n",
       "\n",
       "   Adm_Ward_Type  Adm_Pre_Frac_Indoor  ...  Adm_Operation  Adm_Asa_Grade  \\\n",
       "0            1.0                  2.0  ...            8.0            3.0   \n",
       "1            1.0                  2.0  ...            1.0            2.0   \n",
       "2            1.0                  2.0  ...            8.0            2.0   \n",
       "3            1.0                  2.0  ...            1.0            3.0   \n",
       "4            1.0                  2.0  ...            8.0            3.0   \n",
       "\n",
       "   Adm_Anaesthesia  Adm_Surgery_Delay_Reason  Adm_Mobilised  \\\n",
       "0              5.0                       7.0            1.0   \n",
       "1              5.0                       0.0            1.0   \n",
       "2              5.0                       0.0            1.0   \n",
       "3              5.0                       0.0            1.0   \n",
       "4              5.0                       2.0            1.0   \n",
       "\n",
       "   Adm_Pressure_Ulcers  Adm_Spec_Falls_Assess  Adm_Bone_Protect_Med  \\\n",
       "0                  2.0                    1.0                   1.0   \n",
       "1                  2.0                    1.0                   1.0   \n",
       "2                  2.0                    1.0                   5.0   \n",
       "3                  2.0                    1.0                   1.0   \n",
       "4                  2.0                    1.0                   1.0   \n",
       "\n",
       "   Adm_Multi_Rehab_Assess       date  \n",
       "0                     1.0 2016-09-06  \n",
       "1                     1.0 2016-09-15  \n",
       "2                     1.0 2016-09-14  \n",
       "3                     1.0 2016-09-04  \n",
       "4                     1.0 2016-08-23  \n",
       "\n",
       "[5 rows x 28 columns]"
      ]
     },
     "execution_count": 36,
     "metadata": {},
     "output_type": "execute_result"
    }
   ],
   "source": [
    "df_ihfd.head()"
   ]
  },
  {
   "cell_type": "code",
   "execution_count": 37,
   "id": "e39850d2-e65c-4a79-976d-a607a155e9c8",
   "metadata": {
    "execution": {
     "iopub.execute_input": "2025-02-03T16:11:15.558029Z",
     "iopub.status.busy": "2025-02-03T16:11:15.557671Z",
     "iopub.status.idle": "2025-02-03T16:11:15.577100Z",
     "shell.execute_reply": "2025-02-03T16:11:15.575779Z",
     "shell.execute_reply.started": "2025-02-03T16:11:15.558008Z"
    }
   },
   "outputs": [
    {
     "name": "stdout",
     "output_type": "stream",
     "text": [
      "Some dates fall on a weekend.\n",
      "Weekend dates found:\n",
      "3       2016-09-04\n",
      "14      2016-08-20\n",
      "15      2016-09-18\n",
      "19      2016-09-17\n",
      "23      2016-10-01\n",
      "           ...    \n",
      "37305   2023-12-23\n",
      "37307   2023-12-30\n",
      "37310   2023-12-24\n",
      "37312   2023-12-17\n",
      "37315   2023-12-31\n",
      "Name: Adm_First_Pres_Hosp_DateTime, Length: 10202, dtype: datetime64[ns]\n"
     ]
    }
   ],
   "source": [
    "##check if all ihfd dates are mon to friday \n",
    "df_ihfd['Adm_First_Pres_Hosp_DateTime'] = pd.to_datetime(df_ihfd['Adm_First_Pres_Hosp_DateTime'])\n",
    "\n",
    "# Create a boolean Series: True if the date is a weekday (Mon=0 to Fri=4)\n",
    "weekdays = df_ihfd['Adm_First_Pres_Hosp_DateTime'].dt.dayofweek < 5\n",
    "\n",
    "# Check if all dates are weekdays\n",
    "if weekdays.all():\n",
    "    print(\"All dates are Monday through Friday.\")\n",
    "else:\n",
    "    print(\"Some dates fall on a weekend.\")\n",
    "    \n",
    "    # Optional: To see which dates are weekends\n",
    "    weekend_dates = df_ihfd.loc[~weekdays, 'Adm_First_Pres_Hosp_DateTime']\n",
    "    print(\"Weekend dates found:\")\n",
    "    print(weekend_dates)"
   ]
  },
  {
   "cell_type": "code",
   "execution_count": 38,
   "id": "8cafa730-94d9-4e70-b6b0-6d884b868c88",
   "metadata": {
    "execution": {
     "iopub.execute_input": "2025-02-03T16:11:16.444324Z",
     "iopub.status.busy": "2025-02-03T16:11:16.443416Z",
     "iopub.status.idle": "2025-02-03T16:11:16.455341Z",
     "shell.execute_reply": "2025-02-03T16:11:16.453281Z",
     "shell.execute_reply.started": "2025-02-03T16:11:16.444277Z"
    }
   },
   "outputs": [],
   "source": [
    "df_ihfd.rename(columns={\"New Health Regions\": \"region\"}, inplace=True)\n"
   ]
  },
  {
   "cell_type": "code",
   "execution_count": 39,
   "id": "c82aea77-ae18-403b-a0cc-6bbb13d4f99d",
   "metadata": {
    "execution": {
     "iopub.execute_input": "2025-02-03T16:11:17.203337Z",
     "iopub.status.busy": "2025-02-03T16:11:17.202836Z",
     "iopub.status.idle": "2025-02-03T16:11:17.216750Z",
     "shell.execute_reply": "2025-02-03T16:11:17.213424Z",
     "shell.execute_reply.started": "2025-02-03T16:11:17.203297Z"
    }
   },
   "outputs": [],
   "source": [
    "df_ihfd.rename(columns={\"NOCA_Gender\": \"sex\"}, inplace=True)"
   ]
  },
  {
   "cell_type": "code",
   "execution_count": 40,
   "id": "22a02ce4-8b9d-4a39-adda-329f8f7a0eab",
   "metadata": {
    "execution": {
     "iopub.execute_input": "2025-02-03T16:11:17.973145Z",
     "iopub.status.busy": "2025-02-03T16:11:17.972445Z",
     "iopub.status.idle": "2025-02-03T16:11:18.017245Z",
     "shell.execute_reply": "2025-02-03T16:11:18.014985Z",
     "shell.execute_reply.started": "2025-02-03T16:11:17.973096Z"
    }
   },
   "outputs": [
    {
     "data": {
      "text/html": [
       "<div>\n",
       "<style scoped>\n",
       "    .dataframe tbody tr th:only-of-type {\n",
       "        vertical-align: middle;\n",
       "    }\n",
       "\n",
       "    .dataframe tbody tr th {\n",
       "        vertical-align: top;\n",
       "    }\n",
       "\n",
       "    .dataframe thead th {\n",
       "        text-align: right;\n",
       "    }\n",
       "</style>\n",
       "<table border=\"1\" class=\"dataframe\">\n",
       "  <thead>\n",
       "    <tr style=\"text-align: right;\">\n",
       "      <th></th>\n",
       "      <th>region</th>\n",
       "      <th>NOCA_TraumaPeriodDay</th>\n",
       "      <th>Adm_First_Pres_Hosp_DateTime</th>\n",
       "      <th>NOCA_FirstPresPeriodDay</th>\n",
       "      <th>NOCA_AgeRange</th>\n",
       "      <th>sex</th>\n",
       "      <th>LOS</th>\n",
       "      <th>Adm_Trauma_TYPE</th>\n",
       "      <th>Adm_Ward_Type</th>\n",
       "      <th>Adm_Pre_Frac_Indoor</th>\n",
       "      <th>...</th>\n",
       "      <th>Adm_Operation</th>\n",
       "      <th>Adm_Asa_Grade</th>\n",
       "      <th>Adm_Anaesthesia</th>\n",
       "      <th>Adm_Surgery_Delay_Reason</th>\n",
       "      <th>Adm_Mobilised</th>\n",
       "      <th>Adm_Pressure_Ulcers</th>\n",
       "      <th>Adm_Spec_Falls_Assess</th>\n",
       "      <th>Adm_Bone_Protect_Med</th>\n",
       "      <th>Adm_Multi_Rehab_Assess</th>\n",
       "      <th>date</th>\n",
       "    </tr>\n",
       "  </thead>\n",
       "  <tbody>\n",
       "    <tr>\n",
       "      <th>0</th>\n",
       "      <td>HSE Mid West</td>\n",
       "      <td>AM</td>\n",
       "      <td>2016-09-06</td>\n",
       "      <td>PM</td>\n",
       "      <td>70-74</td>\n",
       "      <td>Female</td>\n",
       "      <td>12</td>\n",
       "      <td>2.0</td>\n",
       "      <td>1.0</td>\n",
       "      <td>2.0</td>\n",
       "      <td>...</td>\n",
       "      <td>8.0</td>\n",
       "      <td>3.0</td>\n",
       "      <td>5.0</td>\n",
       "      <td>7.0</td>\n",
       "      <td>1.0</td>\n",
       "      <td>2.0</td>\n",
       "      <td>1.0</td>\n",
       "      <td>1.0</td>\n",
       "      <td>1.0</td>\n",
       "      <td>2016-09-06</td>\n",
       "    </tr>\n",
       "    <tr>\n",
       "      <th>1</th>\n",
       "      <td>HSE Mid West</td>\n",
       "      <td>AM</td>\n",
       "      <td>2016-09-15</td>\n",
       "      <td>Night</td>\n",
       "      <td>90-94</td>\n",
       "      <td>Female</td>\n",
       "      <td>4</td>\n",
       "      <td>2.0</td>\n",
       "      <td>1.0</td>\n",
       "      <td>2.0</td>\n",
       "      <td>...</td>\n",
       "      <td>1.0</td>\n",
       "      <td>2.0</td>\n",
       "      <td>5.0</td>\n",
       "      <td>0.0</td>\n",
       "      <td>1.0</td>\n",
       "      <td>2.0</td>\n",
       "      <td>1.0</td>\n",
       "      <td>1.0</td>\n",
       "      <td>1.0</td>\n",
       "      <td>2016-09-15</td>\n",
       "    </tr>\n",
       "    <tr>\n",
       "      <th>2</th>\n",
       "      <td>HSE Mid West</td>\n",
       "      <td>AM</td>\n",
       "      <td>2016-09-14</td>\n",
       "      <td>AM</td>\n",
       "      <td>75-79</td>\n",
       "      <td>Male</td>\n",
       "      <td>6</td>\n",
       "      <td>2.0</td>\n",
       "      <td>1.0</td>\n",
       "      <td>2.0</td>\n",
       "      <td>...</td>\n",
       "      <td>8.0</td>\n",
       "      <td>2.0</td>\n",
       "      <td>5.0</td>\n",
       "      <td>0.0</td>\n",
       "      <td>1.0</td>\n",
       "      <td>2.0</td>\n",
       "      <td>1.0</td>\n",
       "      <td>5.0</td>\n",
       "      <td>1.0</td>\n",
       "      <td>2016-09-14</td>\n",
       "    </tr>\n",
       "    <tr>\n",
       "      <th>3</th>\n",
       "      <td>HSE Mid West</td>\n",
       "      <td>AM</td>\n",
       "      <td>2016-09-04</td>\n",
       "      <td>AM</td>\n",
       "      <td>90-94</td>\n",
       "      <td>Female</td>\n",
       "      <td>16</td>\n",
       "      <td>2.0</td>\n",
       "      <td>1.0</td>\n",
       "      <td>2.0</td>\n",
       "      <td>...</td>\n",
       "      <td>1.0</td>\n",
       "      <td>3.0</td>\n",
       "      <td>5.0</td>\n",
       "      <td>0.0</td>\n",
       "      <td>1.0</td>\n",
       "      <td>2.0</td>\n",
       "      <td>1.0</td>\n",
       "      <td>1.0</td>\n",
       "      <td>1.0</td>\n",
       "      <td>2016-09-04</td>\n",
       "    </tr>\n",
       "    <tr>\n",
       "      <th>4</th>\n",
       "      <td>HSE Mid West</td>\n",
       "      <td>AM</td>\n",
       "      <td>2016-08-23</td>\n",
       "      <td>Night</td>\n",
       "      <td>65-69</td>\n",
       "      <td>Male</td>\n",
       "      <td>29</td>\n",
       "      <td>2.0</td>\n",
       "      <td>1.0</td>\n",
       "      <td>2.0</td>\n",
       "      <td>...</td>\n",
       "      <td>8.0</td>\n",
       "      <td>3.0</td>\n",
       "      <td>5.0</td>\n",
       "      <td>2.0</td>\n",
       "      <td>1.0</td>\n",
       "      <td>2.0</td>\n",
       "      <td>1.0</td>\n",
       "      <td>1.0</td>\n",
       "      <td>1.0</td>\n",
       "      <td>2016-08-23</td>\n",
       "    </tr>\n",
       "  </tbody>\n",
       "</table>\n",
       "<p>5 rows × 28 columns</p>\n",
       "</div>"
      ],
      "text/plain": [
       "         region NOCA_TraumaPeriodDay Adm_First_Pres_Hosp_DateTime  \\\n",
       "0  HSE Mid West                   AM                   2016-09-06   \n",
       "1  HSE Mid West                   AM                   2016-09-15   \n",
       "2  HSE Mid West                   AM                   2016-09-14   \n",
       "3  HSE Mid West                   AM                   2016-09-04   \n",
       "4  HSE Mid West                   AM                   2016-08-23   \n",
       "\n",
       "  NOCA_FirstPresPeriodDay NOCA_AgeRange     sex  LOS  Adm_Trauma_TYPE  \\\n",
       "0                      PM         70-74  Female   12              2.0   \n",
       "1                   Night         90-94  Female    4              2.0   \n",
       "2                      AM         75-79    Male    6              2.0   \n",
       "3                      AM         90-94  Female   16              2.0   \n",
       "4                   Night         65-69    Male   29              2.0   \n",
       "\n",
       "   Adm_Ward_Type  Adm_Pre_Frac_Indoor  ...  Adm_Operation  Adm_Asa_Grade  \\\n",
       "0            1.0                  2.0  ...            8.0            3.0   \n",
       "1            1.0                  2.0  ...            1.0            2.0   \n",
       "2            1.0                  2.0  ...            8.0            2.0   \n",
       "3            1.0                  2.0  ...            1.0            3.0   \n",
       "4            1.0                  2.0  ...            8.0            3.0   \n",
       "\n",
       "   Adm_Anaesthesia  Adm_Surgery_Delay_Reason  Adm_Mobilised  \\\n",
       "0              5.0                       7.0            1.0   \n",
       "1              5.0                       0.0            1.0   \n",
       "2              5.0                       0.0            1.0   \n",
       "3              5.0                       0.0            1.0   \n",
       "4              5.0                       2.0            1.0   \n",
       "\n",
       "   Adm_Pressure_Ulcers  Adm_Spec_Falls_Assess  Adm_Bone_Protect_Med  \\\n",
       "0                  2.0                    1.0                   1.0   \n",
       "1                  2.0                    1.0                   1.0   \n",
       "2                  2.0                    1.0                   5.0   \n",
       "3                  2.0                    1.0                   1.0   \n",
       "4                  2.0                    1.0                   1.0   \n",
       "\n",
       "   Adm_Multi_Rehab_Assess       date  \n",
       "0                     1.0 2016-09-06  \n",
       "1                     1.0 2016-09-15  \n",
       "2                     1.0 2016-09-14  \n",
       "3                     1.0 2016-09-04  \n",
       "4                     1.0 2016-08-23  \n",
       "\n",
       "[5 rows x 28 columns]"
      ]
     },
     "execution_count": 40,
     "metadata": {},
     "output_type": "execute_result"
    }
   ],
   "source": [
    "df_ihfd.head()"
   ]
  },
  {
   "cell_type": "code",
   "execution_count": 41,
   "id": "e90a45d0-0c90-4965-8a2a-29fe829b6ea2",
   "metadata": {
    "execution": {
     "iopub.execute_input": "2025-02-03T16:11:19.146455Z",
     "iopub.status.busy": "2025-02-03T16:11:19.145771Z",
     "iopub.status.idle": "2025-02-03T16:11:19.186712Z",
     "shell.execute_reply": "2025-02-03T16:11:19.185283Z",
     "shell.execute_reply.started": "2025-02-03T16:11:19.146401Z"
    }
   },
   "outputs": [],
   "source": [
    "df_ihfd_filtered = df_ihfd[\n",
    "    (df_ihfd['date'] >= '2016-01-01') & \n",
    "    (df_ihfd['date'] <= '2022-12-31')\n",
    "]"
   ]
  },
  {
   "cell_type": "code",
   "execution_count": null,
   "id": "64ef5717-f787-4ba0-bb7d-c1649b11f98e",
   "metadata": {},
   "outputs": [],
   "source": []
  },
  {
   "cell_type": "code",
   "execution_count": 42,
   "id": "3c2f4f7b-d834-4813-a525-78a0635552ee",
   "metadata": {
    "execution": {
     "iopub.execute_input": "2025-02-03T16:11:20.722397Z",
     "iopub.status.busy": "2025-02-03T16:11:20.722047Z",
     "iopub.status.idle": "2025-02-03T16:11:20.777811Z",
     "shell.execute_reply": "2025-02-03T16:11:20.775366Z",
     "shell.execute_reply.started": "2025-02-03T16:11:20.722373Z"
    }
   },
   "outputs": [
    {
     "ename": "KeyError",
     "evalue": "' date'",
     "output_type": "error",
     "traceback": [
      "\u001b[0;31m---------------------------------------------------------------------------\u001b[0m",
      "\u001b[0;31mKeyError\u001b[0m                                  Traceback (most recent call last)",
      "Cell \u001b[0;32mIn[42], line 4\u001b[0m\n\u001b[1;32m      1\u001b[0m \u001b[38;5;66;03m##hip fracture counts\u001b[39;00m\n\u001b[1;32m      2\u001b[0m df_hip_daily \u001b[38;5;241m=\u001b[39m (\n\u001b[1;32m      3\u001b[0m     \u001b[43mdf_ihfd_filtered\u001b[49m\n\u001b[0;32m----> 4\u001b[0m \u001b[43m    \u001b[49m\u001b[38;5;241;43m.\u001b[39;49m\u001b[43mgroupby\u001b[49m\u001b[43m(\u001b[49m\u001b[43m[\u001b[49m\u001b[38;5;124;43m\"\u001b[39;49m\u001b[38;5;124;43mregion\u001b[39;49m\u001b[38;5;124;43m\"\u001b[39;49m\u001b[43m,\u001b[49m\u001b[38;5;124;43m\"\u001b[39;49m\u001b[38;5;124;43m date\u001b[39;49m\u001b[38;5;124;43m\"\u001b[39;49m\u001b[43m]\u001b[49m\u001b[43m,\u001b[49m\u001b[43m \u001b[49m\u001b[43mas_index\u001b[49m\u001b[38;5;241;43m=\u001b[39;49m\u001b[38;5;28;43;01mFalse\u001b[39;49;00m\u001b[43m)\u001b[49m\n\u001b[1;32m      5\u001b[0m     \u001b[38;5;241m.\u001b[39msize()\n\u001b[1;32m      6\u001b[0m     \u001b[38;5;241m.\u001b[39mrename(columns\u001b[38;5;241m=\u001b[39m{\u001b[38;5;124m\"\u001b[39m\u001b[38;5;124msize\u001b[39m\u001b[38;5;124m\"\u001b[39m: \u001b[38;5;124m\"\u001b[39m\u001b[38;5;124mfracture_count\u001b[39m\u001b[38;5;124m\"\u001b[39m})\n\u001b[1;32m      7\u001b[0m )\n",
      "File \u001b[0;32m~/anaconda3/envs/pycaret_3_3_2/lib/python3.11/site-packages/pandas/core/frame.py:8869\u001b[0m, in \u001b[0;36mDataFrame.groupby\u001b[0;34m(self, by, axis, level, as_index, sort, group_keys, observed, dropna)\u001b[0m\n\u001b[1;32m   8866\u001b[0m \u001b[38;5;28;01mif\u001b[39;00m level \u001b[38;5;129;01mis\u001b[39;00m \u001b[38;5;28;01mNone\u001b[39;00m \u001b[38;5;129;01mand\u001b[39;00m by \u001b[38;5;129;01mis\u001b[39;00m \u001b[38;5;28;01mNone\u001b[39;00m:\n\u001b[1;32m   8867\u001b[0m     \u001b[38;5;28;01mraise\u001b[39;00m \u001b[38;5;167;01mTypeError\u001b[39;00m(\u001b[38;5;124m\"\u001b[39m\u001b[38;5;124mYou have to supply one of \u001b[39m\u001b[38;5;124m'\u001b[39m\u001b[38;5;124mby\u001b[39m\u001b[38;5;124m'\u001b[39m\u001b[38;5;124m and \u001b[39m\u001b[38;5;124m'\u001b[39m\u001b[38;5;124mlevel\u001b[39m\u001b[38;5;124m'\u001b[39m\u001b[38;5;124m\"\u001b[39m)\n\u001b[0;32m-> 8869\u001b[0m \u001b[38;5;28;01mreturn\u001b[39;00m \u001b[43mDataFrameGroupBy\u001b[49m\u001b[43m(\u001b[49m\n\u001b[1;32m   8870\u001b[0m \u001b[43m    \u001b[49m\u001b[43mobj\u001b[49m\u001b[38;5;241;43m=\u001b[39;49m\u001b[38;5;28;43mself\u001b[39;49m\u001b[43m,\u001b[49m\n\u001b[1;32m   8871\u001b[0m \u001b[43m    \u001b[49m\u001b[43mkeys\u001b[49m\u001b[38;5;241;43m=\u001b[39;49m\u001b[43mby\u001b[49m\u001b[43m,\u001b[49m\n\u001b[1;32m   8872\u001b[0m \u001b[43m    \u001b[49m\u001b[43maxis\u001b[49m\u001b[38;5;241;43m=\u001b[39;49m\u001b[43maxis\u001b[49m\u001b[43m,\u001b[49m\n\u001b[1;32m   8873\u001b[0m \u001b[43m    \u001b[49m\u001b[43mlevel\u001b[49m\u001b[38;5;241;43m=\u001b[39;49m\u001b[43mlevel\u001b[49m\u001b[43m,\u001b[49m\n\u001b[1;32m   8874\u001b[0m \u001b[43m    \u001b[49m\u001b[43mas_index\u001b[49m\u001b[38;5;241;43m=\u001b[39;49m\u001b[43mas_index\u001b[49m\u001b[43m,\u001b[49m\n\u001b[1;32m   8875\u001b[0m \u001b[43m    \u001b[49m\u001b[43msort\u001b[49m\u001b[38;5;241;43m=\u001b[39;49m\u001b[43msort\u001b[49m\u001b[43m,\u001b[49m\n\u001b[1;32m   8876\u001b[0m \u001b[43m    \u001b[49m\u001b[43mgroup_keys\u001b[49m\u001b[38;5;241;43m=\u001b[39;49m\u001b[43mgroup_keys\u001b[49m\u001b[43m,\u001b[49m\n\u001b[1;32m   8877\u001b[0m \u001b[43m    \u001b[49m\u001b[43mobserved\u001b[49m\u001b[38;5;241;43m=\u001b[39;49m\u001b[43mobserved\u001b[49m\u001b[43m,\u001b[49m\n\u001b[1;32m   8878\u001b[0m \u001b[43m    \u001b[49m\u001b[43mdropna\u001b[49m\u001b[38;5;241;43m=\u001b[39;49m\u001b[43mdropna\u001b[49m\u001b[43m,\u001b[49m\n\u001b[1;32m   8879\u001b[0m \u001b[43m\u001b[49m\u001b[43m)\u001b[49m\n",
      "File \u001b[0;32m~/anaconda3/envs/pycaret_3_3_2/lib/python3.11/site-packages/pandas/core/groupby/groupby.py:1278\u001b[0m, in \u001b[0;36mGroupBy.__init__\u001b[0;34m(self, obj, keys, axis, level, grouper, exclusions, selection, as_index, sort, group_keys, observed, dropna)\u001b[0m\n\u001b[1;32m   1275\u001b[0m \u001b[38;5;28mself\u001b[39m\u001b[38;5;241m.\u001b[39mdropna \u001b[38;5;241m=\u001b[39m dropna\n\u001b[1;32m   1277\u001b[0m \u001b[38;5;28;01mif\u001b[39;00m grouper \u001b[38;5;129;01mis\u001b[39;00m \u001b[38;5;28;01mNone\u001b[39;00m:\n\u001b[0;32m-> 1278\u001b[0m     grouper, exclusions, obj \u001b[38;5;241m=\u001b[39m \u001b[43mget_grouper\u001b[49m\u001b[43m(\u001b[49m\n\u001b[1;32m   1279\u001b[0m \u001b[43m        \u001b[49m\u001b[43mobj\u001b[49m\u001b[43m,\u001b[49m\n\u001b[1;32m   1280\u001b[0m \u001b[43m        \u001b[49m\u001b[43mkeys\u001b[49m\u001b[43m,\u001b[49m\n\u001b[1;32m   1281\u001b[0m \u001b[43m        \u001b[49m\u001b[43maxis\u001b[49m\u001b[38;5;241;43m=\u001b[39;49m\u001b[43maxis\u001b[49m\u001b[43m,\u001b[49m\n\u001b[1;32m   1282\u001b[0m \u001b[43m        \u001b[49m\u001b[43mlevel\u001b[49m\u001b[38;5;241;43m=\u001b[39;49m\u001b[43mlevel\u001b[49m\u001b[43m,\u001b[49m\n\u001b[1;32m   1283\u001b[0m \u001b[43m        \u001b[49m\u001b[43msort\u001b[49m\u001b[38;5;241;43m=\u001b[39;49m\u001b[43msort\u001b[49m\u001b[43m,\u001b[49m\n\u001b[1;32m   1284\u001b[0m \u001b[43m        \u001b[49m\u001b[43mobserved\u001b[49m\u001b[38;5;241;43m=\u001b[39;49m\u001b[38;5;28;43;01mFalse\u001b[39;49;00m\u001b[43m \u001b[49m\u001b[38;5;28;43;01mif\u001b[39;49;00m\u001b[43m \u001b[49m\u001b[43mobserved\u001b[49m\u001b[43m \u001b[49m\u001b[38;5;129;43;01mis\u001b[39;49;00m\u001b[43m \u001b[49m\u001b[43mlib\u001b[49m\u001b[38;5;241;43m.\u001b[39;49m\u001b[43mno_default\u001b[49m\u001b[43m \u001b[49m\u001b[38;5;28;43;01melse\u001b[39;49;00m\u001b[43m \u001b[49m\u001b[43mobserved\u001b[49m\u001b[43m,\u001b[49m\n\u001b[1;32m   1285\u001b[0m \u001b[43m        \u001b[49m\u001b[43mdropna\u001b[49m\u001b[38;5;241;43m=\u001b[39;49m\u001b[38;5;28;43mself\u001b[39;49m\u001b[38;5;241;43m.\u001b[39;49m\u001b[43mdropna\u001b[49m\u001b[43m,\u001b[49m\n\u001b[1;32m   1286\u001b[0m \u001b[43m    \u001b[49m\u001b[43m)\u001b[49m\n\u001b[1;32m   1288\u001b[0m \u001b[38;5;28;01mif\u001b[39;00m observed \u001b[38;5;129;01mis\u001b[39;00m lib\u001b[38;5;241m.\u001b[39mno_default:\n\u001b[1;32m   1289\u001b[0m     \u001b[38;5;28;01mif\u001b[39;00m \u001b[38;5;28many\u001b[39m(ping\u001b[38;5;241m.\u001b[39m_passed_categorical \u001b[38;5;28;01mfor\u001b[39;00m ping \u001b[38;5;129;01min\u001b[39;00m grouper\u001b[38;5;241m.\u001b[39mgroupings):\n",
      "File \u001b[0;32m~/anaconda3/envs/pycaret_3_3_2/lib/python3.11/site-packages/pandas/core/groupby/grouper.py:1009\u001b[0m, in \u001b[0;36mget_grouper\u001b[0;34m(obj, key, axis, level, sort, observed, validate, dropna)\u001b[0m\n\u001b[1;32m   1007\u001b[0m         in_axis, level, gpr \u001b[38;5;241m=\u001b[39m \u001b[38;5;28;01mFalse\u001b[39;00m, gpr, \u001b[38;5;28;01mNone\u001b[39;00m\n\u001b[1;32m   1008\u001b[0m     \u001b[38;5;28;01melse\u001b[39;00m:\n\u001b[0;32m-> 1009\u001b[0m         \u001b[38;5;28;01mraise\u001b[39;00m \u001b[38;5;167;01mKeyError\u001b[39;00m(gpr)\n\u001b[1;32m   1010\u001b[0m \u001b[38;5;28;01melif\u001b[39;00m \u001b[38;5;28misinstance\u001b[39m(gpr, Grouper) \u001b[38;5;129;01mand\u001b[39;00m gpr\u001b[38;5;241m.\u001b[39mkey \u001b[38;5;129;01mis\u001b[39;00m \u001b[38;5;129;01mnot\u001b[39;00m \u001b[38;5;28;01mNone\u001b[39;00m:\n\u001b[1;32m   1011\u001b[0m     \u001b[38;5;66;03m# Add key to exclusions\u001b[39;00m\n\u001b[1;32m   1012\u001b[0m     exclusions\u001b[38;5;241m.\u001b[39madd(gpr\u001b[38;5;241m.\u001b[39mkey)\n",
      "\u001b[0;31mKeyError\u001b[0m: ' date'"
     ]
    }
   ],
   "source": [
    "##hip fracture counts\n",
    "df_hip_daily = (\n",
    "    df_ihfd_filtered\n",
    "    .groupby([\"region\",\" date\"], as_index=False)\n",
    "    .size()\n",
    "    .rename(columns={\"size\": \"fracture_count\"})\n",
    ")"
   ]
  },
  {
   "cell_type": "code",
   "execution_count": null,
   "id": "a804cd85-e331-451b-8572-d2b84f067a15",
   "metadata": {},
   "outputs": [],
   "source": [
    "df_merged_all = pd.merge(\n",
    "    df_hip_daily,             # (region, date, sex, fracture_count)\n",
    "    df_weather_filtered,               # (region, date, weather columns)\n",
    "    on=[\"region\", \"date\"],\n",
    "    how=\"left\"\n",
    ")"
   ]
  },
  {
   "cell_type": "code",
   "execution_count": null,
   "id": "e4928698-6be4-461d-a355-94ec9b3a503e",
   "metadata": {},
   "outputs": [],
   "source": [
    "df_merged_all.describe()"
   ]
  },
  {
   "cell_type": "code",
   "execution_count": null,
   "id": "d725603f-5440-4e8f-8975-64ac3d803f43",
   "metadata": {},
   "outputs": [],
   "source": [
    "df_merged_all['year'] = df_merged_all['date'].dt.year"
   ]
  },
  {
   "cell_type": "code",
   "execution_count": null,
   "id": "609062d9-2439-4860-9c89-60a9752ad35f",
   "metadata": {},
   "outputs": [],
   "source": [
    "df_merged_all = pd.merge(\n",
    "    df_merged_all,\n",
    "    df_region_sex_year,  # your population DataFrame\n",
    "    on=[\"region\", \"sex\", \"year\"],  # common keys\n",
    "    how=\"left\"  # Use a left merge so all daily rows remain even if population data is missing\n",
    ")\n"
   ]
  },
  {
   "cell_type": "code",
   "execution_count": null,
   "id": "3d48e1e2-f83c-428a-916b-d5f1b9efea7a",
   "metadata": {},
   "outputs": [],
   "source": [
    "df_merged_all.head(10)"
   ]
  },
  {
   "cell_type": "code",
   "execution_count": null,
   "id": "507ce661-f36d-4be6-b13f-fff86beb6290",
   "metadata": {},
   "outputs": [],
   "source": [
    "df_merged_all.drop(columns=[\"Issue Time\", \"Warning Text\"], inplace=True)"
   ]
  },
  {
   "cell_type": "code",
   "execution_count": null,
   "id": "43fccae5-3f9c-470d-9749-a2aa2f54375f",
   "metadata": {},
   "outputs": [],
   "source": [
    "##check wetaher data \n",
    "# Check how many rows have a non-null weather_flag\n",
    "num_with_weather = df_merged_all['weather_flag'].notnull().sum()\n",
    "total_rows = len(df_merged_all)\n",
    "print(f\"Rows with weather data: {num_with_weather} / {total_rows}\")\n",
    "\n",
    "# Inspect a few rows that have weather data\n",
    "df_weather_present = df_merged_all[df_merged_all['weather_flag'].notnull()]\n",
    "print(df_weather_present.head())\n"
   ]
  },
  {
   "cell_type": "code",
   "execution_count": null,
   "id": "2d5688bc-c82d-4891-9435-c79d1d6eb069",
   "metadata": {},
   "outputs": [],
   "source": [
    "df_merged_all[\"Warning Colour\"] = df_merged_all[\"Warning Colour\"].fillna(\"unknown\")\n",
    "df_merged_all[\"Warning Element\"] = df_merged_all[\"Warning Element\"].fillna(\"unknown\")"
   ]
  },
  {
   "cell_type": "code",
   "execution_count": null,
   "id": "59816959-66b3-4893-b0d9-7e2a6c07e1ee",
   "metadata": {},
   "outputs": [],
   "source": [
    "df_merged_all[\"weather_flag\"] = df_merged_all[\"weather_flag\"].fillna(0)\n",
    "df_merged_all[\"Duration_hours\"] = df_merged_all[\"Duration_hours\"].fillna(0)"
   ]
  },
  {
   "cell_type": "code",
   "execution_count": null,
   "id": "b03e27ee-e93e-4f6b-ac08-1f968e5fe4d5",
   "metadata": {},
   "outputs": [],
   "source": [
    "df_merged_all[\"population_60plus\"] = df_merged_all[\"population_60plus\"].fillna(df_merged_all[\"population_60plus\"].median())"
   ]
  },
  {
   "cell_type": "code",
   "execution_count": null,
   "id": "b233f9e0-1a13-444a-88db-ad2c83ec63ca",
   "metadata": {},
   "outputs": [],
   "source": [
    "missing_percentage = df_merged_all.isnull().mean() * 100\n",
    "\n",
    "# Print the result\n",
    "print(missing_percentage)"
   ]
  },
  {
   "cell_type": "code",
   "execution_count": null,
   "id": "80490426-3879-4f48-ab99-2768b5912b28",
   "metadata": {},
   "outputs": [],
   "source": [
    "df_merged_all.to_csv('/mnt/hgfs/shared/project_data/processed/WEATHERED_met-eirenn_ihfd_merged.csv', index=False)"
   ]
  },
  {
   "cell_type": "code",
   "execution_count": null,
   "id": "a0f281a8-b187-4c95-b90a-ad86e12c19ba",
   "metadata": {},
   "outputs": [],
   "source": []
  }
 ],
 "metadata": {
  "kernelspec": {
   "display_name": "Python 3 (ipykernel)",
   "language": "python",
   "name": "python3"
  },
  "language_info": {
   "codemirror_mode": {
    "name": "ipython",
    "version": 3
   },
   "file_extension": ".py",
   "mimetype": "text/x-python",
   "name": "python",
   "nbconvert_exporter": "python",
   "pygments_lexer": "ipython3",
   "version": "3.11.11"
  }
 },
 "nbformat": 4,
 "nbformat_minor": 5
}
