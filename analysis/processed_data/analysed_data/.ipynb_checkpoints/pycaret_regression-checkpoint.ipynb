{
 "cells": [
  {
   "cell_type": "code",
   "execution_count": 1,
   "id": "b5afa668-ecfa-41cd-b9e4-307eac296230",
   "metadata": {
    "execution": {
     "iopub.execute_input": "2025-02-01T17:59:39.404830Z",
     "iopub.status.busy": "2025-02-01T17:59:39.404192Z",
     "iopub.status.idle": "2025-02-01T17:59:39.427914Z",
     "shell.execute_reply": "2025-02-01T17:59:39.426716Z",
     "shell.execute_reply.started": "2025-02-01T17:59:39.404750Z"
    }
   },
   "outputs": [],
   "source": [
    "import glob\n",
    "import os\n",
    "import xml.etree.ElementTree as ET\n",
    "from datetime import datetime, timezone\n",
    "from tqdm import tqdm\n",
    "import codecs\n",
    "import csv\n",
    "import pandas as pd\n",
    "import numpy as np"
   ]
  },
  {
   "cell_type": "code",
   "execution_count": 2,
   "id": "b7c64f55-7395-46f4-af0c-b80c14a9632e",
   "metadata": {
    "execution": {
     "iopub.execute_input": "2025-02-01T17:59:40.178590Z",
     "iopub.status.busy": "2025-02-01T17:59:40.177354Z",
     "iopub.status.idle": "2025-02-01T17:59:40.305638Z",
     "shell.execute_reply": "2025-02-01T17:59:40.303292Z",
     "shell.execute_reply.started": "2025-02-01T17:59:40.178543Z"
    }
   },
   "outputs": [
    {
     "data": {
      "text/plain": [
       "'3.3.2'"
      ]
     },
     "execution_count": 2,
     "metadata": {},
     "output_type": "execute_result"
    }
   ],
   "source": [
    "from pycaret.utils import version\n",
    "version()"
   ]
  },
  {
   "cell_type": "code",
   "execution_count": 3,
   "id": "fa0ce10e-ae5b-4256-ade0-6658377ff3f7",
   "metadata": {
    "execution": {
     "iopub.execute_input": "2025-02-01T17:59:47.570257Z",
     "iopub.status.busy": "2025-02-01T17:59:47.569163Z",
     "iopub.status.idle": "2025-02-01T17:59:47.577353Z",
     "shell.execute_reply": "2025-02-01T17:59:47.575217Z",
     "shell.execute_reply.started": "2025-02-01T17:59:47.570227Z"
    }
   },
   "outputs": [],
   "source": [
    "merged_ihfd_met= \"/mnt/hgfs/shared/project_data/processed/WEATHERED_met-eirenn_ihfd_merged.csv\"\n",
    "full_path_merged = os.path.abspath(merged_ihfd_met)"
   ]
  },
  {
   "cell_type": "code",
   "execution_count": 4,
   "id": "1803a279-d233-4ffd-a691-ae747566f06e",
   "metadata": {
    "execution": {
     "iopub.execute_input": "2025-02-01T17:59:48.341858Z",
     "iopub.status.busy": "2025-02-01T17:59:48.341170Z",
     "iopub.status.idle": "2025-02-01T17:59:48.847008Z",
     "shell.execute_reply": "2025-02-01T17:59:48.844931Z",
     "shell.execute_reply.started": "2025-02-01T17:59:48.341815Z"
    }
   },
   "outputs": [],
   "source": [
    "merged_reg = pd.read_csv(full_path_merged)"
   ]
  },
  {
   "cell_type": "code",
   "execution_count": 5,
   "id": "8bec3eeb-4a86-4321-8e16-11fedd87eaa2",
   "metadata": {
    "execution": {
     "iopub.execute_input": "2025-02-01T17:59:48.996424Z",
     "iopub.status.busy": "2025-02-01T17:59:48.995730Z",
     "iopub.status.idle": "2025-02-01T17:59:49.009914Z",
     "shell.execute_reply": "2025-02-01T17:59:49.006629Z",
     "shell.execute_reply.started": "2025-02-01T17:59:48.996385Z"
    }
   },
   "outputs": [
    {
     "data": {
      "text/plain": [
       "(56316, 44)"
      ]
     },
     "execution_count": 5,
     "metadata": {},
     "output_type": "execute_result"
    }
   ],
   "source": [
    "merged_reg.shape"
   ]
  },
  {
   "cell_type": "code",
   "execution_count": 6,
   "id": "1fd87b91-946b-4eb7-89a7-8f4713c890fc",
   "metadata": {
    "execution": {
     "iopub.execute_input": "2025-02-01T17:59:49.550450Z",
     "iopub.status.busy": "2025-02-01T17:59:49.548895Z",
     "iopub.status.idle": "2025-02-01T17:59:49.569920Z",
     "shell.execute_reply": "2025-02-01T17:59:49.568468Z",
     "shell.execute_reply.started": "2025-02-01T17:59:49.550416Z"
    }
   },
   "outputs": [
    {
     "name": "stdout",
     "output_type": "stream",
     "text": [
      "Numeric columns: Index(['LOS', 'Adm_Trauma_TYPE', 'Adm_Ward_Type', 'Adm_Pre_Frac_Indoor',\n",
      "       'Adm_PRE_Frac_Outdoor', 'Adm_Pre_Frac_Shop', 'Adm_Pre_Frac_Number',\n",
      "       'Adm_Fracture_Type', 'Adm_Pathological', 'Adm_Fragility',\n",
      "       'Adm_Pre_OP_Med_Assess', 'Adm_Ger_Acute_Assess', 'Adm_Operation',\n",
      "       'Adm_Asa_Grade', 'Adm_Anaesthesia', 'Adm_Surgery_Delay_Reason',\n",
      "       'Adm_Mobilised', 'Adm_Pressure_Ulcers', 'Adm_Spec_Falls_Assess',\n",
      "       'Adm_Bone_Protect_Med', 'Adm_Multi_Rehab_Assess', 'Duration_hours',\n",
      "       'weather_flag'],\n",
      "      dtype='object')\n",
      "Categorical columns: Index(['region', 'NOCA_TraumaPeriodDay', 'Adm_First_Pres_Hosp_DateTime',\n",
      "       'NOCA_FirstPresPeriodDay', 'NOCA_AgeRange', 'NOCA_Gender', 'date_x',\n",
      "       'date_only', 'date_y', 'Issue Time', 'Valid From', 'Valid To',\n",
      "       'Warning Colour', 'Warning Element', 'Warning Text'],\n",
      "      dtype='object')\n"
     ]
    }
   ],
   "source": [
    "# numeric columns\n",
    "numeric_cols = merged_reg.select_dtypes(include=[np.number]).columns\n",
    "\n",
    "# categorical (object) columns\n",
    "categorical_cols = merged_reg.select_dtypes(include=[\"object\", \"category\"]).columns\n",
    "\n",
    "print(\"Numeric columns:\", numeric_cols)\n",
    "print(\"Categorical columns:\", categorical_cols)"
   ]
  },
  {
   "cell_type": "code",
   "execution_count": 7,
   "id": "68fb294a-8656-431e-b18c-3ae9730e01b6",
   "metadata": {
    "execution": {
     "iopub.execute_input": "2025-02-01T17:59:50.604352Z",
     "iopub.status.busy": "2025-02-01T17:59:50.604080Z",
     "iopub.status.idle": "2025-02-01T17:59:52.434916Z",
     "shell.execute_reply": "2025-02-01T17:59:52.433081Z",
     "shell.execute_reply.started": "2025-02-01T17:59:50.604333Z"
    }
   },
   "outputs": [],
   "source": [
    "from pycaret.regression import *"
   ]
  },
  {
   "cell_type": "code",
   "execution_count": 9,
   "id": "527514f5-b83b-4b92-95d9-021dde5a1902",
   "metadata": {
    "execution": {
     "iopub.execute_input": "2025-02-01T18:01:02.095794Z",
     "iopub.status.busy": "2025-02-01T18:01:02.095041Z",
     "iopub.status.idle": "2025-02-01T18:01:02.127874Z",
     "shell.execute_reply": "2025-02-01T18:01:02.124854Z",
     "shell.execute_reply.started": "2025-02-01T18:01:02.095732Z"
    }
   },
   "outputs": [
    {
     "ename": "NameError",
     "evalue": "name 'ignore' is not defined",
     "output_type": "error",
     "traceback": [
      "\u001b[0;31m---------------------------------------------------------------------------\u001b[0m",
      "\u001b[0;31mNameError\u001b[0m                                 Traceback (most recent call last)",
      "Cell \u001b[0;32mIn[9], line 2\u001b[0m\n\u001b[1;32m      1\u001b[0m exp2 \u001b[38;5;241m=\u001b[39m RegressionExperiment() \n\u001b[0;32m----> 2\u001b[0m exp2\u001b[38;5;241m.\u001b[39msetup(merged_reg, ignore_features\u001b[38;5;241m=\u001b[39m\u001b[43mignore\u001b[49m, target\u001b[38;5;241m=\u001b[39m\u001b[38;5;124m'\u001b[39m\u001b[38;5;124mweather_flag\u001b[39m\u001b[38;5;124m'\u001b[39m, session_id\u001b[38;5;241m=\u001b[39m\u001b[38;5;241m555\u001b[39m, train_size\u001b[38;5;241m=\u001b[39m\u001b[38;5;241m0.7\u001b[39m, categorical_features\u001b[38;5;241m=\u001b[39m categoricals, numeric_features\u001b[38;5;241m=\u001b[39mnumericals, numeric_imputation\u001b[38;5;241m=\u001b[39m\u001b[38;5;124m'\u001b[39m\u001b[38;5;124mmean\u001b[39m\u001b[38;5;124m'\u001b[39m, categorical_imputation\u001b[38;5;241m=\u001b[39m\u001b[38;5;124m'\u001b[39m\u001b[38;5;124mmode\u001b[39m\u001b[38;5;124m'\u001b[39m ,\n\u001b[1;32m      3\u001b[0m            preprocess\u001b[38;5;241m=\u001b[39m\u001b[38;5;28;01mTrue\u001b[39;00m, normalize\u001b[38;5;241m=\u001b[39m\u001b[38;5;28;01mTrue\u001b[39;00m , remove_outliers\u001b[38;5;241m=\u001b[39m\u001b[38;5;28;01mTrue\u001b[39;00m, ordinal_features\u001b[38;5;241m=\u001b[39m\u001b[38;5;28;01mNone\u001b[39;00m)\n",
      "\u001b[0;31mNameError\u001b[0m: name 'ignore' is not defined"
     ]
    }
   ],
   "source": [
    "exp2 = RegressionExperiment() \n",
    "exp2.setup(merged_reg, ignore_features=ignore, target='weather_flag', session_id=555, train_size=0.7, categorical_features= categoricals, numeric_features=numericals, numeric_imputation='mean', categorical_imputation='mode' ,\n",
    "           preprocess=True, normalize=True , remove_outliers=True, ordinal_features=None)"
   ]
  },
  {
   "cell_type": "code",
   "execution_count": null,
   "id": "e7a02621-17f0-4a80-b42f-03c828c7739b",
   "metadata": {},
   "outputs": [],
   "source": []
  }
 ],
 "metadata": {
  "kernelspec": {
   "display_name": "Python 3 (ipykernel)",
   "language": "python",
   "name": "python3"
  },
  "language_info": {
   "codemirror_mode": {
    "name": "ipython",
    "version": 3
   },
   "file_extension": ".py",
   "mimetype": "text/x-python",
   "name": "python",
   "nbconvert_exporter": "python",
   "pygments_lexer": "ipython3",
   "version": "3.11.11"
  }
 },
 "nbformat": 4,
 "nbformat_minor": 5
}
